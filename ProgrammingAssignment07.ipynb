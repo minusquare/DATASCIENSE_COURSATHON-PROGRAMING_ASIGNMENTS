{
 "cells": [
  {
   "cell_type": "markdown",
   "id": "a17fb72e",
   "metadata": {},
   "source": [
    "# 1.\n",
    "Write a Python Program to find sum of array?"
   ]
  },
  {
   "cell_type": "code",
   "execution_count": 2,
   "id": "b69df3c2",
   "metadata": {
    "ExecuteTime": {
     "end_time": "2022-03-07T04:25:06.013560Z",
     "start_time": "2022-03-07T04:25:05.983568Z"
    }
   },
   "outputs": [
    {
     "data": {
      "text/plain": [
       "15"
      ]
     },
     "execution_count": 2,
     "metadata": {},
     "output_type": "execute_result"
    }
   ],
   "source": [
    "def array_sum(array):\n",
    "    return sum(array)\n",
    "array_sum([1,2,3,4,5])\n",
    "    "
   ]
  },
  {
   "cell_type": "code",
   "execution_count": 5,
   "id": "9c368dbc",
   "metadata": {
    "ExecuteTime": {
     "end_time": "2022-03-07T04:27:30.010571Z",
     "start_time": "2022-03-07T04:27:29.990569Z"
    }
   },
   "outputs": [
    {
     "data": {
      "text/plain": [
       "15"
      ]
     },
     "execution_count": 5,
     "metadata": {},
     "output_type": "execute_result"
    }
   ],
   "source": [
    "# without using sum() funcrion\n",
    "def array_sum2(array):\n",
    "    sum = 0\n",
    "    for i in range(0,len(array)):\n",
    "        sum += array[i]\n",
    "    return sum\n",
    "array_sum2([1,2,3,4,5])"
   ]
  },
  {
   "cell_type": "markdown",
   "id": "35f9c244",
   "metadata": {},
   "source": [
    "# 2.\n",
    "Write a Python Program to find largest element in an array?"
   ]
  },
  {
   "cell_type": "code",
   "execution_count": 6,
   "id": "10f3d71b",
   "metadata": {
    "ExecuteTime": {
     "end_time": "2022-03-07T04:29:32.752221Z",
     "start_time": "2022-03-07T04:29:32.740186Z"
    }
   },
   "outputs": [
    {
     "data": {
      "text/plain": [
       "5"
      ]
     },
     "execution_count": 6,
     "metadata": {},
     "output_type": "execute_result"
    }
   ],
   "source": [
    "def find_largest(array):\n",
    "    return max(array)\n",
    "find_largest([1,2,3,4,5])"
   ]
  },
  {
   "cell_type": "code",
   "execution_count": 8,
   "id": "2e1c8cbe",
   "metadata": {
    "ExecuteTime": {
     "end_time": "2022-03-07T04:33:36.021619Z",
     "start_time": "2022-03-07T04:33:35.988626Z"
    }
   },
   "outputs": [
    {
     "data": {
      "text/plain": [
       "5"
      ]
     },
     "execution_count": 8,
     "metadata": {},
     "output_type": "execute_result"
    }
   ],
   "source": [
    "# without using max() function\n",
    "def find_largest2(array):\n",
    "    max = array[0]\n",
    "    for i in range(1,len(array)):\n",
    "        if array[i]> max:\n",
    "            max = array[i]\n",
    "    return(max)\n",
    "    \n",
    "find_largest2([1,2,3,4,5])"
   ]
  },
  {
   "cell_type": "markdown",
   "id": "a2c3daed",
   "metadata": {},
   "source": [
    "# 3.\n",
    "Write a Python Program for array rotation?"
   ]
  },
  {
   "cell_type": "code",
   "execution_count": 10,
   "id": "8551054c",
   "metadata": {
    "ExecuteTime": {
     "end_time": "2022-03-07T04:59:48.745013Z",
     "start_time": "2022-03-07T04:59:48.724029Z"
    }
   },
   "outputs": [
    {
     "name": "stdout",
     "output_type": "stream",
     "text": [
      "Array after left rotation is:  [44, 55, 66, 77, 11, 22, 33]\n"
     ]
    }
   ],
   "source": [
    "# Suppose we have an array [11,22,33,44,55,66,77] of size n=7. Then rotating \n",
    "# it by 2 will give output [33,44,55,66,77,88,99]. We can write a function for\n",
    "# that as below:\n",
    "# Input arr[] = [11, 22, 33, 44, 55, 66, 77], d = 2, n =7\n",
    "# 1) Store d=2 elements in a temp array\n",
    "#    temp_array[] = [11,22,33]\n",
    "# 2) Shift rest of the array[]\n",
    "#    array[] = [44, 55, 66, 77, 66, 77]\n",
    "# 3) Store back the d elements\n",
    "#    array[] = [44, 55, 66, 77, 11, 22,33]\n",
    "# function to rotate array by d elements using temp array\n",
    "def rotateArray(array, n, d): # We will pass n=7,d=3\n",
    "    temp_array = [] \n",
    "    i = 0\n",
    "    while (i < d):\n",
    "        temp_array.append(array[i])\n",
    "        i = i + 1\n",
    "    i = 0\n",
    "    while (d < n):\n",
    "        array[i] = array[d]\n",
    "        i+=1\n",
    "        d +=1\n",
    "    array[:] = array[: i] + temp_array\n",
    "    return array\n",
    "# Invoke above function\n",
    "array = [11, 22, 33, 44, 55, 66, 77]\n",
    "print(\"Array after left rotation is: \", end=' ')\n",
    "print(rotateArray(array, len(array), 3))"
   ]
  },
  {
   "cell_type": "markdown",
   "id": "4ffffe7e",
   "metadata": {},
   "source": [
    "# 4.\n",
    "Write a Python Program to Split the array and add the first part to the end?"
   ]
  },
  {
   "cell_type": "code",
   "execution_count": 13,
   "id": "a67ae8bd",
   "metadata": {
    "ExecuteTime": {
     "end_time": "2022-03-07T05:08:36.136998Z",
     "start_time": "2022-03-07T05:08:36.108013Z"
    }
   },
   "outputs": [
    {
     "name": "stdout",
     "output_type": "stream",
     "text": [
      "The first part of splitted array is:['a', 'b', 'c']\n",
      "Array after adding first part to the end is:['d', 'e', 'f', 'g', 'h', 'i', 'a', 'b', 'c'] "
     ]
    }
   ],
   "source": [
    "def splitArray(array, n, d): # We will pass n=9,d=4\n",
    "    first_part_array = [] \n",
    "    i = 0\n",
    "    while (i < d):\n",
    "        first_part_array.append(array[i])\n",
    "        i = i + 1\n",
    "    print(f\"The first part of splitted array is:{first_part_array}\")\n",
    "    i = 0\n",
    "    while (d < n):\n",
    "        array[i] = array[d]\n",
    "        i+=1\n",
    "        d +=1\n",
    "    array[:] = array[: i] + first_part_array\n",
    "    return array\n",
    "# Invoke above function\n",
    "array = ['a', 'b', 'c', 'd','e','f','g','h','i']\n",
    "new_array=(splitArray(array, len(array), 3))\n",
    "print(f\"Array after adding first part to the end is:{new_array}\", end=' ')"
   ]
  },
  {
   "cell_type": "markdown",
   "id": "d8613339",
   "metadata": {},
   "source": [
    "# 5.\n",
    "Write a Python Program to check if given array is Monotonic?"
   ]
  },
  {
   "cell_type": "code",
   "execution_count": null,
   "id": "6a08e974",
   "metadata": {},
   "outputs": [],
   "source": [
    "# Given an array A containing n integers.  An array is monotonic if it is\n",
    "# either monotone increasing (each next element is >= previous)or \n",
    "# monotone decreasing(each next element is <= previous number)"
   ]
  },
  {
   "cell_type": "code",
   "execution_count": 32,
   "id": "73dfbff7",
   "metadata": {
    "ExecuteTime": {
     "end_time": "2022-03-07T06:45:43.756619Z",
     "start_time": "2022-03-07T06:45:43.727670Z"
    }
   },
   "outputs": [
    {
     "name": "stdout",
     "output_type": "stream",
     "text": [
      "True\n",
      "False\n",
      "False\n"
     ]
    }
   ],
   "source": [
    "def is_monotone(arr):\n",
    "    flag = False\n",
    "    if all(arr[i] <= arr[i + 1] for i in range(len(arr)-1)):\n",
    "        flag= True\n",
    "    elif all(arr[i] >= arr[i + 1] for i in range(len(arr)-1)):\n",
    "        flag = False\n",
    "    return flag\n",
    "#\n",
    "arr1 = [1,2,3,4,4,5]\n",
    "print(is_monotone(arr1))\n",
    "arr2 = [6,5,4,4,3]\n",
    "print(is_monotone(arr2))\n",
    "arr3 = [2,4,7,2,1]\n",
    "print(is_monotone(arr3))      "
   ]
  },
  {
   "cell_type": "code",
   "execution_count": null,
   "id": "10e5dece",
   "metadata": {},
   "outputs": [],
   "source": []
  }
 ],
 "metadata": {
  "kernelspec": {
   "display_name": "Python 3 (ipykernel)",
   "language": "python",
   "name": "python3"
  },
  "language_info": {
   "codemirror_mode": {
    "name": "ipython",
    "version": 3
   },
   "file_extension": ".py",
   "mimetype": "text/x-python",
   "name": "python",
   "nbconvert_exporter": "python",
   "pygments_lexer": "ipython3",
   "version": "3.9.7"
  },
  "nbTranslate": {
   "displayLangs": [
    "*"
   ],
   "hotkey": "alt-t",
   "langInMainMenu": true,
   "sourceLang": "en",
   "targetLang": "fr",
   "useGoogleTranslate": true
  },
  "toc": {
   "base_numbering": 1,
   "nav_menu": {},
   "number_sections": true,
   "sideBar": true,
   "skip_h1_title": false,
   "title_cell": "Table of Contents",
   "title_sidebar": "Contents",
   "toc_cell": false,
   "toc_position": {},
   "toc_section_display": true,
   "toc_window_display": false
  }
 },
 "nbformat": 4,
 "nbformat_minor": 5
}
