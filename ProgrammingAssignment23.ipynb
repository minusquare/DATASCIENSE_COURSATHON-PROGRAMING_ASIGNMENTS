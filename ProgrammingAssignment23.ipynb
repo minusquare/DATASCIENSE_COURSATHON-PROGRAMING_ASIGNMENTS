{
 "cells": [
  {
   "cell_type": "markdown",
   "id": "87ea1bd6",
   "metadata": {},
   "source": [
    "Question 1\n",
    "Create a function that takes a number as an argument and returns True or False\n",
    "depending on whether the number is symmetrical or not. A number is symmetrical\n",
    "when it is the same as its reverse.\n",
    "Examples\n",
    "is_symmetrical(7227) ➞ True\n",
    "is_symmetrical(12567) ➞ False\n",
    "is_symmetrical(44444444) ➞ True\n",
    "is_symmetrical(9939) ➞ False\n",
    "is_symmetrical(1112111) ➞ True"
   ]
  },
  {
   "cell_type": "code",
   "execution_count": 9,
   "id": "5d0ccb43",
   "metadata": {
    "ExecuteTime": {
     "end_time": "2022-03-10T07:01:05.790943Z",
     "start_time": "2022-03-10T07:01:05.734956Z"
    },
    "run_control": {
     "marked": true
    }
   },
   "outputs": [
    {
     "name": "stdout",
     "output_type": "stream",
     "text": [
      "True\n",
      "False\n",
      "True\n",
      "False\n",
      "True\n"
     ]
    }
   ],
   "source": [
    "# We can use function to check if a string is palindrome after converting number\n",
    "# to string\n",
    "def is_symmetrical(num):\n",
    "    str_num = str(num)\n",
    "    rev_str_num = str_num[::-1]\n",
    "    if str_num !=rev_str_num:\n",
    "        return False\n",
    "    else:\n",
    "        return True\n",
    "# CHECKING\n",
    "ans1=is_symmetrical(7227)\n",
    "ans2=is_symmetrical(12567)\n",
    "ans3=is_symmetrical(44444444)\n",
    "ans4=is_symmetrical(9939)\n",
    "ans5=is_symmetrical(1112111)\n",
    "print(f\"{ans1}\\n{ans2}\\n{ans3}\\n{ans4}\\n{ans5}\")\n",
    "  "
   ]
  },
  {
   "cell_type": "markdown",
   "id": "6fc35e82",
   "metadata": {},
   "source": [
    "Question 2\n",
    "Given a string of numbers separated by a comma and space, return the product \n",
    "of the numbers.\n",
    "Examples\n",
    "multiply_nums(\"2, 3\") ➞ 6\n",
    "multiply_nums(\"1, 2, 3, 4\") ➞ 24\n",
    "multiply_nums(\"54, 75, 453, 0\") ➞ 0\n",
    "multiply_nums(\"10, -2\") ➞ -20"
   ]
  },
  {
   "cell_type": "code",
   "execution_count": 11,
   "id": "8c086926",
   "metadata": {
    "ExecuteTime": {
     "end_time": "2022-03-10T07:54:13.358035Z",
     "start_time": "2022-03-10T07:54:13.349037Z"
    }
   },
   "outputs": [
    {
     "name": "stdout",
     "output_type": "stream",
     "text": [
      "6\n",
      "24\n",
      "0\n",
      "-20\n"
     ]
    }
   ],
   "source": [
    "def multiply_nums(string):\n",
    "    num_list = string.split(\", \")\n",
    "    product=1\n",
    "    for element in num_list:\n",
    "        element = int(element)\n",
    "        product*=element\n",
    "    return product\n",
    "#\n",
    "ans1=multiply_nums(\"2, 3\")\n",
    "ans2=multiply_nums(\"1, 2, 3, 4\")\n",
    "ans3=multiply_nums(\"54, 75, 453, 0\")\n",
    "ans4=multiply_nums(\"10, -2\")\n",
    "print(f\"{ans1}\\n{ans2}\\n{ans3}\\n{ans4}\")"
   ]
  },
  {
   "cell_type": "markdown",
   "id": "ded2ab1a",
   "metadata": {},
   "source": [
    "Question 3\n",
    "Create a function that squares every digit of a number.\n",
    "Examples\n",
    "square_digits(9119) ➞ 811181\n",
    "square_digits(2483) ➞ 416649\n",
    "square_digits(3212) ➞ 9414\n",
    "Notes\n",
    "The function receives an integer and must return an integer."
   ]
  },
  {
   "cell_type": "code",
   "execution_count": 49,
   "id": "b59ce95e",
   "metadata": {
    "ExecuteTime": {
     "end_time": "2022-03-10T09:08:39.378295Z",
     "start_time": "2022-03-10T09:08:39.351305Z"
    }
   },
   "outputs": [
    {
     "name": "stdout",
     "output_type": "stream",
     "text": [
      "811181\n",
      "416649\n",
      "9414\n"
     ]
    }
   ],
   "source": [
    "def square_digits(num):\n",
    "    square_digits_list=[]\n",
    "    digits = list(str(num)) # convert input num to string and then list of digits\n",
    "    for digit in digits:  # for each digit in the the list 'digits' (in str form)\n",
    "        result = int(digit)**2 # convert str digit to int,and square it\n",
    "        square_digits_list.append(result) \n",
    "        #square_digits_list is in form[81,1,1,81]\n",
    "        # In square_digits_list, each element is an int. To concatenate we must \n",
    "        # convert into a string\n",
    "    string_squared_digits = [str(x) for x in square_digits_list]\n",
    "        #string_squared_digits is in form ['81','1','1','81']\n",
    "    joined_ans = ''.join(string_squared_digits)\n",
    "    return(int(joined_ans))\n",
    "#\n",
    "ans1=square_digits(9119)\n",
    "ans2=square_digits(2483)\n",
    "ans3=square_digits(3212)\n",
    "print(f\"{ans1}\\n{ans2}\\n{ans3}\")"
   ]
  },
  {
   "cell_type": "markdown",
   "id": "48f24182",
   "metadata": {},
   "source": [
    "Question 4\n",
    "Create a function that sorts a list and removes all duplicate items from it.\n",
    "Examples\n",
    "setify([1, 3, 3, 5, 5]) ➞ [1, 3, 5]\n",
    "setify([4, 4, 4, 4]) ➞ [4]\n",
    "setify([5, 7, 8, 9, 10, 15]) ➞ [5, 7, 8, 9, 10, 15]\n",
    "setify([3, 3, 3, 2, 1]) ➞ [1, 2, 3]"
   ]
  },
  {
   "cell_type": "code",
   "execution_count": 57,
   "id": "23fcade7",
   "metadata": {
    "ExecuteTime": {
     "end_time": "2022-03-10T09:17:16.842967Z",
     "start_time": "2022-03-10T09:17:16.814035Z"
    }
   },
   "outputs": [
    {
     "name": "stdout",
     "output_type": "stream",
     "text": [
      "[1, 3, 5]\n",
      "[4]\n",
      "[5, 7, 8, 9, 10, 15]\n",
      "[1, 2, 3]\n"
     ]
    }
   ],
   "source": [
    "def setify(lst):\n",
    "    lst.sort()\n",
    "    result_set = set(lst)\n",
    "    return (list(result_set))\n",
    "# CHECKING\n",
    "ans1=setify([1, 3, 3, 5, 5])\n",
    "ans2=setify([4, 4, 4, 4])\n",
    "ans3=setify([5, 7, 8, 9, 10, 15])\n",
    "ans4=setify([3, 3, 3, 2, 1])\n",
    "print(f\"{ans1}\\n{ans2}\\n{ans3}\\n{ans4}\")"
   ]
  },
  {
   "cell_type": "markdown",
   "id": "5a8310bc",
   "metadata": {},
   "source": [
    "Question 5\n",
    "Create a function that returns the mean of all digits.\n",
    "Examples\n",
    "mean(42) ➞ 3\n",
    "mean(12345) ➞ 3\n",
    "mean(666) ➞ 6\n",
    "Notes\n",
    "•The mean of all digits is the sum of digits / how many digits there are\n",
    "(e.g. mean of digits in 512 is (5+1+2)/3(number of digits) = 8/3=2).\n",
    "•The mean will always be an integer."
   ]
  },
  {
   "cell_type": "code",
   "execution_count": 4,
   "id": "2e9dc1c2",
   "metadata": {
    "ExecuteTime": {
     "end_time": "2022-03-10T09:32:57.042706Z",
     "start_time": "2022-03-10T09:32:57.021754Z"
    }
   },
   "outputs": [
    {
     "name": "stdout",
     "output_type": "stream",
     "text": [
      "3\n",
      "3\n",
      "6\n",
      "2\n"
     ]
    }
   ],
   "source": [
    "\n",
    "def mean(num):\n",
    "    num_str = str(num)\n",
    "    n=len(num_str) # no of digits in input number\n",
    "    digit_list = []\n",
    "    while num:\n",
    "        rem=num%10\n",
    "        digit_list.append(rem)\n",
    "        num=num//10\n",
    "    total = sum(digit_list)\n",
    "    mean = total/n \n",
    "    return int(mean)\n",
    "# CHECKING      \n",
    "ans1=mean(42)\n",
    "ans2=mean(12345)\n",
    "ans3=mean(666)\n",
    "ans4=mean(512)\n",
    "print(f\"{ans1}\\n{ans2}\\n{ans3}\\n{ans4}\")"
   ]
  }
 ],
 "metadata": {
  "kernelspec": {
   "display_name": "Python 3 (ipykernel)",
   "language": "python",
   "name": "python3"
  },
  "language_info": {
   "codemirror_mode": {
    "name": "ipython",
    "version": 3
   },
   "file_extension": ".py",
   "mimetype": "text/x-python",
   "name": "python",
   "nbconvert_exporter": "python",
   "pygments_lexer": "ipython3",
   "version": "3.9.7"
  },
  "nbTranslate": {
   "displayLangs": [
    "*"
   ],
   "hotkey": "alt-t",
   "langInMainMenu": true,
   "sourceLang": "en",
   "targetLang": "fr",
   "useGoogleTranslate": true
  },
  "toc": {
   "base_numbering": 1,
   "nav_menu": {},
   "number_sections": true,
   "sideBar": true,
   "skip_h1_title": false,
   "title_cell": "Table of Contents",
   "title_sidebar": "Contents",
   "toc_cell": false,
   "toc_position": {},
   "toc_section_display": true,
   "toc_window_display": false
  }
 },
 "nbformat": 4,
 "nbformat_minor": 5
}
