{
 "cells": [
  {
   "cell_type": "markdown",
   "id": "e7784c3c",
   "metadata": {},
   "source": [
    "# 1\n",
    "Write a Python Program to Add Two Matrices?"
   ]
  },
  {
   "cell_type": "code",
   "execution_count": 12,
   "id": "7896b994",
   "metadata": {
    "ExecuteTime": {
     "end_time": "2022-03-07T07:09:56.752748Z",
     "start_time": "2022-03-07T07:09:56.720715Z"
    }
   },
   "outputs": [
    {
     "name": "stdout",
     "output_type": "stream",
     "text": [
      "[[1 2]\n",
      " [3 4]\n",
      " [5 6]] \n",
      "\n",
      "[[ 7  8]\n",
      " [ 9 10]\n",
      " [11 12]] \n",
      "\n",
      "[[ 8 10]\n",
      " [12 14]\n",
      " [16 18]] \n",
      "\n"
     ]
    }
   ],
   "source": [
    "import numpy as np\n",
    "mat1 = np.matrix([[1, 2], [3, 4],[5,6]])\n",
    "mat2 = np.matrix([[7,8],[9,10],[11,12]])\n",
    "print(f\"{mat1} \\n\")\n",
    "print(f\"{mat2} \\n\")\n",
    "sum_matrix = np.matrix([[0,0],[0,0],[0,0]])\n",
    "#\n",
    "# iterate through rows  \n",
    "for i in range(len(mat1)):  \n",
    "   # iterate through columns  \n",
    "   for j in range(len(mat1[0])):  \n",
    "        sum_matrix[i][j] = mat1[i][j] + mat2[i][j] \n",
    "#\n",
    "print(f\"{sum_matrix} \\n\")"
   ]
  },
  {
   "cell_type": "markdown",
   "id": "aa77d4dc",
   "metadata": {},
   "source": [
    "# 2\n",
    "Write a Python Program to Multiply Two Matric"
   ]
  },
  {
   "cell_type": "code",
   "execution_count": 12,
   "id": "0353cef8",
   "metadata": {
    "ExecuteTime": {
     "end_time": "2022-03-07T09:14:55.168599Z",
     "start_time": "2022-03-07T09:14:55.133647Z"
    }
   },
   "outputs": [
    {
     "name": "stdout",
     "output_type": "stream",
     "text": [
      "[114, 160, 60, 27]\n",
      "[74, 97, 73, 14]\n",
      "[119, 157, 112, 23]\n"
     ]
    }
   ],
   "source": [
    "# BY BASIC METHOD i.e. for loop\n",
    "# FOR MULTIPLICATION THE NUMBER OF COLUMNS IN FIRST MATRIX AND NO OF ROWS\n",
    "# IN SECOND MATRIX MUST BE EQUAL. i.e. IF FIRST MATRIX IS m*n THEN\n",
    "# SECOND MATRIX IS n*p. AND RESULT OF MULTIPLICATION IS m*p \n",
    "# 3x3 matrix\n",
    "X = [[12,7,3],\n",
    "    [4 ,5,6],\n",
    "    [7 ,8,9]]\n",
    "# 3x4 matrix\n",
    "Y = [[5,8,1,2],\n",
    "    [6,7,3,0],\n",
    "    [4,5,9,1]]\n",
    "# result is 3x4\n",
    "result = [[0,0,0,0],\n",
    "         [0,0,0,0],\n",
    "         [0,0,0,0]]\n",
    "# iterate through rows of X\n",
    "for i in range(len(mat1)):\n",
    "   # iterate through columns of Y\n",
    "   for j in range(len(mat2[0])):\n",
    "       # iterate through rows of Y\n",
    "       for k in range(len(mat2)):\n",
    "            result[i][j] =  result[i][j] + mat1[i][k] * mat2[k][j]\n",
    "            \n",
    "for r in result:\n",
    "    print(r)"
   ]
  },
  {
   "cell_type": "code",
   "execution_count": 11,
   "id": "cf4c91fc",
   "metadata": {
    "ExecuteTime": {
     "end_time": "2022-03-07T09:14:17.630537Z",
     "start_time": "2022-03-07T09:14:17.606537Z"
    }
   },
   "outputs": [
    {
     "data": {
      "text/plain": [
       "array([[114, 160,  60,  27],\n",
       "       [ 74,  97,  73,  14],\n",
       "       [119, 157, 112,  23]])"
      ]
     },
     "execution_count": 11,
     "metadata": {},
     "output_type": "execute_result"
    }
   ],
   "source": [
    "# BY numpy using np.dot\n",
    "import numpy as np\n",
    "# 3x3 matrix\n",
    "X = [[12,7,3],\n",
    "    [4 ,5,6],\n",
    "    [7 ,8,9]]\n",
    "# 3x4 matrix\n",
    "Y = [[5,8,1,2],\n",
    "    [6,7,3,0],\n",
    "    [4,5,9,1]]\n",
    "np.dot(X,Y)"
   ]
  },
  {
   "cell_type": "code",
   "execution_count": 4,
   "id": "71ccb0f4",
   "metadata": {
    "ExecuteTime": {
     "end_time": "2022-03-07T09:28:32.019306Z",
     "start_time": "2022-03-07T09:28:31.937303Z"
    }
   },
   "outputs": [
    {
     "data": {
      "text/plain": [
       "<tf.Tensor: shape=(3, 4), dtype=int32, numpy=\n",
       "array([[114, 160,  60,  27],\n",
       "       [ 74,  97,  73,  14],\n",
       "       [119, 157, 112,  23]])>"
      ]
     },
     "execution_count": 4,
     "metadata": {},
     "output_type": "execute_result"
    }
   ],
   "source": [
    "# By tensorflow matmul module\n",
    "import tensorflow as tf\n",
    "import numpy as np\n",
    "# 3x3 matrix\n",
    "X = [12,7,3],[4,5,6],[7,8,9]\n",
    "# 3x4 matrix\n",
    "Y = [5,8,1,2],[6,7,3,0],[4,5,9,1]\n",
    "tf.matmul(X,Y)"
   ]
  },
  {
   "cell_type": "markdown",
   "id": "9e89a0c2",
   "metadata": {},
   "source": [
    "# 3\n",
    "Write a Python Program to Transpose a Matrix?"
   ]
  },
  {
   "cell_type": "code",
   "execution_count": 13,
   "id": "78a81e47",
   "metadata": {
    "ExecuteTime": {
     "end_time": "2022-03-07T09:46:36.102210Z",
     "start_time": "2022-03-07T09:46:36.083156Z"
    }
   },
   "outputs": [
    {
     "name": "stdout",
     "output_type": "stream",
     "text": [
      "[12, 4, 3]\n",
      "[7, 5, 8]\n"
     ]
    }
   ],
   "source": [
    "# Program to transpose a matrix using a nested loop\n",
    "# Making rows of a matrix to columns and columns to rows gives transpose\n",
    "# So transpose of a m* n matrix will be a n*m matrix\n",
    "mat = [[12,7],\n",
    "    [4 ,5],\n",
    "    [3 ,8]]\n",
    "transpose_mat = [[0,0,0],[0,0,0]]\n",
    "       \n",
    "# iterate through rows\n",
    "for i in range(len(mat)):\n",
    "   # iterate through columns\n",
    "   for j in range(len(mat[0])):\n",
    "        transpose_mat[j][i] = mat[i][j]\n",
    "\n",
    "for row in transpose_mat:\n",
    "    print(row)"
   ]
  },
  {
   "cell_type": "code",
   "execution_count": null,
   "id": "86fa50ea",
   "metadata": {},
   "outputs": [],
   "source": [
    "#transpose a matrix using list comprehension\n",
    "mat1 = [[12,7],[4 ,5],[3 ,8]]    \n",
    "   \n",
    "result = [[mat1[j][i] for j in range(len(mat1))] for i in range(len(mat1[0]))]\n",
    "\n",
    "for r in result:\n",
    "    print(r)"
   ]
  },
  {
   "cell_type": "code",
   "execution_count": 14,
   "id": "01102ac0",
   "metadata": {
    "ExecuteTime": {
     "end_time": "2022-03-07T09:47:06.327893Z",
     "start_time": "2022-03-07T09:47:06.313896Z"
    }
   },
   "outputs": [
    {
     "name": "stdout",
     "output_type": "stream",
     "text": [
      "Original Array:\n",
      "[[1 2 3]\n",
      " [4 5 6]]\n",
      "Transposed Array:\n",
      "[[1 4]\n",
      " [2 5]\n",
      " [3 6]]\n"
     ]
    }
   ],
   "source": [
    "# using numpy aray.transpose() function\n",
    "import numpy as np\n",
    "\n",
    "arr1 = np.array([[1, 2, 3], [4, 5, 6]])\n",
    "\n",
    "print(f'Original Array:\\n{arr1}')\n",
    "\n",
    "arr1_transpose = arr1.transpose()\n",
    "\n",
    "print(f'Transposed Array:\\n{arr1_transpose}')"
   ]
  },
  {
   "cell_type": "markdown",
   "id": "9f3a5fda",
   "metadata": {},
   "source": [
    "# 4\n",
    "Write a Python Program to Sort Words in Alphabetic Order?"
   ]
  },
  {
   "cell_type": "code",
   "execution_count": 4,
   "id": "788dd9b2",
   "metadata": {
    "ExecuteTime": {
     "end_time": "2022-03-07T10:01:17.339101Z",
     "start_time": "2022-03-07T10:01:17.315103Z"
    }
   },
   "outputs": [
    {
     "name": "stdout",
     "output_type": "stream",
     "text": [
      "am\n",
      "an\n",
      "array\n",
      "as\n",
      "considering\n",
      "example\n",
      "hello\n",
      "i\n",
      "of\n",
      "of\n",
      "string\n",
      "this\n",
      "words\n",
      "['am', 'an', 'array', 'as', 'considering', 'example', 'hello', 'i', 'of', 'of', 'string', 'this', 'words']\n"
     ]
    }
   ],
   "source": [
    "# let us begin with a sentence\n",
    "my_string = \"Hello i am considering this string as an example of array of words\"\n",
    "# Convert all characters to lower and store them in a list\n",
    "word_array = [word.lower() for word in my_string.split()]\n",
    "# sort the list\n",
    "word_array.sort()\n",
    "# Disply result\n",
    "for word in word_array:\n",
    "    print(word)\n",
    "# Output in the form of sorted words\n",
    "print(list(word_array))\n"
   ]
  },
  {
   "cell_type": "markdown",
   "id": "748ff29a",
   "metadata": {},
   "source": [
    "# 5\n",
    "Write a Python Program to Remove Punctuation From a String?"
   ]
  },
  {
   "cell_type": "code",
   "execution_count": 22,
   "id": "6034054c",
   "metadata": {
    "ExecuteTime": {
     "end_time": "2022-03-07T10:44:01.563136Z",
     "start_time": "2022-03-07T10:44:01.542113Z"
    }
   },
   "outputs": [
    {
     "name": "stdout",
     "output_type": "stream",
     "text": [
      "Original string is \n",
      "Hello! How are you? Earned some $$? I am fine @myhome on #twitter\n",
      "The string without punctuation is \n",
      "Hello How are you Earned some  I am fine myhome on twitter\n"
     ]
    }
   ],
   "source": [
    "# By using regex\n",
    "import re\n",
    "my_string = \"Hello! How are you? Earned some $$? I am fine @myhome on #twitter\"\n",
    "print(f\"Original string is \\n{my_string}\")\n",
    "new_str = re.sub(r'[^\\w\\s]','',my_string)\n",
    "print (f\"The string without punctuation is \\n{new_str}\")"
   ]
  },
  {
   "cell_type": "code",
   "execution_count": 21,
   "id": "3459130e",
   "metadata": {
    "ExecuteTime": {
     "end_time": "2022-03-07T10:43:38.723971Z",
     "start_time": "2022-03-07T10:43:38.708980Z"
    }
   },
   "outputs": [
    {
     "name": "stdout",
     "output_type": "stream",
     "text": [
      "Original string is \n",
      "Hello! How are you? Earned some $$? I am fine @myhome on #twitter\n",
      "After removing punctuations the string is \n",
      "Hello How are you Earned some  I am fine myhome on twitter\n"
     ]
    }
   ],
   "source": [
    "# By uisng for loop and a collection of all punctuations\n",
    "my_string = \"Hello! How are you? Earned some $$? I am fine @myhome on #twitter\"\n",
    "print(f\"Original string is \\n{my_string}\")\n",
    "punctuations ='''!()-[]{};:'\"\\,<>./?@#$%^&*_~'''\n",
    "def remove_punctuations(my_string):\n",
    "    for letter in my_string.lower():\n",
    "        if letter in punctuations:\n",
    "            my_string = my_string.replace(letter,\"\")\n",
    "    return my_string\n",
    "# print result\n",
    "print(f\"After removing punctuations the string is \\n{remove_punctuations(my_string)}\")"
   ]
  },
  {
   "cell_type": "code",
   "execution_count": 24,
   "id": "74e74613",
   "metadata": {
    "ExecuteTime": {
     "end_time": "2022-03-07T10:46:17.620688Z",
     "start_time": "2022-03-07T10:46:17.596088Z"
    }
   },
   "outputs": [
    {
     "data": {
      "text/plain": [
       "'string With     Punctuation'"
      ]
     },
     "execution_count": 24,
     "metadata": {},
     "output_type": "execute_result"
    }
   ],
   "source": [
    "# By using string.translate(). \n",
    "import string\n",
    "s = \"string.?# With. $ @ { } Punctuation?\"\n",
    "s.translate(str.maketrans('', '', string.punctuation))"
   ]
  }
 ],
 "metadata": {
  "kernelspec": {
   "display_name": "Python 3 (ipykernel)",
   "language": "python",
   "name": "python3"
  },
  "language_info": {
   "codemirror_mode": {
    "name": "ipython",
    "version": 3
   },
   "file_extension": ".py",
   "mimetype": "text/x-python",
   "name": "python",
   "nbconvert_exporter": "python",
   "pygments_lexer": "ipython3",
   "version": "3.9.7"
  },
  "nbTranslate": {
   "displayLangs": [
    "*"
   ],
   "hotkey": "alt-t",
   "langInMainMenu": true,
   "sourceLang": "en",
   "targetLang": "fr",
   "useGoogleTranslate": true
  },
  "toc": {
   "base_numbering": 1,
   "nav_menu": {},
   "number_sections": true,
   "sideBar": true,
   "skip_h1_title": false,
   "title_cell": "Table of Contents",
   "title_sidebar": "Contents",
   "toc_cell": false,
   "toc_position": {},
   "toc_section_display": true,
   "toc_window_display": false
  }
 },
 "nbformat": 4,
 "nbformat_minor": 5
}
