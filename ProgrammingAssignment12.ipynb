{
 "cells": [
  {
   "cell_type": "markdown",
   "id": "f27430d2",
   "metadata": {},
   "source": [
    "# 1.\n",
    "Write a Python program to Extract Unique values dictionary values?"
   ]
  },
  {
   "cell_type": "code",
   "execution_count": 8,
   "id": "fa1ede50",
   "metadata": {
    "ExecuteTime": {
     "end_time": "2022-03-08T09:12:40.490300Z",
     "start_time": "2022-03-08T09:12:40.465298Z"
    }
   },
   "outputs": [
    {
     "name": "stdout",
     "output_type": "stream",
     "text": [
      "The original dictionary is : {'a': [6, 6, 5, 8], 'b': [6, 2, 1, 2], 'c': [1, 2, 3, 4], 'd': [1, 2, 3]}\n",
      "The unique values list is : [1, 2, 3, 4, 5, 6, 8]\n"
     ]
    }
   ],
   "source": [
    "from itertools import chain\n",
    "  \n",
    "# initializing dictionary\n",
    "dict = {\n",
    "        'a' : [6, 6, 5, 8],\n",
    "        'b' : [6, 2, 1, 2],\n",
    "        'c' : [1, 2, 3, 4],\n",
    "        'd' : [1, 2, 3]\n",
    "       }\n",
    "# printing original dictionary\n",
    "print(\"The original dictionary is : \" + str(dict))\n",
    "# Extract Unique values dictionary values using chain() + sorted() + values()\n",
    "result = list(sorted(set(chain(*dict.values()))))\n",
    "# printing result \n",
    "print(\"The unique values list is : \" + str(result)) "
   ]
  },
  {
   "cell_type": "code",
   "execution_count": 10,
   "id": "6e56ed39",
   "metadata": {
    "ExecuteTime": {
     "end_time": "2022-03-08T09:13:24.527348Z",
     "start_time": "2022-03-08T09:13:24.492353Z"
    }
   },
   "outputs": [
    {
     "name": "stdout",
     "output_type": "stream",
     "text": [
      "The original dictionary is : {'a': [6, 6, 5, 8], 'b': [6, 2, 1, 2], 'c': [1, 2, 3, 4], 'd': [1, 2, 3]}\n",
      "The unique values list is : [1, 2, 3, 4, 5, 6, 8]\n"
     ]
    }
   ],
   "source": [
    "# Using set comprehension + values() + sorted()\n",
    "# initializing dictionary\n",
    "dict = {\n",
    "        'a' : [6, 6, 5, 8],\n",
    "        'b' : [6, 2, 1, 2],\n",
    "        'c' : [1, 2, 3, 4],\n",
    "        'd' : [1, 2, 3]\n",
    "       }\n",
    "# printing original dictionary\n",
    "print(\"The original dictionary is : \" + str(dict))\n",
    "# Extract Unique values dictionary values\n",
    "# Using set comprehension + values() + sorted()\n",
    "# First make a set by {ele for val in test_dict.values() for ele in val}\n",
    "# Sort it sorted({ele for val in test_dict.values() for ele in val})\n",
    "# list it list(sorted({ele for val in test_dict.values() for ele in val}))\n",
    "result = list(sorted({ele for val in dict.values() for ele in val}))\n",
    "# printing result \n",
    "print(\"The unique values list is : \" + str(result)) "
   ]
  },
  {
   "cell_type": "markdown",
   "id": "5bfe7080",
   "metadata": {},
   "source": [
    "# 2.\n",
    "Write a Python program to find the sum of all items in a dictionary?"
   ]
  },
  {
   "cell_type": "code",
   "execution_count": 2,
   "id": "e9a9d2ca",
   "metadata": {
    "ExecuteTime": {
     "end_time": "2022-03-08T09:28:38.463563Z",
     "start_time": "2022-03-08T09:28:38.448567Z"
    }
   },
   "outputs": [
    {
     "name": "stdout",
     "output_type": "stream",
     "text": [
      "15\n"
     ]
    }
   ],
   "source": [
    "# initializing dictionary\n",
    "dict = {\n",
    "        'a' : 5,\n",
    "        'b' : 6,\n",
    "        'c' : 3,\n",
    "        'd' : 1\n",
    "       }\n",
    "total = sum([val for val in dict.values()])\n",
    "print(total)"
   ]
  },
  {
   "cell_type": "code",
   "execution_count": 3,
   "id": "808df02d",
   "metadata": {
    "ExecuteTime": {
     "end_time": "2022-03-08T09:28:41.465543Z",
     "start_time": "2022-03-08T09:28:41.440551Z"
    }
   },
   "outputs": [
    {
     "name": "stdout",
     "output_type": "stream",
     "text": [
      "[6, 6, 5, 8, 6, 2, 1, 2, 1, 2, 3, 4, 1, 2, 3]\n",
      "52\n"
     ]
    }
   ],
   "source": [
    "# For nested dictionary\n",
    "dict = {\n",
    "        'a' : [6, 6, 5, 8],\n",
    "        'b' : [6, 2, 1, 2],\n",
    "        'c' : [1, 2, 3, 4],\n",
    "        'd' : [1, 2, 3]\n",
    "       }\n",
    "ele_list = [ele for val in dict.values() for ele in val]\n",
    "total = sum(ele_list)\n",
    "print(ele_list)\n",
    "print(total)"
   ]
  },
  {
   "cell_type": "markdown",
   "id": "66df6e24",
   "metadata": {},
   "source": [
    "# 3.\n",
    "Write a Python program to Merging two Dictionaries?"
   ]
  },
  {
   "cell_type": "code",
   "execution_count": 4,
   "id": "2cff57e8",
   "metadata": {
    "ExecuteTime": {
     "end_time": "2022-03-08T09:35:58.986968Z",
     "start_time": "2022-03-08T09:35:58.968964Z"
    }
   },
   "outputs": [
    {
     "name": "stdout",
     "output_type": "stream",
     "text": [
      "{1: 'a', 2: 'c', 4: 'd'}\n"
     ]
    }
   ],
   "source": [
    "# Merging two dictionary means taking two dictionaries with\n",
    "# a common key and create a combined dictionary where the common key\n",
    "# appears only once and has value as in second dictionary\n",
    "# E.g. dict_1 = {1: 'a', 2: 'b'} and dict_2 = {2: 'c', 4: 'd'}\n",
    "# merged_dictionary = {1: 'a', 2: 'c', 4: 'd'}\n",
    "# USING | OPERATOR\n",
    "dict_1 = {1: 'a', 2: 'b'}\n",
    "dict_2 = {2: 'c', 4: 'd'}\n",
    "merged_1 = dict_1 | dict_2\n",
    "print(merged_1)"
   ]
  },
  {
   "cell_type": "code",
   "execution_count": 5,
   "id": "d2a1c02b",
   "metadata": {
    "ExecuteTime": {
     "end_time": "2022-03-08T09:38:34.991509Z",
     "start_time": "2022-03-08T09:38:34.976515Z"
    }
   },
   "outputs": [
    {
     "name": "stdout",
     "output_type": "stream",
     "text": [
      "{1: 'a', 2: 'c', 4: 'd'}\n"
     ]
    }
   ],
   "source": [
    "# Merging two dictionary means taking two dictionaries with\n",
    "# a common key and create a combined dictionary where the common key\n",
    "# appears only once and has value as in second dictionary\n",
    "# E.g. dict_1 = {1: 'a', 2: 'b'} and dict_2 = {2: 'c', 4: 'd'}\n",
    "# merged_dictionary = {1: 'a', 2: 'c', 4: 'd'}\n",
    "# USING ** OPERATOR\n",
    "dict_1 = {1: 'a', 2: 'b'}\n",
    "dict_2 = {2: 'c', 4: 'd'}\n",
    "merged_2={**dict_1, **dict_2}\n",
    "print(merged_2)"
   ]
  },
  {
   "cell_type": "code",
   "execution_count": 6,
   "id": "0c58eae0",
   "metadata": {
    "ExecuteTime": {
     "end_time": "2022-03-08T09:42:36.233591Z",
     "start_time": "2022-03-08T09:42:36.210641Z"
    }
   },
   "outputs": [
    {
     "name": "stdout",
     "output_type": "stream",
     "text": [
      "{1: 'a', 2: 'c', 4: 'd'}\n"
     ]
    }
   ],
   "source": [
    "# USING copy and update\n",
    "def merge_dictionaries(a, b):\n",
    "    copy_of_a = a.copy()   # make a copy of a \n",
    "    copy_of_a.update(b)    # update this copy with keys and values of b\n",
    "    return copy_of_a\n",
    "\n",
    "a = {1: 'a', 2: 'b'}\n",
    "b = {2: 'c', 4: 'd'}\n",
    "print(merge_dictionaries(a, b)) \t"
   ]
  },
  {
   "cell_type": "markdown",
   "id": "29512ec7",
   "metadata": {},
   "source": [
    "# 4.\n",
    "Write a Python program to convert key-values list to flat dictionary?"
   ]
  },
  {
   "cell_type": "code",
   "execution_count": 7,
   "id": "0c6d23a1",
   "metadata": {
    "ExecuteTime": {
     "end_time": "2022-03-08T09:44:24.335679Z",
     "start_time": "2022-03-08T09:44:24.321669Z"
    }
   },
   "outputs": [
    {
     "name": "stdout",
     "output_type": "stream",
     "text": [
      "The original dictionary is : {'a': [6, 6, 5, 8], 'b': [6, 2, 1, 2], 'c': [1, 2, 3, 4], 'd': [1, 2, 3]}\n",
      "{1, 2, 3, 4, 5, 6, 8}\n"
     ]
    }
   ],
   "source": [
    "dict = {\n",
    "        'a' : [6, 6, 5, 8],\n",
    "        'b' : [6, 2, 1, 2],\n",
    "        'c' : [1, 2, 3, 4],\n",
    "        'd' : [1, 2, 3]\n",
    "       }\n",
    "# printing original dictionary\n",
    "print(\"The original dictionary is : \" + str(dict))\n",
    "result = {ele for val in dict.values() for ele in val}\n",
    "print(result)"
   ]
  },
  {
   "cell_type": "code",
   "execution_count": 2,
   "id": "46aee40f",
   "metadata": {
    "ExecuteTime": {
     "end_time": "2022-03-08T09:53:01.603514Z",
     "start_time": "2022-03-08T09:53:01.559531Z"
    }
   },
   "outputs": [
    {
     "name": "stdout",
     "output_type": "stream",
     "text": [
      "The original dictionary is : {'names': ['Tejas', 'Rajesh', 'Vaishali'], 'birthyears': [1971, 1973, 1976]}\n",
      "Flattened dictionary : {'Tejas': 1971, 'Rajesh': 1973, 'Vaishali': 1976}\n"
     ]
    }
   ],
   "source": [
    "# The combination of zip() and dict() can be used to achieve the required task\n",
    "# we perform the pairing using zip() and dict() is used to convert \n",
    "# tuple returned by zip() to dictionary format.\n",
    "from itertools import product\n",
    "# initializing dictionary\n",
    "dict_a = {\n",
    "         'names' : ['Tejas','Rajesh','Vaishali'],\n",
    "         'birthyears' : [1971,1973,1976]\n",
    "         }\n",
    "# printing original dictionary\n",
    "print(\"The original dictionary is : \" + str(dict_a))\n",
    "# Convert key-values list to flat dictionary Using zip() and then dict()\n",
    "dict_b = dict(zip(dict_a['names'], dict_a['birthyears']))\n",
    "# printing result \n",
    "print(\"Flattened dictionary : \" + str(dict_b)) "
   ]
  },
  {
   "cell_type": "markdown",
   "id": "7b480520",
   "metadata": {},
   "source": [
    "# 5.\n",
    "Write a Python program to insertion at the beginning in OrderedDict?"
   ]
  },
  {
   "cell_type": "code",
   "execution_count": 6,
   "id": "fbf4a0ca",
   "metadata": {
    "ExecuteTime": {
     "end_time": "2022-03-08T10:03:16.208549Z",
     "start_time": "2022-03-08T10:03:16.183602Z"
    }
   },
   "outputs": [
    {
     "name": "stdout",
     "output_type": "stream",
     "text": [
      "The dictionary is :\n",
      "OrderedDict([('Tejas', '1971'), ('Rajesh', '1972'), ('Ramesh', '1973')])\n",
      "The resultant dictionary is : \n",
      "OrderedDict([('Hemal', '1979'), ('Tejas', '1971'), ('Rajesh', '1972'), ('Ramesh', '1973')])\n"
     ]
    }
   ],
   "source": [
    "from collections import OrderedDict\n",
    "my_ordered_dict = OrderedDict([('Tejas', '1971'), ('Rajesh', '1972'), ('Ramesh', '1973')])\n",
    "print(\"The dictionary is :\")\n",
    "print(my_ordered_dict)\n",
    "# Add new key-value pair\n",
    "my_ordered_dict.update({'Hemal':'1979'})\n",
    "# Update inserts new key:value pair at the end of original dictionary by default\n",
    "# We can change this behaviour by dict.move_to_end('newkey', last=False)\n",
    "my_ordered_dict.move_to_end('Hemal', last = False)\n",
    "print(\"The resultant dictionary is : \")\n",
    "print(my_ordered_dict)"
   ]
  },
  {
   "cell_type": "markdown",
   "id": "e90a3533",
   "metadata": {},
   "source": [
    "# 6.\n",
    "Write a Python program to check order of character in string using OrderedDict()?"
   ]
  },
  {
   "cell_type": "code",
   "execution_count": 18,
   "id": "84fe904d",
   "metadata": {
    "ExecuteTime": {
     "end_time": "2022-03-08T10:38:51.584755Z",
     "start_time": "2022-03-08T10:38:51.557775Z"
    }
   },
   "outputs": [
    {
     "name": "stdout",
     "output_type": "stream",
     "text": [
      "The string is Hi Manoj\n",
      "The input pattern is Ma\n",
      "OrderedDict([('H', None), ('i', None), (' ', None), ('M', None), ('a', None), ('n', None), ('o', None), ('j', None)])\n",
      "The order of pattern is correct \n",
      "\n",
      "The string is data science\n",
      "The input pattern is dta\n",
      "OrderedDict([('d', None), ('a', None), ('t', None), (' ', None), ('s', None), ('c', None), ('i', None), ('e', None), ('n', None)])\n",
      "The order of pattern is incorrect \n",
      "\n"
     ]
    }
   ],
   "source": [
    "from collections import OrderedDict\n",
    "# A function ‘check_order’ is defined, that takes two parameters.\n",
    "def check_order_of_char(myinput, mypattern):\n",
    "   # An ordered dictionary is created using the ‘fromkeys’ method.\n",
    "    mydict = OrderedDict.fromkeys(myinput)\n",
    "    print(mydict)\n",
    "   #The length of pattern is initialized to 0\n",
    "    pat_length = 0\n",
    "     # traverse generated OrderedDict parallel with pattern string to check \n",
    "     # if order of characters are same or not\n",
    "    for key,value in mydict.items():\n",
    "        if (key == mypattern[pat_length]):\n",
    "            pat_length = pat_length + 1\n",
    "        # check if we have traverse complete pattern string \n",
    "        if (pat_length == (len(mypattern))):\n",
    "            #If the length of pattern is same as current length,order is right\n",
    "            return 'The order of pattern is correct \\n'\n",
    "    # # if we come out from for loop that means order was mismatched \n",
    "    return 'The order of pattern is incorrect \\n'\n",
    "\n",
    "my_input1 = 'Hi Manoj'\n",
    "input_pattern1 = 'Ma'\n",
    "print(f\"The string is {my_input1}\")\n",
    "print(f\"The input pattern is {input_pattern1}\")\n",
    "print(check_order_of_char(my_input1,input_pattern1))\n",
    "##\n",
    "my_input2 = \"data science\"\n",
    "input_pattern2 = \"dta\"\n",
    "print(f\"The string is {my_input2}\")\n",
    "print(f\"The input pattern is {input_pattern2}\")\n",
    "print(check_order_of_char(my_input2,input_pattern2))"
   ]
  },
  {
   "cell_type": "markdown",
   "id": "eb8dce2d",
   "metadata": {},
   "source": [
    "# 7.\n",
    "Write a Python program to sort Python Dictionaries by Key or Value?"
   ]
  },
  {
   "cell_type": "code",
   "execution_count": 19,
   "id": "75d4393f",
   "metadata": {
    "ExecuteTime": {
     "end_time": "2022-03-08T10:46:24.904742Z",
     "start_time": "2022-03-08T10:46:24.872750Z"
    }
   },
   "outputs": [
    {
     "name": "stdout",
     "output_type": "stream",
     "text": [
      "sort_by_key: {'a': 2, 'b': 3, 'c': 1, 'd': 4, 'e': 0}\n",
      "sort_by_value: {'e': 0, 'c': 1, 'a': 2, 'b': 3, 'd': 4}\n"
     ]
    }
   ],
   "source": [
    "x = {'a': 2, 'd': 4, 'b': 3, 'c': 1, 'e': 0}\n",
    "\n",
    "sort_by_key = dict(sorted(x.items(),key=lambda item:item[0]))\n",
    "sort_by_value = dict(sorted(x.items(), key=lambda item: item[1]))\n",
    "\n",
    "print(\"sort_by_key:\", sort_by_key)\n",
    "print(\"sort_by_value:\", sort_by_value)"
   ]
  }
 ],
 "metadata": {
  "kernelspec": {
   "display_name": "Python 3 (ipykernel)",
   "language": "python",
   "name": "python3"
  },
  "language_info": {
   "codemirror_mode": {
    "name": "ipython",
    "version": 3
   },
   "file_extension": ".py",
   "mimetype": "text/x-python",
   "name": "python",
   "nbconvert_exporter": "python",
   "pygments_lexer": "ipython3",
   "version": "3.9.7"
  },
  "nbTranslate": {
   "displayLangs": [
    "*"
   ],
   "hotkey": "alt-t",
   "langInMainMenu": true,
   "sourceLang": "en",
   "targetLang": "fr",
   "useGoogleTranslate": true
  },
  "toc": {
   "base_numbering": 1,
   "nav_menu": {},
   "number_sections": true,
   "sideBar": true,
   "skip_h1_title": false,
   "title_cell": "Table of Contents",
   "title_sidebar": "Contents",
   "toc_cell": false,
   "toc_position": {},
   "toc_section_display": true,
   "toc_window_display": false
  }
 },
 "nbformat": 4,
 "nbformat_minor": 5
}
