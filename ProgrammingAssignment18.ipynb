{
 "cells": [
  {
   "cell_type": "markdown",
   "id": "d3dfab08",
   "metadata": {},
   "source": [
    "# 1\n",
    "Create a function that takes a list of non-negative integers and strings and\n",
    "return a new list without the strings.\n",
    "Examples\n",
    "filter_list([1, 2, \"a\", \"b\"]) ➞ [1, 2]\n",
    "filter_list([1, \"a\", \"b\", 0, 15]) ➞ [1, 0, 15]\n",
    "filter_list([1, 2, \"aasf\", \"1\", \"123\", 123]) ➞ [1, 2, 123]"
   ]
  },
  {
   "cell_type": "code",
   "execution_count": 1,
   "id": "7aec008e",
   "metadata": {
    "ExecuteTime": {
     "end_time": "2022-03-09T13:54:24.965046Z",
     "start_time": "2022-03-09T13:54:24.918098Z"
    }
   },
   "outputs": [
    {
     "name": "stdout",
     "output_type": "stream",
     "text": [
      "[1, 2]\n",
      "[1, 0, 15]\n",
      "[1, 2, 123]\n"
     ]
    }
   ],
   "source": [
    "def filter_list(mylist):\n",
    "    new_list = []\n",
    "    for element in mylist:\n",
    "        if type(element)==int:\n",
    "            new_list.append(element)\n",
    "    return new_list\n",
    "# CHECKING\n",
    "print(filter_list([1, 2, \"a\", \"b\"]))\n",
    "print(filter_list([1, \"a\", \"b\", 0, 15]))\n",
    "print(filter_list([1, 2, \"aasf\", \"1\", \"123\", 123]))\n",
    "    "
   ]
  },
  {
   "cell_type": "markdown",
   "id": "f459e9ef",
   "metadata": {},
   "source": [
    "# 2\n",
    "The \"Reverser\" takes a string as input and returns that string in reverse order, \n",
    "with the opposite case.\n",
    "Examples\n",
    "reverse(\"Hello World\") ➞ \"DLROw OLLEh\"\n",
    "reverse(\"ReVeRsE\") ➞ \"eSrEvEr\"\n",
    "reverse(\"Radar\") ➞ \"RADAr\""
   ]
  },
  {
   "cell_type": "code",
   "execution_count": 2,
   "id": "6328493e",
   "metadata": {
    "ExecuteTime": {
     "end_time": "2022-03-09T14:00:57.880890Z",
     "start_time": "2022-03-09T14:00:57.862886Z"
    }
   },
   "outputs": [
    {
     "name": "stdout",
     "output_type": "stream",
     "text": [
      "DLROw OLLEh\n",
      "eSrEvEr\n",
      "RADAr\n"
     ]
    }
   ],
   "source": [
    "import string\n",
    "def reverse(string):\n",
    "    string=string[::-1]\n",
    "    string=string.swapcase()\n",
    "    return string\n",
    "#\n",
    "print(reverse(\"Hello World\"))\n",
    "print(reverse(\"ReVeRsE\"))\n",
    "print(reverse(\"Radar\"))"
   ]
  },
  {
   "cell_type": "markdown",
   "id": "5495c0a9",
   "metadata": {},
   "source": [
    "# 3\n",
    "You can assign variables from lists like this:\n",
    "lst = [1, 2, 3, 4, 5, 6]\n",
    "first = lst[0]\n",
    "middle = lst[1:-1]\n",
    "last = lst[-1]\n",
    "\n",
    "print(first) ➞ outputs 1\n",
    "print(middle) ➞ outputs [2, 3, 4, 5]\n",
    "print(last) ➞ outputs 6\n",
    "With Python 3, you can assign variables from lists in a much more succinct way.\n",
    "Create variables first, middle and last from the given list using destructuring \n",
    "assignment (check the Resources tab for some examples), where:\n",
    "first  ➞ 1\n",
    "middle ➞ [2, 3, 4, 5]\n",
    "last ➞ 6\n",
    "Your task is to unpack the list  into three variables, being\n",
    "first, middle, and last, with middle being everything in between the first and\n",
    "last element. Then print all three variables."
   ]
  },
  {
   "cell_type": "code",
   "execution_count": 4,
   "id": "95350293",
   "metadata": {
    "ExecuteTime": {
     "end_time": "2022-03-09T14:23:34.589383Z",
     "start_time": "2022-03-09T14:23:34.577385Z"
    }
   },
   "outputs": [
    {
     "name": "stdout",
     "output_type": "stream",
     "text": [
      "first->1,middle->[2, 3, 4, 5],last->6\n"
     ]
    }
   ],
   "source": [
    "def destructure_list(mylist):\n",
    "    first, *middle, last = mylist\n",
    "    return first,middle,last\n",
    "# CHECKING\n",
    "f,m,l=destructure_list([1, 2, 3, 4, 5, 6])\n",
    "print(f\"first->{f},middle->{m},last->{l}\")"
   ]
  },
  {
   "cell_type": "markdown",
   "id": "6e41dd14",
   "metadata": {},
   "source": [
    "# 4\n",
    "Write a function that calculates the factorial of a number recursively.\n",
    "Examples\n",
    "factorial(5) ➞ 120\n",
    "factorial(3) ➞ 6\n",
    "factorial(1) ➞ 1\n",
    "factorial(0) ➞ 1"
   ]
  },
  {
   "cell_type": "code",
   "execution_count": 5,
   "id": "270ff1e5",
   "metadata": {
    "ExecuteTime": {
     "end_time": "2022-03-09T14:27:10.213460Z",
     "start_time": "2022-03-09T14:27:10.187464Z"
    }
   },
   "outputs": [
    {
     "name": "stdout",
     "output_type": "stream",
     "text": [
      "120\n",
      "6\n",
      "1\n",
      "1\n"
     ]
    }
   ],
   "source": [
    "def factorial(num):\n",
    "    if num==0:\n",
    "        return 1\n",
    "    elif num==1 or num==2:\n",
    "        return num\n",
    "    else:\n",
    "        return(num*factorial(num-1))\n",
    "# CHECKING\n",
    "print(factorial(5))\n",
    "print(factorial(3))\n",
    "print(factorial(1))\n",
    "print(factorial(0))"
   ]
  },
  {
   "cell_type": "markdown",
   "id": "fdb273a8",
   "metadata": {},
   "source": [
    "# 5\n",
    "Write a function that moves all elements of one type to the end of the list.\n",
    "Examples\n",
    "move_to_end([1, 3, 2, 4, 4, 1], 1) ➞ [3, 2, 4, 4, 1, 1]\n",
    "#Move all the 1s to the end of the array.\n",
    "move_to_end([7, 8, 9, 1, 2, 3, 4], 9) ➞ [7, 8, 1, 2, 3, 4, 9]\n",
    "move_to_end([\"a\", \"a\", \"a\", \"b\"], \"a\") ➞ [\"b\", \"a\", \"a\", \"a\"]"
   ]
  },
  {
   "cell_type": "code",
   "execution_count": 19,
   "id": "c03636ed",
   "metadata": {
    "ExecuteTime": {
     "end_time": "2022-03-09T15:00:46.551141Z",
     "start_time": "2022-03-09T15:00:46.521182Z"
    }
   },
   "outputs": [
    {
     "name": "stdout",
     "output_type": "stream",
     "text": [
      "[3, 2, 4, 4, 1, 1]\n",
      "[7, 8, 1, 2, 3, 4, 9]\n",
      "['b', 'a', 'a', 'a']\n"
     ]
    }
   ],
   "source": [
    "def move_to_end(mylist,element):\n",
    "    \n",
    "    for i in range(1,len(mylist)):\n",
    "        index_value = element\n",
    "        mylist.append(mylist.pop(mylist.index(index_value)))\n",
    "    return mylist\n",
    "# CHECKING\n",
    "print(move_to_end([1, 3, 2, 4, 4, 1], 1))\n",
    "print(move_to_end([7, 8, 9, 1, 2, 3, 4], 9))\n",
    "print(move_to_end([\"a\", \"a\", \"a\", \"b\"], \"a\"))"
   ]
  }
 ],
 "metadata": {
  "kernelspec": {
   "display_name": "Python 3 (ipykernel)",
   "language": "python",
   "name": "python3"
  },
  "language_info": {
   "codemirror_mode": {
    "name": "ipython",
    "version": 3
   },
   "file_extension": ".py",
   "mimetype": "text/x-python",
   "name": "python",
   "nbconvert_exporter": "python",
   "pygments_lexer": "ipython3",
   "version": "3.9.7"
  },
  "nbTranslate": {
   "displayLangs": [
    "*"
   ],
   "hotkey": "alt-t",
   "langInMainMenu": true,
   "sourceLang": "en",
   "targetLang": "fr",
   "useGoogleTranslate": true
  },
  "toc": {
   "base_numbering": 1,
   "nav_menu": {},
   "number_sections": true,
   "sideBar": true,
   "skip_h1_title": false,
   "title_cell": "Table of Contents",
   "title_sidebar": "Contents",
   "toc_cell": false,
   "toc_position": {},
   "toc_section_display": true,
   "toc_window_display": false
  }
 },
 "nbformat": 4,
 "nbformat_minor": 5
}
