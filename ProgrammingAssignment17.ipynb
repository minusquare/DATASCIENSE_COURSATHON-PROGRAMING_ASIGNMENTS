{
 "cells": [
  {
   "cell_type": "markdown",
   "id": "c27d2ecf",
   "metadata": {},
   "source": [
    "# 1\n",
    "Create a function that takes three arguments a, b, c and returns the sum of \n",
    "the numbers that are evenly divided by c from the range a, b inclusive.\n",
    "Examples\n",
    "evenly_divisible(1, 10, 20) ➞ 0\n",
    "#No number between 1 and 10 can be evenly divided by 20.\n",
    "evenly_divisible(1, 10, 2) ➞ 30\n",
    "#2 + 4 + 6 + 8 + 10 = 30\n",
    "evenly_divisible(1, 10, 3) ➞ 18\n",
    "#3 + 6 + 9 = 18"
   ]
  },
  {
   "cell_type": "code",
   "execution_count": 3,
   "id": "56a2160f",
   "metadata": {
    "ExecuteTime": {
     "end_time": "2022-03-09T12:02:59.141459Z",
     "start_time": "2022-03-09T12:02:59.114456Z"
    }
   },
   "outputs": [
    {
     "name": "stdout",
     "output_type": "stream",
     "text": [
      "0\n",
      "30\n",
      "18\n"
     ]
    }
   ],
   "source": [
    "def evenly_divisible(a,b,c):\n",
    "    result_list = []\n",
    "    for i in range(a,b+1):\n",
    "        if i%c == 0:\n",
    "            result_list.append(i)\n",
    "    return sum(result_list)\n",
    "# CHECKING\n",
    "print(evenly_divisible(1, 10, 20))\n",
    "print(evenly_divisible(1, 10, 2))\n",
    "print(evenly_divisible(1, 10, 3))"
   ]
  },
  {
   "cell_type": "markdown",
   "id": "03271284",
   "metadata": {},
   "source": [
    "# 2\n",
    "Question2. Create a function that returns True if a given inequality expression\n",
    "is correct and False otherwise.\n",
    "Examples\n",
    "correct_signs(\"3 < 7 < 11\") ➞ True\n",
    "correct_signs(\"13 > 44 > 33 > 1\") ➞ False\n",
    "correct_signs(\"1 < 2 < 6 < 9 > 3\") ➞ True"
   ]
  },
  {
   "cell_type": "code",
   "execution_count": 7,
   "id": "0e8527f4",
   "metadata": {
    "ExecuteTime": {
     "end_time": "2022-03-09T12:08:07.027118Z",
     "start_time": "2022-03-09T12:08:07.007125Z"
    }
   },
   "outputs": [
    {
     "name": "stdout",
     "output_type": "stream",
     "text": [
      "True\n",
      "False\n",
      "True\n"
     ]
    }
   ],
   "source": [
    "def correct_signs(expr_string):\n",
    "        expr=eval(expr_string)\n",
    "        if expr:\n",
    "            return True\n",
    "        else:\n",
    "            return False \n",
    "print(correct_signs(\"3 < 7 < 11\")) \n",
    "print(correct_signs(\"13 > 44 > 33 > 1\")) \n",
    "print(correct_signs(\"1 < 2 < 6 < 9 > 3\")) "
   ]
  },
  {
   "cell_type": "markdown",
   "id": "43f65206",
   "metadata": {},
   "source": [
    "# 3. \n",
    "Create a function that replaces all the vowels in a string with a specified character.\n",
    "Examples\n",
    "replace_vowels(\"the aardvark\", \"#\") ➞ \"th# ##rdv#rk\"\n",
    "replace_vowels(\"minnie mouse\", \"?\") ➞ \"m?nn?? m??s?\"\n",
    "replace_vowels(\"shakespeare\", \"*\") ➞ \"sh*k*sp**r*\""
   ]
  },
  {
   "cell_type": "code",
   "execution_count": 10,
   "id": "1a5cb3a8",
   "metadata": {
    "ExecuteTime": {
     "end_time": "2022-03-09T12:14:39.073657Z",
     "start_time": "2022-03-09T12:14:39.054665Z"
    }
   },
   "outputs": [
    {
     "name": "stdout",
     "output_type": "stream",
     "text": [
      "th# ##rdv#rk\n",
      "m?nn?? m??s?\n",
      "sh*k*sp**r*\n"
     ]
    }
   ],
   "source": [
    "def replace_vowels(mystring,sp_char):\n",
    "    mystring = mystring.lower()\n",
    "    vowels = 'aeiou'\n",
    "    for char in mystring:\n",
    "        if char in vowels:\n",
    "            mystring=mystring.replace(char,sp_char)\n",
    "    return mystring\n",
    "# CHECKING\n",
    "print(replace_vowels(\"the aardvark\", \"#\"))\n",
    "print(replace_vowels(\"minnie mouse\", \"?\"))\n",
    "print(replace_vowels(\"shakespeare\", \"*\"))"
   ]
  },
  {
   "cell_type": "markdown",
   "id": "51b7307a",
   "metadata": {},
   "source": [
    "# 4.\n",
    "Question4. Write a function that calculates the factorial of a number recursively.\n",
    "Examples\n",
    "factorial(5) ➞ 120\n",
    "factorial(3) ➞ 6\n",
    "factorial(1) ➞ 1\n",
    "factorial(0) ➞ 1"
   ]
  },
  {
   "cell_type": "code",
   "execution_count": 5,
   "id": "39fc29ca",
   "metadata": {
    "ExecuteTime": {
     "end_time": "2022-03-09T13:30:40.645812Z",
     "start_time": "2022-03-09T13:30:40.625817Z"
    }
   },
   "outputs": [
    {
     "name": "stdout",
     "output_type": "stream",
     "text": [
      "120\n",
      "6\n",
      "1\n",
      "1\n"
     ]
    }
   ],
   "source": [
    "def factorial(num):\n",
    "    if num==0:\n",
    "        ans=1\n",
    "    elif num==1 or num ==2:\n",
    "        ans =num\n",
    "    else:\n",
    "        ans = num*factorial(num-1)\n",
    "    return(ans)\n",
    "# CHECKING\n",
    "print(factorial(5))\n",
    "print(factorial(3))\n",
    "print(factorial(1))\n",
    "print(factorial(0))"
   ]
  },
  {
   "cell_type": "markdown",
   "id": "f18ab0b9",
   "metadata": {},
   "source": [
    "# 5\n",
    "Hamming distance is the number of characters that differ between two strings.\n",
    "To illustrate:\n",
    "String1: \"abcbba\"\n",
    "String2: \"abcbda\"\n",
    "Hamming Distance: 1 - \"b\" vs. \"d\" is the only difference.\n",
    "Create a function that computes the hamming distance between two strings.\n",
    "Examples\n",
    "hamming_distance(\"abcde\", \"bcdef\") ➞ 5\n",
    "hamming_distance(\"abcde\", \"abcde\") ➞ 0\n",
    "hamming_distance(\"strong\", \"strung\") ➞ 1"
   ]
  },
  {
   "cell_type": "code",
   "execution_count": 14,
   "id": "6ee72461",
   "metadata": {
    "ExecuteTime": {
     "end_time": "2022-03-09T13:41:05.028866Z",
     "start_time": "2022-03-09T13:41:05.003833Z"
    }
   },
   "outputs": [
    {
     "name": "stdout",
     "output_type": "stream",
     "text": [
      "5\n",
      "0\n",
      "1\n"
     ]
    }
   ],
   "source": [
    "def hamming_distance(string1,string2):\n",
    "    hd=0\n",
    "    for i in range(len(string2)):\n",
    "        if  string2[i] != string1[i]:\n",
    "            hd+=1\n",
    "    return hd\n",
    "print(hamming_distance(\"abcde\", \"bcdef\"))\n",
    "print(hamming_distance(\"abcde\", \"abcde\"))\n",
    "print(hamming_distance(\"strong\",\"strung\"))"
   ]
  }
 ],
 "metadata": {
  "kernelspec": {
   "display_name": "Python 3 (ipykernel)",
   "language": "python",
   "name": "python3"
  },
  "language_info": {
   "codemirror_mode": {
    "name": "ipython",
    "version": 3
   },
   "file_extension": ".py",
   "mimetype": "text/x-python",
   "name": "python",
   "nbconvert_exporter": "python",
   "pygments_lexer": "ipython3",
   "version": "3.9.7"
  },
  "nbTranslate": {
   "displayLangs": [
    "*"
   ],
   "hotkey": "alt-t",
   "langInMainMenu": true,
   "sourceLang": "en",
   "targetLang": "fr",
   "useGoogleTranslate": true
  },
  "toc": {
   "base_numbering": 1,
   "nav_menu": {},
   "number_sections": true,
   "sideBar": true,
   "skip_h1_title": false,
   "title_cell": "Table of Contents",
   "title_sidebar": "Contents",
   "toc_cell": false,
   "toc_position": {},
   "toc_section_display": true,
   "toc_window_display": false
  }
 },
 "nbformat": 4,
 "nbformat_minor": 5
}
