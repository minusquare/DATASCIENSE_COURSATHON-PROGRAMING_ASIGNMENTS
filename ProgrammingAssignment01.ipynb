{
 "cells": [
  {
   "cell_type": "markdown",
   "id": "edc0aa7d",
   "metadata": {},
   "source": [
    "# 1.\t\n",
    "Write a Python program to print \"Hello Python\"?"
   ]
  },
  {
   "cell_type": "code",
   "execution_count": 2,
   "id": "f6dc29a7",
   "metadata": {
    "ExecuteTime": {
     "end_time": "2022-03-04T06:58:48.155352Z",
     "start_time": "2022-03-04T06:58:48.101948Z"
    }
   },
   "outputs": [
    {
     "name": "stdout",
     "output_type": "stream",
     "text": [
      "Hello Pyhton?\n"
     ]
    }
   ],
   "source": [
    "def print_msg(msg):\n",
    "    print(msg)\n",
    "print_msg(\"Hello Pyhton?\")"
   ]
  },
  {
   "cell_type": "markdown",
   "id": "b5fc1c02",
   "metadata": {},
   "source": [
    "# 2 \n",
    "Write a Python program to do arithmetical operations addition and division.?\n"
   ]
  },
  {
   "cell_type": "code",
   "execution_count": 9,
   "id": "433a224c",
   "metadata": {
    "ExecuteTime": {
     "end_time": "2022-03-04T07:09:05.316512Z",
     "start_time": "2022-03-04T07:09:05.285228Z"
    }
   },
   "outputs": [
    {
     "name": "stdout",
     "output_type": "stream",
     "text": [
      "Can not divide by zero:division by zero\n"
     ]
    }
   ],
   "source": [
    "def add_divide(num1, num2):\n",
    "    addition = num1 + num2\n",
    "    try:\n",
    "        division = num1 / num2\n",
    "    except ZeroDivisionError as e:\n",
    "        print(f\"Can not divide by zero:{e}\")\n",
    "    else:\n",
    "        return division\n",
    "#\n",
    "add_divide(10,2)\n",
    "add_divide(8,0)"
   ]
  },
  {
   "cell_type": "markdown",
   "id": "a195cbf8",
   "metadata": {},
   "source": [
    "# 3 \n",
    "Write a Python program to find the area of a triangle?"
   ]
  },
  {
   "cell_type": "code",
   "execution_count": 10,
   "id": "cae073d0",
   "metadata": {
    "ExecuteTime": {
     "end_time": "2022-03-04T07:13:28.376546Z",
     "start_time": "2022-03-04T07:13:28.345319Z"
    }
   },
   "outputs": [
    {
     "name": "stdout",
     "output_type": "stream",
     "text": [
      "40.0\n"
     ]
    }
   ],
   "source": [
    "def area_triangle(base,altitude):\n",
    "    return (0.5 * base * altitude)\n",
    "#\n",
    "area = area_triangle(10,8)\n",
    "print(area)"
   ]
  },
  {
   "cell_type": "markdown",
   "id": "4065ac1d",
   "metadata": {},
   "source": [
    "# 4\n",
    "Write a Python program to swap two variables?"
   ]
  },
  {
   "cell_type": "code",
   "execution_count": 5,
   "id": "d640b754",
   "metadata": {
    "ExecuteTime": {
     "end_time": "2022-03-04T12:02:25.511612Z",
     "start_time": "2022-03-04T12:02:25.480366Z"
    }
   },
   "outputs": [
    {
     "name": "stdout",
     "output_type": "stream",
     "text": [
      "10 6\n",
      "6 10\n"
     ]
    }
   ],
   "source": [
    "#\n",
    "def swap_vars(a,b):\n",
    "    temp = a\n",
    "    a = b\n",
    "    b = temp\n",
    "    return(a,b)\n",
    "a = 10\n",
    "b = 6\n",
    "print(a,b)\n",
    "a,b = swap_vars(a,b) \n",
    "print(a,b)"
   ]
  },
  {
   "cell_type": "code",
   "execution_count": 4,
   "id": "13441990",
   "metadata": {
    "ExecuteTime": {
     "end_time": "2022-03-04T12:01:21.275847Z",
     "start_time": "2022-03-04T12:01:21.244687Z"
    }
   },
   "outputs": [
    {
     "name": "stdout",
     "output_type": "stream",
     "text": [
      "10 6\n",
      "6 10\n"
     ]
    }
   ],
   "source": [
    "# Swapping without using temp\n",
    "#\n",
    "def swxp_vxrs(x,y):\n",
    "    x = x + y\n",
    "    y = x - y\n",
    "    x = x - y\n",
    "    return(x,y)\n",
    "a = 10\n",
    "b = 6\n",
    "print(a,b)\n",
    "a,b = swxp_vxrs(a,b) \n",
    "print(a,b)"
   ]
  },
  {
   "cell_type": "markdown",
   "id": "a0de0001",
   "metadata": {},
   "source": [
    "# 5\n",
    "Write a Python program to generate a random number"
   ]
  },
  {
   "cell_type": "code",
   "execution_count": 8,
   "id": "9f66b284",
   "metadata": {
    "ExecuteTime": {
     "end_time": "2022-03-04T10:58:31.463053Z",
     "start_time": "2022-03-04T10:58:31.416183Z"
    }
   },
   "outputs": [
    {
     "name": "stdout",
     "output_type": "stream",
     "text": [
      "22\n",
      "55\n",
      "22\n",
      "56\n",
      "75\n",
      "8\n",
      "6\n",
      "21\n",
      "85\n",
      "90\n",
      "73\n",
      "60\n",
      "58\n",
      "54\n",
      "47\n",
      "48\n",
      "43\n",
      "25\n",
      "53\n",
      "12\n",
      "20\n",
      "27\n",
      "31\n",
      "48\n",
      "58\n",
      "32\n",
      "27\n",
      "83\n",
      "73\n",
      "48\n",
      "91\n",
      "27\n",
      "41\n",
      "1\n",
      "40\n",
      "70\n",
      "94\n",
      "100\n",
      "41\n",
      "64\n",
      "55\n",
      "38\n",
      "71\n",
      "45\n",
      "32\n",
      "74\n",
      "63\n",
      "98\n",
      "16\n",
      "57\n",
      "31\n",
      "39\n",
      "82\n",
      "83\n",
      "22\n",
      "62\n",
      "59\n",
      "58\n",
      "98\n",
      "95\n",
      "84\n",
      "15\n",
      "18\n",
      "93\n",
      "37\n",
      "49\n",
      "62\n",
      "45\n",
      "66\n",
      "81\n",
      "0\n",
      "44\n",
      "18\n",
      "6\n",
      "0\n",
      "53\n",
      "43\n",
      "65\n",
      "99\n",
      "17\n",
      "76\n",
      "3\n",
      "59\n",
      "77\n",
      "67\n",
      "94\n",
      "24\n",
      "84\n",
      "90\n",
      "19\n",
      "71\n",
      "78\n",
      "42\n",
      "34\n",
      "87\n",
      "39\n",
      "16\n",
      "83\n",
      "31\n",
      "21\n"
     ]
    }
   ],
   "source": [
    "import random\n",
    "def gen_random_num(n):\n",
    "    num = random.randint(0,n)\n",
    "    print(num)\n",
    "for i in range(0,100):\n",
    "    gen_random_num(100)"
   ]
  }
 ],
 "metadata": {
  "kernelspec": {
   "display_name": "Python 3 (ipykernel)",
   "language": "python",
   "name": "python3"
  },
  "language_info": {
   "codemirror_mode": {
    "name": "ipython",
    "version": 3
   },
   "file_extension": ".py",
   "mimetype": "text/x-python",
   "name": "python",
   "nbconvert_exporter": "python",
   "pygments_lexer": "ipython3",
   "version": "3.9.7"
  },
  "nbTranslate": {
   "displayLangs": [
    "*"
   ],
   "hotkey": "alt-t",
   "langInMainMenu": true,
   "sourceLang": "en",
   "targetLang": "fr",
   "useGoogleTranslate": true
  },
  "toc": {
   "base_numbering": 1,
   "nav_menu": {},
   "number_sections": true,
   "sideBar": true,
   "skip_h1_title": false,
   "title_cell": "Table of Contents",
   "title_sidebar": "Contents",
   "toc_cell": false,
   "toc_position": {},
   "toc_section_display": true,
   "toc_window_display": false
  }
 },
 "nbformat": 4,
 "nbformat_minor": 5
}
