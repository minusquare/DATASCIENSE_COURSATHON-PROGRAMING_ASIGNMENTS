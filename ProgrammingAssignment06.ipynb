{
 "cells": [
  {
   "cell_type": "markdown",
   "id": "704bbb7d",
   "metadata": {},
   "source": [
    "# 1.\n",
    "Write a Python Program to Display Fibonacci Sequence Using Recursion?"
   ]
  },
  {
   "cell_type": "code",
   "execution_count": null,
   "id": "04af6820",
   "metadata": {},
   "outputs": [],
   "source": [
    "# The fibonacci series is \n",
    "# 0,1,1,2,3,5,8,13,21,34,55,89,144,233,377,610,987,1597,2584,4181.\n",
    "def Fibonacci_series(n):\n",
    "    if(n == 0):\n",
    "        return 0\n",
    "    elif(n == 1):\n",
    "        return 1\n",
    "    else:         # Make recursive call\n",
    "        return (Fibonacci_series(n-1) + Fibonacci_series(n-2))\n",
    "\n",
    "num = int(input(\"Enter the value of 'num' i.e. terms of fibonacci series you want: \"))\n",
    "print(\"Fibonacci Series:\", end = ' ')\n",
    "for num in range(0, num):\n",
    "    print(Fibonacci_series(num), end = ',')"
   ]
  },
  {
   "cell_type": "markdown",
   "id": "779471b8",
   "metadata": {},
   "source": [
    "# 2.\n",
    "Write a Python Program to Find Factorial of Number Using Recursion?"
   ]
  },
  {
   "cell_type": "code",
   "execution_count": null,
   "id": "d4562f05",
   "metadata": {},
   "outputs": [],
   "source": [
    "def give_factorial(n):\n",
    "    if n==1:\n",
    "        return n\n",
    "    else:\n",
    "        return n * give_factorial(n-1)\n",
    "#\n",
    "num = int(input(\"Enter a positive integer whose factorial is required:\"))\n",
    "give_factorial(num)"
   ]
  },
  {
   "cell_type": "markdown",
   "id": "db3539db",
   "metadata": {},
   "source": [
    "# 3\n",
    "Write a Python Program to calculate your Body Mass Index?"
   ]
  },
  {
   "cell_type": "code",
   "execution_count": 3,
   "id": "5caae50f",
   "metadata": {
    "ExecuteTime": {
     "end_time": "2022-03-05T13:58:57.840595Z",
     "start_time": "2022-03-05T13:58:48.219351Z"
    }
   },
   "outputs": [
    {
     "name": "stdout",
     "output_type": "stream",
     "text": [
      "Enter your weight in kilogram: 81\n",
      "Enter your height in meter1.7526\n",
      "Your BMI is :26.3705631381017\n"
     ]
    }
   ],
   "source": [
    "# Body Mass Index (BMI) is a person’s weight in kilograms divided by the\n",
    "# square of height in meters\n",
    "def get_BMI(weight,height):\n",
    "    BMI = weight /(height * height)\n",
    "    return BMI\n",
    "#\n",
    "weight = float(input(\"Enter your weight in kilogram: \"))\n",
    "height = float(input(\"Enter your height in meter\"))\n",
    "bmi = get_BMI(weight, height)\n",
    "print(f\"Your BMI is :{bmi}\")"
   ]
  },
  {
   "cell_type": "markdown",
   "id": "3dab8e8f",
   "metadata": {},
   "source": [
    "# 4.\n",
    "Write a Python Program to calculate the natural logarithm of any number?"
   ]
  },
  {
   "cell_type": "code",
   "execution_count": 6,
   "id": "b24ac5f1",
   "metadata": {
    "ExecuteTime": {
     "end_time": "2022-03-05T14:06:45.357142Z",
     "start_time": "2022-03-05T14:06:42.853494Z"
    }
   },
   "outputs": [
    {
     "name": "stdout",
     "output_type": "stream",
     "text": [
      "Enter the number whose natural log is needed: 100\n",
      "Natural logarithm of 100.0 is 4.605170185988092\n"
     ]
    }
   ],
   "source": [
    "import math\n",
    "n = float(input(\"Enter the number whose natural log is needed: \"))\n",
    "log_n = math.log(n)\n",
    "print(f\"Natural logarithm of {n} is {log_n}\")"
   ]
  },
  {
   "cell_type": "markdown",
   "id": "67505c5a",
   "metadata": {},
   "source": [
    "# 5.\n",
    "Write a Python Program for cube sum of first n natural numbers?"
   ]
  },
  {
   "cell_type": "code",
   "execution_count": 19,
   "id": "706be154",
   "metadata": {
    "ExecuteTime": {
     "end_time": "2022-03-05T14:29:03.763027Z",
     "start_time": "2022-03-05T14:28:56.651636Z"
    }
   },
   "outputs": [
    {
     "name": "stdout",
     "output_type": "stream",
     "text": [
      "Enter count of natural numbers whose cube sum is desired: 5\n",
      "The sum of cubes of first 5 natural numbers is 225\n"
     ]
    }
   ],
   "source": [
    "def cube_sum(n):\n",
    "    sum = 0\n",
    "    for i in range(1,n+1):\n",
    "        sum+= i*i*i\n",
    "    return sum\n",
    "n = int(input(\"Enter count of natural numbers whose cube sum is desired: \"))\n",
    "result = cube_sum(n)\n",
    "print(f\"The sum of cubes of first {n} natural numbers is {result}\")"
   ]
  }
 ],
 "metadata": {
  "kernelspec": {
   "display_name": "Python 3 (ipykernel)",
   "language": "python",
   "name": "python3"
  },
  "language_info": {
   "codemirror_mode": {
    "name": "ipython",
    "version": 3
   },
   "file_extension": ".py",
   "mimetype": "text/x-python",
   "name": "python",
   "nbconvert_exporter": "python",
   "pygments_lexer": "ipython3",
   "version": "3.9.7"
  },
  "nbTranslate": {
   "displayLangs": [
    "*"
   ],
   "hotkey": "alt-t",
   "langInMainMenu": true,
   "sourceLang": "en",
   "targetLang": "fr",
   "useGoogleTranslate": true
  },
  "toc": {
   "base_numbering": 1,
   "nav_menu": {},
   "number_sections": true,
   "sideBar": true,
   "skip_h1_title": false,
   "title_cell": "Table of Contents",
   "title_sidebar": "Contents",
   "toc_cell": false,
   "toc_position": {},
   "toc_section_display": true,
   "toc_window_display": false
  }
 },
 "nbformat": 4,
 "nbformat_minor": 5
}
