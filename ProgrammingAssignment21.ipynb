{
 "cells": [
  {
   "cell_type": "code",
   "execution_count": null,
   "id": "f68dc9d7",
   "metadata": {},
   "outputs": [],
   "source": [
    "Question1\n",
    "Write a function that takes a list and a number as arguments. Add the number\n",
    "to the end of the list, then remove the first element of the list. The function\n",
    "should then return the updated list.\n",
    "Examples\n",
    "next_in_line([5, 6, 7, 8, 9], 1) ➞ [6, 7, 8, 9, 1]\n",
    "next_in_line([7, 6, 3, 23, 17], 10) ➞ [6, 3, 23, 17, 10]\n",
    "next_in_line([1, 10, 20, 42 ], 6) ➞ [10, 20, 42, 6]\n",
    "next_in_line([], 6) ➞ \"No list has been selected\""
   ]
  },
  {
   "cell_type": "code",
   "execution_count": 8,
   "id": "2ed445f2",
   "metadata": {
    "ExecuteTime": {
     "end_time": "2022-03-10T04:24:59.491028Z",
     "start_time": "2022-03-10T04:24:59.457039Z"
    }
   },
   "outputs": [
    {
     "name": "stdout",
     "output_type": "stream",
     "text": [
      "[6, 7, 8, 9, 1]\n",
      "[6, 3, 23, 17, 10]\n",
      "[10, 20, 42, 6]\n",
      "No list has been selected\n"
     ]
    }
   ],
   "source": [
    "def next_in_line(mylist,element):\n",
    "    if len(mylist) == 0:\n",
    "        return(\"No list has been selected\")\n",
    "    else:\n",
    "        mylist.append(element)\n",
    "        del(mylist[0])\n",
    "        return mylist\n",
    "# CHECKING\n",
    "ans1 = next_in_line([5, 6, 7, 8, 9], 1)\n",
    "ans2 = next_in_line([7, 6, 3, 23, 17], 10)\n",
    "ans3 = next_in_line([1, 10, 20, 42 ], 6)\n",
    "ans4 = next_in_line([], 6)\n",
    "print(f\"{ans1}\\n{ans2}\\n{ans3}\\n{ans4}\")"
   ]
  },
  {
   "cell_type": "code",
   "execution_count": null,
   "id": "85e5720d",
   "metadata": {},
   "outputs": [],
   "source": [
    "Question2\n",
    "Create the function that takes a list of dictionaries and returns the sum \n",
    "of people's budgets.\n",
    "Examples\n",
    "get_budgets([\n",
    "  { \"name\": \"John\", \"age\": 21, \"budget\": 23000 },\n",
    "  { \"name\": \"Steve\",  \"age\": 32, \"budget\": 40000 },\n",
    "  { \"name\": \"Martin\",  \"age\": 16, \"budget\": 2700 }\n",
    "]) ➞ 65700\n",
    "\n",
    "get_budgets([\n",
    "  { \"name\": \"John\",  \"age\": 21, \"budget\": 29000 },\n",
    "  { \"name\": \"Steve\",  \"age\": 32, \"budget\": 32000 },\n",
    "  { \"name\": \"Martin\",  \"age\": 16, \"budget\": 1600 }\n",
    "]) ➞ 62600"
   ]
  },
  {
   "cell_type": "code",
   "execution_count": 12,
   "id": "5f1a72ec",
   "metadata": {
    "ExecuteTime": {
     "end_time": "2022-03-10T04:31:55.842708Z",
     "start_time": "2022-03-10T04:31:55.814711Z"
    }
   },
   "outputs": [
    {
     "name": "stdout",
     "output_type": "stream",
     "text": [
      "65700\n",
      "62600\n"
     ]
    }
   ],
   "source": [
    "def get_budgets(dictlist):\n",
    "    sum = 0\n",
    "    for dict in dictlist:\n",
    "        sum+=dict[\"budget\"]\n",
    "    return sum\n",
    "# CHECKING\n",
    "ans1 =   get_budgets([\n",
    "  { \"name\": \"John\", \"age\": 21, \"budget\": 23000 },\n",
    "  { \"name\": \"Steve\",  \"age\": 32, \"budget\": 40000 },\n",
    "  { \"name\": \"Martin\",  \"age\": 16, \"budget\": 2700 }\n",
    "])\n",
    "ans2 = get_budgets([\n",
    "  { \"name\": \"John\",  \"age\": 21, \"budget\": 29000 },\n",
    "  { \"name\": \"Steve\",  \"age\": 32, \"budget\": 32000 },\n",
    "  { \"name\": \"Martin\",  \"age\": 16, \"budget\": 1600 }\n",
    "])\n",
    "print(f\"{ans1}\\n{ans2}\")"
   ]
  },
  {
   "cell_type": "code",
   "execution_count": null,
   "id": "1aa70879",
   "metadata": {},
   "outputs": [],
   "source": [
    "Question3\n",
    "Create a function that takes a string and returns a string with its letters\n",
    "in alphabetical order.\n",
    "Examples\n",
    "alphabet_soup(\"hello\") ➞ \"ehllo\"\n",
    "alphabet_soup(\"edabit\") ➞ \"abdeit\"\n",
    "alphabet_soup(\"hacker\") ➞ \"acehkr\"\n",
    "alphabet_soup(\"geek\") ➞ \"eegk\"\n",
    "alphabet_soup(\"javascript\") ➞ \"aacijprstv\""
   ]
  },
  {
   "cell_type": "code",
   "execution_count": 15,
   "id": "cbd507c4",
   "metadata": {
    "ExecuteTime": {
     "end_time": "2022-03-10T04:38:39.681575Z",
     "start_time": "2022-03-10T04:38:39.673609Z"
    }
   },
   "outputs": [
    {
     "name": "stdout",
     "output_type": "stream",
     "text": [
      "ehllo\n",
      "abdeit\n",
      "acehkr\n",
      "eegk\n",
      "aacijprstv\n"
     ]
    }
   ],
   "source": [
    "def alphabet_soup(string):\n",
    "    str_list = list(string)\n",
    "    str_list = sorted(str_list)\n",
    "    sorted_string = \"\".join(str_list)\n",
    "    return sorted_string\n",
    "# CHECKING\n",
    "ans1 = alphabet_soup(\"hello\")\n",
    "ans2 = alphabet_soup(\"edabit\")\n",
    "ans3 = alphabet_soup(\"hacker\")\n",
    "ans4 = alphabet_soup(\"geek\")\n",
    "ans5 = alphabet_soup(\"javascript\")\n",
    "print(f\"{ans1}\\n{ans2}\\n{ans3}\\n{ans4}\\n{ans5}\")"
   ]
  },
  {
   "cell_type": "markdown",
   "id": "92436d8f",
   "metadata": {},
   "source": [
    "Question4\n",
    "Suppose that you invest $10,000 for 10 years at an interest rate of 6% \n",
    "compounded monthly. What will be the value of your investment at the end of \n",
    "the 10 year period?\n",
    "Create a function that accepts the principal p, the term in years t, the \n",
    "interest rate r, and the number of compounding periods per year n. The function\n",
    "returns the value at the end of term rounded to the nearest cent.\n",
    "For the example above:\n",
    "compound_interest(10000, 10, 0.06, 12) ➞ 18193.97\n",
    "Note that the interest rate is given as a decimal and n=12 because with monthly\n",
    "compounding there are 12 periods per year. Compounding can also be done annually\n",
    "quarterly, weekly, or daily.\n",
    "Examples\n",
    "compound_interest(100, 1, 0.05, 1) ➞ 105.0\n",
    "compound_interest(3500, 15, 0.1, 4) ➞ 15399.26\n",
    "compound_interest(100000, 20, 0.15, 365) ➞ 2007316.26"
   ]
  },
  {
   "cell_type": "code",
   "execution_count": 19,
   "id": "ffcbbdd8",
   "metadata": {
    "ExecuteTime": {
     "end_time": "2022-03-10T04:55:15.692517Z",
     "start_time": "2022-03-10T04:55:15.671515Z"
    }
   },
   "outputs": [
    {
     "name": "stdout",
     "output_type": "stream",
     "text": [
      "105.0\n",
      "15399.26\n",
      "2007316.26\n"
     ]
    }
   ],
   "source": [
    "# Here maturity_value = p(1 + r/n)**nt\n",
    "def compound_interest(p,t,r,n):\n",
    "    maturity_value = p*((1+r/n)**(n*t))\n",
    "    return round(maturity_value,2)\n",
    "#\n",
    "ans1 = compound_interest(100, 1, 0.05, 1)\n",
    "ans2 = compound_interest(3500, 15, 0.1, 4)\n",
    "ans3 = compound_interest(100000, 20, 0.15, 365)\n",
    "#\n",
    "print(f\"{ans1}\\n{ans2}\\n{ans3}\")\n",
    "    "
   ]
  },
  {
   "cell_type": "code",
   "execution_count": null,
   "id": "c493ebbd",
   "metadata": {},
   "outputs": [],
   "source": [
    "Question5\n",
    "Write a function that takes a list of elements and returns only the integers.\n",
    "Examples\n",
    "return_only_integer([9, 2, \"space\", \"car\", \"lion\", 16]) ➞ [9, 2, 16]\n",
    "return_only_integer([\"hello\", 81, \"basketball\", 123, \"fox\"]) ➞ [81, 123]\n",
    "return_only_integer([10, \"121\", 56, 20, \"car\", 3, \"lion\"]) ➞ [10, 56, 20, 3]\n",
    "return_only_integer([\"String\",  True,  3.3,  1]) ➞ [1]"
   ]
  },
  {
   "cell_type": "code",
   "execution_count": 21,
   "id": "8975ea47",
   "metadata": {
    "ExecuteTime": {
     "end_time": "2022-03-10T04:59:49.854390Z",
     "start_time": "2022-03-10T04:59:49.826385Z"
    }
   },
   "outputs": [
    {
     "name": "stdout",
     "output_type": "stream",
     "text": [
      "[9, 2, 16]\n",
      "[81, 123]\n",
      "[10, 56, 20, 3]\n",
      "[1]\n"
     ]
    }
   ],
   "source": [
    "def return_only_integer(mylst):\n",
    "    result_list = []\n",
    "    for element in mylst:\n",
    "        if type(element)== int:\n",
    "            result_list.append(element)\n",
    "    return result_list\n",
    "# CHECKING\n",
    "ans1 = return_only_integer([9, 2, \"space\", \"car\", \"lion\", 16])\n",
    "ans2 = return_only_integer([\"hello\", 81, \"basketball\", 123, \"fox\"])\n",
    "ans3 = return_only_integer([10, \"121\", 56, 20, \"car\", 3, \"lion\"]) \n",
    "ans4 = return_only_integer([\"String\",  True,  3.3,  1]) \n",
    "print(f\"{ans1}\\n{ans2}\\n{ans3}\\n{ans4}\")"
   ]
  }
 ],
 "metadata": {
  "kernelspec": {
   "display_name": "Python 3 (ipykernel)",
   "language": "python",
   "name": "python3"
  },
  "language_info": {
   "codemirror_mode": {
    "name": "ipython",
    "version": 3
   },
   "file_extension": ".py",
   "mimetype": "text/x-python",
   "name": "python",
   "nbconvert_exporter": "python",
   "pygments_lexer": "ipython3",
   "version": "3.9.7"
  },
  "nbTranslate": {
   "displayLangs": [
    "*"
   ],
   "hotkey": "alt-t",
   "langInMainMenu": true,
   "sourceLang": "en",
   "targetLang": "fr",
   "useGoogleTranslate": true
  },
  "toc": {
   "base_numbering": 1,
   "nav_menu": {},
   "number_sections": true,
   "sideBar": true,
   "skip_h1_title": false,
   "title_cell": "Table of Contents",
   "title_sidebar": "Contents",
   "toc_cell": false,
   "toc_position": {},
   "toc_section_display": true,
   "toc_window_display": false
  }
 },
 "nbformat": 4,
 "nbformat_minor": 5
}
