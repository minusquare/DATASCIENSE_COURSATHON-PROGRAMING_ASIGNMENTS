{
 "cells": [
  {
   "cell_type": "markdown",
   "id": "3cbf3833",
   "metadata": {},
   "source": [
    "Question1\n",
    "Create a function that takes three parameters where:\n",
    "•\tx is the start of the range (inclusive).\n",
    "•\ty is the end of the range (inclusive).\n",
    "•\tn is the divisor to be checked against.\n",
    "Return an ordered list with numbers in the range that are divisible by the \n",
    "third parameter n. Return an empty list if there are no numbers that are \n",
    "divisible by n.\n",
    "Examples\n",
    "list_operation(1, 10, 3) ➞ [3, 6, 9]\n",
    "list_operation(7, 9, 2) ➞ [8]\n",
    "list_operation(15, 20, 7) ➞ []"
   ]
  },
  {
   "cell_type": "code",
   "execution_count": 3,
   "id": "a5095354",
   "metadata": {
    "ExecuteTime": {
     "end_time": "2022-03-10T05:07:22.755061Z",
     "start_time": "2022-03-10T05:07:22.700072Z"
    }
   },
   "outputs": [
    {
     "name": "stdout",
     "output_type": "stream",
     "text": [
      "[3, 6, 9]\n",
      "[8]\n",
      "[]\n"
     ]
    }
   ],
   "source": [
    "def list_operation(x,y,n): \n",
    "    ordered_list =[]\n",
    "    for num in range(x,y+1):\n",
    "        if num%n == 0:\n",
    "            ordered_list.append(num)\n",
    "    return (sorted(ordered_list))\n",
    "# CHECKING\n",
    "ans1=list_operation(1, 10, 3)\n",
    "ans2=list_operation(7, 9, 2)\n",
    "ans3=list_operation(15, 20, 7)\n",
    "print(f\"{ans1}\\n{ans2}\\n{ans3}\")"
   ]
  },
  {
   "cell_type": "markdown",
   "id": "c63430d0",
   "metadata": {},
   "source": [
    "Question2\n",
    "Create a function that takes in two lists and returns True if the second list\n",
    "follows the first list by one element, and False otherwise. In other words,\n",
    "determine if the second list is the first list shifted to the right by 1.\n",
    "Examples\n",
    "simon_says([1, 2], [5, 1]) ➞ True\n",
    "simon_says([1, 2], [5, 5]) ➞ False\n",
    "simon_says([1, 2, 3, 4, 5], [0, 1, 2, 3, 4]) ➞ True\n",
    "simon_says([1, 2, 3, 4, 5], [5, 5, 1, 2, 3]) ➞ False\n",
    "Notes\n",
    "•Both input lists will be of same length, and will have a minimum length of 2.\n",
    "•The values of the 0-indexed element in the second list and the n-1th indexed\n",
    "element in the first list do not matter."
   ]
  },
  {
   "cell_type": "code",
   "execution_count": 9,
   "id": "90759e6c",
   "metadata": {
    "ExecuteTime": {
     "end_time": "2022-03-10T05:15:50.291182Z",
     "start_time": "2022-03-10T05:15:50.262190Z"
    }
   },
   "outputs": [
    {
     "name": "stdout",
     "output_type": "stream",
     "text": [
      "True\n",
      "False\n",
      "True\n",
      "False\n"
     ]
    }
   ],
   "source": [
    "def simon_says(lst1,lst2):\n",
    "    for i in range(len(lst1)-1):\n",
    "            if lst2[i+1]!=lst1[i]:\n",
    "                return False\n",
    "    return True\n",
    "# CHECKING\n",
    "ans1=simon_says([1, 2], [5, 1])\n",
    "ans2=simon_says([1, 2], [5, 5])\n",
    "ans3=simon_says([1, 2, 3, 4, 5], [0, 1, 2, 3, 4])\n",
    "ans4=simon_says([1, 2, 3, 4, 5], [5, 5, 1, 2, 3])\n",
    "#\n",
    "print(f\"{ans1}\\n{ans2}\\n{ans3}\\n{ans4}\")      "
   ]
  },
  {
   "cell_type": "markdown",
   "id": "a19c1f2d",
   "metadata": {},
   "source": [
    "Question3\n",
    "A group of friends have decided to start a secret society. The name will be \n",
    "the first letter of each of their names, sorted in alphabetical order.\n",
    "Create a function that takes in a list of names and returns the name of the\n",
    "secret society.\n",
    "Examples\n",
    "society_name([\"Adam\", \"Sarah\", \"Malcolm\"]) ➞ \"AMS\"\n",
    "society_name([\"Harry\", \"Newt\", \"Luna\", \"Cho\"]) ➞ \"CHLN\"\n",
    "society_name([\"Phoebe\", \"Chandler\", \"Rachel\", \"Ross\", \"Monica\", \"Joey\"])➞ \"CJMPRR\""
   ]
  },
  {
   "cell_type": "code",
   "execution_count": 7,
   "id": "ce4b35d0",
   "metadata": {
    "ExecuteTime": {
     "end_time": "2022-03-12T10:40:19.226942Z",
     "start_time": "2022-03-12T10:40:19.191954Z"
    }
   },
   "outputs": [
    {
     "name": "stdout",
     "output_type": "stream",
     "text": [
      "AMS\n",
      "CHLN\n",
      "CJMPRR\n"
     ]
    }
   ],
   "source": [
    "def society_name(lst):\n",
    "    lst.sort()\n",
    "    output_list = [i[0] for i in lst]\n",
    "    output_str=\"\".join(output_list)\n",
    "    return(output_str)\n",
    "\n",
    "ans1=society_name([\"Adam\", \"Sarah\", \"Malcolm\"])\n",
    "ans2=society_name([\"Harry\", \"Newt\", \"Luna\", \"Cho\"])\n",
    "ans3=society_name([\"Phoebe\", \"Chandler\", \"Rachel\", \"Ross\", \"Monica\", \"Joey\"])\n",
    "print(f\"{ans1}\\n{ans2}\\n{ans3}\")"
   ]
  },
  {
   "cell_type": "markdown",
   "id": "61e0889e",
   "metadata": {},
   "source": [
    "Question4\n",
    "An isogram is a word that has no duplicate letters. Create a function that \n",
    "takes a string and returns either True or False depending on whether or not\n",
    "it's an \"isogram\".\n",
    "Examples\n",
    "is_isogram(\"Algorism\") ➞ True\n",
    "is_isogram(\"PasSword\") ➞ False\n",
    "#Not case sensitive.\n",
    "is_isogram(\"Consecutive\") ➞ False\n",
    "Notes\n",
    "•Ignore letter case (should not be case sensitive).\n",
    "•All test cases contain valid one word strings."
   ]
  },
  {
   "cell_type": "code",
   "execution_count": 15,
   "id": "6e49e511",
   "metadata": {
    "ExecuteTime": {
     "end_time": "2022-03-10T06:04:32.214713Z",
     "start_time": "2022-03-10T06:04:32.197715Z"
    }
   },
   "outputs": [
    {
     "name": "stdout",
     "output_type": "stream",
     "text": [
      "('algorism', True)\n",
      "('password', False)\n",
      "('consecutive', False)\n"
     ]
    }
   ],
   "source": [
    "import string\n",
    "def is_isogram(string):\n",
    "    string = string.lower()\n",
    "    # On RHS of next expression set() removes duplicate characers if any \n",
    "    return string, len(string) == len(set(string))\n",
    "# CHECKING\n",
    "ans1=is_isogram(\"Algorism\")\n",
    "ans2=is_isogram(\"PasSword\")\n",
    "ans3=is_isogram(\"Consecutive\")\n",
    "#\n",
    "print(f\"{ans1}\\n{ans2}\\n{ans3}\")"
   ]
  },
  {
   "cell_type": "markdown",
   "id": "4945c995",
   "metadata": {},
   "source": [
    "Question5\n",
    "Create a function that takes a string and returns True or False, depending on\n",
    "whether the characters are in order or not.\n",
    "Examples\n",
    "is_in_order(\"abc\") ➞ True\n",
    "is_in_order(\"edabit\") ➞ False\n",
    "is_in_order(\"123\") ➞ True\n",
    "is_in_order(\"xyzz\") ➞ True\n",
    "Notes\n",
    "You don't have to handle empty strings."
   ]
  },
  {
   "cell_type": "code",
   "execution_count": 1,
   "id": "b0eb0989",
   "metadata": {
    "ExecuteTime": {
     "end_time": "2022-03-10T06:31:39.816243Z",
     "start_time": "2022-03-10T06:31:39.767243Z"
    }
   },
   "outputs": [
    {
     "name": "stdout",
     "output_type": "stream",
     "text": [
      "True\n",
      "False\n",
      "True\n",
      "True\n"
     ]
    }
   ],
   "source": [
    "def is_in_order(string): \n",
    "    # create a character array from string\n",
    "    c_array = [string[i] for i in range(len(string))]\n",
    "    # sort the character array\n",
    "    c_array.sort(reverse = False)\n",
    "    # check if the character array is equal to the string or not\n",
    "    for i in range(len(string)):\n",
    "        if (c_array[i] != string[i]):\n",
    "            return False\n",
    "    return True\n",
    "# CHECKING\n",
    "ans1=is_in_order(\"abc\")\n",
    "ans2=is_in_order(\"edabit\")\n",
    "ans3=is_in_order(\"123\")\n",
    "ans4=is_in_order(\"xyzz\")\n",
    "#\n",
    "print(f\"{ans1}\\n{ans2}\\n{ans3}\\n{ans4}\")"
   ]
  }
 ],
 "metadata": {
  "kernelspec": {
   "display_name": "Python 3 (ipykernel)",
   "language": "python",
   "name": "python3"
  },
  "language_info": {
   "codemirror_mode": {
    "name": "ipython",
    "version": 3
   },
   "file_extension": ".py",
   "mimetype": "text/x-python",
   "name": "python",
   "nbconvert_exporter": "python",
   "pygments_lexer": "ipython3",
   "version": "3.9.7"
  },
  "nbTranslate": {
   "displayLangs": [
    "*"
   ],
   "hotkey": "alt-t",
   "langInMainMenu": true,
   "sourceLang": "en",
   "targetLang": "fr",
   "useGoogleTranslate": true
  },
  "toc": {
   "base_numbering": 1,
   "nav_menu": {},
   "number_sections": true,
   "sideBar": true,
   "skip_h1_title": false,
   "title_cell": "Table of Contents",
   "title_sidebar": "Contents",
   "toc_cell": false,
   "toc_position": {},
   "toc_section_display": true,
   "toc_window_display": false
  }
 },
 "nbformat": 4,
 "nbformat_minor": 5
}
