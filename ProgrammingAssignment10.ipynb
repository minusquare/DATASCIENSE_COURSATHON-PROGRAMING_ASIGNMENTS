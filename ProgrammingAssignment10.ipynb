{
 "cells": [
  {
   "cell_type": "markdown",
   "id": "1e65ef0d",
   "metadata": {},
   "source": [
    "# 1\n",
    "Write a Python program to find sum of elements in list?"
   ]
  },
  {
   "cell_type": "code",
   "execution_count": 1,
   "id": "94213d89",
   "metadata": {
    "ExecuteTime": {
     "end_time": "2022-03-07T16:05:01.861079Z",
     "start_time": "2022-03-07T16:05:01.838075Z"
    }
   },
   "outputs": [
    {
     "data": {
      "text/plain": [
       "15"
      ]
     },
     "execution_count": 1,
     "metadata": {},
     "output_type": "execute_result"
    }
   ],
   "source": [
    "# By basics\n",
    "def sum_list(mylist):\n",
    "    sum = 0\n",
    "    i=0\n",
    "    for i in mylist:\n",
    "        sum+=mylist[i-1]\n",
    "        i+=1\n",
    "    return sum\n",
    "sum_list([1,2,3,4,5])"
   ]
  },
  {
   "cell_type": "code",
   "execution_count": 2,
   "id": "1846ade6",
   "metadata": {
    "ExecuteTime": {
     "end_time": "2022-03-07T16:05:06.650077Z",
     "start_time": "2022-03-07T16:05:06.642073Z"
    },
    "cell_style": "split"
   },
   "outputs": [
    {
     "data": {
      "text/plain": [
       "15"
      ]
     },
     "execution_count": 2,
     "metadata": {},
     "output_type": "execute_result"
    }
   ],
   "source": [
    "# By built-in methods\n",
    "def sum_list2(mylist):\n",
    "    return(sum(mylist))\n",
    "sum_list2([1,2,3,4,5])"
   ]
  },
  {
   "cell_type": "markdown",
   "id": "abf5ddb5",
   "metadata": {},
   "source": [
    "# 2\n",
    "Write a Python program to  Multiply all numbers in the list?"
   ]
  },
  {
   "cell_type": "code",
   "execution_count": 3,
   "id": "8a8f7e3b",
   "metadata": {
    "ExecuteTime": {
     "end_time": "2022-03-07T16:05:11.788076Z",
     "start_time": "2022-03-07T16:05:11.778078Z"
    }
   },
   "outputs": [
    {
     "data": {
      "text/plain": [
       "120"
      ]
     },
     "execution_count": 3,
     "metadata": {},
     "output_type": "execute_result"
    }
   ],
   "source": [
    "# By basic method \n",
    "def product_list(mylist):\n",
    "    product = 1\n",
    "    i =0\n",
    "    for i in mylist:\n",
    "        product*=mylist[i-1]\n",
    "        i+=1\n",
    "    return product\n",
    "product_list([1,2,3,4,5])"
   ]
  },
  {
   "cell_type": "code",
   "execution_count": 7,
   "id": "4bebc06f",
   "metadata": {
    "ExecuteTime": {
     "end_time": "2022-03-07T16:06:03.381104Z",
     "start_time": "2022-03-07T16:06:03.342076Z"
    }
   },
   "outputs": [
    {
     "name": "stdout",
     "output_type": "stream",
     "text": [
      "Product of elements of [1, 2, 3, 4, 5] is 120\n"
     ]
    }
   ],
   "source": [
    "# By numpy.prod()\n",
    "import numpy as np\n",
    "def product_list2(mylist):\n",
    "    result=np.product(mylist)\n",
    "    return result\n",
    "mylist = [1,2,3,4,5]\n",
    "ans=product_list2(mylist)\n",
    "print(f\"Product of elements of {mylist} is {ans}\")"
   ]
  },
  {
   "cell_type": "code",
   "execution_count": 8,
   "id": "85b88c1f",
   "metadata": {
    "ExecuteTime": {
     "end_time": "2022-03-07T16:08:53.318345Z",
     "start_time": "2022-03-07T16:08:53.309343Z"
    }
   },
   "outputs": [
    {
     "name": "stdout",
     "output_type": "stream",
     "text": [
      "120\n"
     ]
    }
   ],
   "source": [
    "# Using reduce\n",
    "from functools import reduce\n",
    "list = [1, 2, 3,4,5]\n",
    "result = reduce((lambda x, y: x * y), list)\n",
    "print(result)"
   ]
  },
  {
   "cell_type": "code",
   "execution_count": 9,
   "id": "2b1025b9",
   "metadata": {
    "ExecuteTime": {
     "end_time": "2022-03-07T16:10:23.717414Z",
     "start_time": "2022-03-07T16:10:23.708421Z"
    }
   },
   "outputs": [
    {
     "name": "stdout",
     "output_type": "stream",
     "text": [
      "120\n"
     ]
    }
   ],
   "source": [
    "# Using math module\n",
    "import math\n",
    "list = [1,2,3,4,5]\n",
    "result = math.prod(list)\n",
    "print(result)"
   ]
  },
  {
   "cell_type": "markdown",
   "id": "697aa92e",
   "metadata": {},
   "source": [
    "# 3\n",
    "Write a Python program to find smallest number in a list?"
   ]
  },
  {
   "cell_type": "code",
   "execution_count": 12,
   "id": "9544342c",
   "metadata": {
    "ExecuteTime": {
     "end_time": "2022-03-07T16:14:28.901493Z",
     "start_time": "2022-03-07T16:14:28.880488Z"
    }
   },
   "outputs": [
    {
     "data": {
      "text/plain": [
       "2"
      ]
     },
     "execution_count": 12,
     "metadata": {},
     "output_type": "execute_result"
    }
   ],
   "source": [
    "# Using basic traversal\n",
    "def find_smallest(mylist):\n",
    "    smallest = mylist[0]\n",
    "    for i in range(1,len(mylist)):\n",
    "        if mylist[i]<smallest:\n",
    "            smallest = mylist[i]\n",
    "            i+=1\n",
    "    return smallest\n",
    "find_smallest([11,5,2,7,3])"
   ]
  },
  {
   "cell_type": "code",
   "execution_count": 11,
   "id": "f6e0eeaf",
   "metadata": {
    "ExecuteTime": {
     "end_time": "2022-03-07T16:14:19.368688Z",
     "start_time": "2022-03-07T16:14:19.342696Z"
    }
   },
   "outputs": [
    {
     "name": "stdout",
     "output_type": "stream",
     "text": [
      "2\n"
     ]
    }
   ],
   "source": [
    "# Using buit-in function min\n",
    "def find_smallest(mylist):\n",
    "    return min(mylist)\n",
    "ans = find_smallest([11,5,2,7,3])\n",
    "print(ans)"
   ]
  },
  {
   "cell_type": "markdown",
   "id": "36177c20",
   "metadata": {},
   "source": [
    "# 4.\n",
    "Write a Python program to find largest number in a list?"
   ]
  },
  {
   "cell_type": "code",
   "execution_count": 14,
   "id": "6bed8f73",
   "metadata": {
    "ExecuteTime": {
     "end_time": "2022-03-07T16:15:52.760352Z",
     "start_time": "2022-03-07T16:15:52.742353Z"
    }
   },
   "outputs": [
    {
     "data": {
      "text/plain": [
       "11"
      ]
     },
     "execution_count": 14,
     "metadata": {},
     "output_type": "execute_result"
    }
   ],
   "source": [
    "def find_largest(mylist):\n",
    "    largest = mylist[0]\n",
    "    for i in range(1,len(mylist)):\n",
    "        if mylist[i]>largest:\n",
    "            largest = mylist[i]\n",
    "            i+=1\n",
    "    return largest\n",
    "find_largest([11,5,2,7,3])"
   ]
  },
  {
   "cell_type": "code",
   "execution_count": 13,
   "id": "a67bad2f",
   "metadata": {
    "ExecuteTime": {
     "end_time": "2022-03-07T16:15:48.804941Z",
     "start_time": "2022-03-07T16:15:48.780949Z"
    }
   },
   "outputs": [
    {
     "name": "stdout",
     "output_type": "stream",
     "text": [
      "11\n"
     ]
    }
   ],
   "source": [
    "# Using buit-in function max\n",
    "def find_largest(mylist):\n",
    "    return max(mylist)\n",
    "ans = find_largest([11,5,2,7,3])\n",
    "print(ans)"
   ]
  },
  {
   "cell_type": "markdown",
   "id": "e1462025",
   "metadata": {},
   "source": [
    "# 5\n",
    "Write a Python program to find second largest number in a list?"
   ]
  },
  {
   "cell_type": "code",
   "execution_count": 19,
   "id": "141c2c0f",
   "metadata": {
    "ExecuteTime": {
     "end_time": "2022-03-07T16:21:51.682971Z",
     "start_time": "2022-03-07T16:21:51.663965Z"
    }
   },
   "outputs": [
    {
     "data": {
      "text/plain": [
       "3"
      ]
     },
     "execution_count": 19,
     "metadata": {},
     "output_type": "execute_result"
    }
   ],
   "source": [
    "# By basics\n",
    "def find_largest(mylist):\n",
    "    largest = mylist[0]\n",
    "    for i in range(1,len(mylist)):\n",
    "        if mylist[i]>largest:\n",
    "            largest = mylist[i]\n",
    "            i+=1\n",
    "    return largest\n",
    "def find_secondLargest(mylist):\n",
    "    largest = find_largest(mylist)\n",
    "    for i in range(1,len(mylist)):\n",
    "        if mylist[i]<largest:\n",
    "            second_largest = mylist[i]\n",
    "    return second_largest   \n",
    "find_secondLargest([11,5,2,7,3])"
   ]
  },
  {
   "cell_type": "code",
   "execution_count": 18,
   "id": "3bcb6ba7",
   "metadata": {
    "ExecuteTime": {
     "end_time": "2022-03-07T16:21:46.779048Z",
     "start_time": "2022-03-07T16:21:46.747056Z"
    }
   },
   "outputs": [
    {
     "data": {
      "text/plain": [
       "7"
      ]
     },
     "execution_count": 18,
     "metadata": {},
     "output_type": "execute_result"
    }
   ],
   "source": [
    "# By first sorting the list\n",
    "def find_secondLargest(mylist):\n",
    "    mylist.sort()\n",
    "    # Sorts in ascending order so first element is smallest, last is largest\n",
    "    return mylist[len(mylist)-2]\n",
    "#\n",
    "find_secondLargest([11,5,2,7,3])    "
   ]
  },
  {
   "cell_type": "markdown",
   "id": "15e03e65",
   "metadata": {},
   "source": [
    "# 6.\n",
    "Write a Python program to find N largest elements from a list?"
   ]
  },
  {
   "cell_type": "code",
   "execution_count": 28,
   "id": "ef36ed84",
   "metadata": {
    "ExecuteTime": {
     "end_time": "2022-03-07T16:41:17.227245Z",
     "start_time": "2022-03-07T16:41:17.210248Z"
    }
   },
   "outputs": [
    {
     "name": "stdout",
     "output_type": "stream",
     "text": [
      "[35, 22, 19]\n"
     ]
    }
   ],
   "source": [
    "def N_largest_elements(mylist, N):\n",
    "    final_list = []\n",
    "    for i in range(0, N): \n",
    "        largest = 0\n",
    "          \n",
    "        for j in range(len(mylist)):     \n",
    "            if mylist[j] > largest:\n",
    "                largest = mylist[j];\n",
    "                  \n",
    "        mylist.remove(largest);\n",
    "        final_list.append(largest)\n",
    "          \n",
    "    print(final_list)\n",
    "  \n",
    "#\n",
    "mylist = [3, 9, 2, 35, 22, 19, 7, 6, 15]\n",
    "N = 3\n",
    "  \n",
    "# Calling the function\n",
    "N_largest_elements(mylist, N)"
   ]
  },
  {
   "cell_type": "code",
   "execution_count": 31,
   "id": "6926f52a",
   "metadata": {
    "ExecuteTime": {
     "end_time": "2022-03-07T16:43:50.470894Z",
     "start_time": "2022-03-07T16:43:50.452942Z"
    }
   },
   "outputs": [
    {
     "name": "stdout",
     "output_type": "stream",
     "text": [
      "[19, 22, 35]\n"
     ]
    }
   ],
   "source": [
    "# By first sorting the list\n",
    "mylist = [3, 9, 2, 35, 22, 19, 7, 6, 15]\n",
    "n=3\n",
    "mylist.sort()\n",
    "print(mylist[-n:])"
   ]
  },
  {
   "cell_type": "markdown",
   "id": "e09afa2f",
   "metadata": {},
   "source": [
    "# 7 \n",
    "Write a Python program to print even numbers in a list?"
   ]
  },
  {
   "cell_type": "code",
   "execution_count": 33,
   "id": "8c3ad7a2",
   "metadata": {
    "ExecuteTime": {
     "end_time": "2022-03-07T16:48:47.165685Z",
     "start_time": "2022-03-07T16:48:47.134715Z"
    }
   },
   "outputs": [
    {
     "data": {
      "text/plain": [
       "[2, 4, 6, 8]"
      ]
     },
     "execution_count": 33,
     "metadata": {},
     "output_type": "execute_result"
    }
   ],
   "source": [
    "# By basics\n",
    "def find_even(mylist):\n",
    "    even_list =[]\n",
    "    for num in mylist:\n",
    "        if num%2 == 0:\n",
    "            even_list.append(num)\n",
    "    return even_list\n",
    "#\n",
    "find_even([11,5,2,7,3,4,6,8])"
   ]
  },
  {
   "cell_type": "code",
   "execution_count": 32,
   "id": "e7bab704",
   "metadata": {
    "ExecuteTime": {
     "end_time": "2022-03-07T16:48:40.620933Z",
     "start_time": "2022-03-07T16:48:40.606924Z"
    }
   },
   "outputs": [
    {
     "name": "stdout",
     "output_type": "stream",
     "text": [
      "[2, 4, 6, 8]\n"
     ]
    }
   ],
   "source": [
    "# By list comprehension\n",
    "# list of numbers\n",
    "mylist = [11,5,2,7,3,4,6,8]\n",
    "even_list = [i for i in mylist if i%2==0]\n",
    "print(even_list)"
   ]
  },
  {
   "cell_type": "markdown",
   "id": "0f880043",
   "metadata": {},
   "source": [
    "# 8. \n",
    "Write a Python program to print odd numbers in a List?"
   ]
  },
  {
   "cell_type": "code",
   "execution_count": 35,
   "id": "42e68595",
   "metadata": {
    "ExecuteTime": {
     "end_time": "2022-03-07T16:49:50.490528Z",
     "start_time": "2022-03-07T16:49:50.462529Z"
    }
   },
   "outputs": [
    {
     "data": {
      "text/plain": [
       "[11, 5, 7, 3]"
      ]
     },
     "execution_count": 35,
     "metadata": {},
     "output_type": "execute_result"
    }
   ],
   "source": [
    "def find_odd(mylist):\n",
    "    odd_list =[]\n",
    "    for num in mylist:\n",
    "        if num%2 != 0:\n",
    "            odd_list.append(num)\n",
    "    return odd_list\n",
    "#\n",
    "find_odd([11,5,2,7,3,4,6,8])"
   ]
  },
  {
   "cell_type": "code",
   "execution_count": 34,
   "id": "c61fe951",
   "metadata": {
    "ExecuteTime": {
     "end_time": "2022-03-07T16:49:45.237164Z",
     "start_time": "2022-03-07T16:49:45.223165Z"
    }
   },
   "outputs": [
    {
     "name": "stdout",
     "output_type": "stream",
     "text": [
      "[11, 5, 7, 3]\n"
     ]
    }
   ],
   "source": [
    "# By list comprehension\n",
    "# list of numbers\n",
    "mylist = [11,5,2,7,3,4,6,8]\n",
    "odd_list = [i for i in mylist if i%2!=0]\n",
    "print(odd_list)"
   ]
  },
  {
   "cell_type": "markdown",
   "id": "e899e3ce",
   "metadata": {},
   "source": [
    "# 9. \n",
    "Write a Python program to Remove empty List from List?"
   ]
  },
  {
   "cell_type": "code",
   "execution_count": 36,
   "id": "d0a685f8",
   "metadata": {
    "ExecuteTime": {
     "end_time": "2022-03-07T16:50:03.714678Z",
     "start_time": "2022-03-07T16:50:03.694676Z"
    }
   },
   "outputs": [
    {
     "name": "stdout",
     "output_type": "stream",
     "text": [
      "[1, 5, 8, 3, 4, 7, 11]\n"
     ]
    }
   ],
   "source": [
    "def remove_emptylist(mylist):\n",
    "    new_list = []\n",
    "    for element in mylist:\n",
    "        if element != []:\n",
    "            new_list.append(element)\n",
    "    return new_list\n",
    "#\n",
    "result=remove_emptylist([1,5,[],8,3,[],4,7,[],11])\n",
    "print(str(result))"
   ]
  },
  {
   "cell_type": "code",
   "execution_count": 38,
   "id": "7938a752",
   "metadata": {
    "ExecuteTime": {
     "end_time": "2022-03-07T16:53:07.307171Z",
     "start_time": "2022-03-07T16:53:07.285179Z"
    }
   },
   "outputs": [
    {
     "name": "stdout",
     "output_type": "stream",
     "text": [
      "The original list is [1, 5, [], 8, 3, [], 4, 7, [], 11]\n",
      "List after empty list removal is [1, 5, 8, 3, 4, 7, 11]\n"
     ]
    }
   ],
   "source": [
    "# using list comprehension\n",
    "# Initializing list \n",
    "test_list = [1,5,[],8,3,[],4,7,[],11]\n",
    "  \n",
    "# printing original list \n",
    "print(f\"The original list is {test_list}\")\n",
    "  \n",
    "# Make a new list of only those elements which are not [] from original list\n",
    "res = [ele for ele in test_list if ele != []]\n",
    "  \n",
    "# printing result \n",
    "print (f\"List after empty list removal is {res}\")"
   ]
  },
  {
   "cell_type": "markdown",
   "id": "224c775c",
   "metadata": {},
   "source": [
    "# 10.\n",
    "Write a Python program to Cloning or Copying a list?"
   ]
  },
  {
   "cell_type": "code",
   "execution_count": 48,
   "id": "8158703b",
   "metadata": {
    "ExecuteTime": {
     "end_time": "2022-03-07T17:09:41.314449Z",
     "start_time": "2022-03-07T17:09:41.293451Z"
    }
   },
   "outputs": [
    {
     "name": "stdout",
     "output_type": "stream",
     "text": [
      "Original List: [4, 8, 2, 10, 15, 18]\n",
      "Cloned List: [4, 8, 2, 10, 15, 18]\n",
      "Original List: [4, 8, 2, 10, 15, 18]\n",
      "Cloned List: [4, 8, 2, 10, 15, 100]\n"
     ]
    }
   ],
   "source": [
    "# Using basics\n",
    "def Clone_list(orig_list):\n",
    "    new_list = orig_list[:]\n",
    "    return new_list\n",
    "   \n",
    "\n",
    "mylist = [4, 8, 2, 10, 15, 18]\n",
    "new_list = Clone_list(mylist)\n",
    "print(\"Original List:\", mylist)\n",
    "print(\"Cloned List:\", new_list)\n",
    "# # adding and element to new list and print both again\n",
    "new_list[len(new_list)-1]=100\n",
    "print(\"Original List:\", mylist)\n",
    "print(\"Cloned List:\", new_list)\n",
    "# Thus changes made in new_list does not affect original list. \n",
    "# So this is deep copy OR two lists have their own different memory locations"
   ]
  },
  {
   "cell_type": "code",
   "execution_count": 61,
   "id": "f6d9c131",
   "metadata": {
    "ExecuteTime": {
     "end_time": "2022-03-07T17:48:15.237292Z",
     "start_time": "2022-03-07T17:48:15.208301Z"
    }
   },
   "outputs": [
    {
     "name": "stdout",
     "output_type": "stream",
     "text": [
      "The original elements before shallow copying\n",
      "12 24 [11, 55] 33 \r\n",
      "The original elements after shallow copying\n",
      "12 24 [100, 55] 33 "
     ]
    }
   ],
   "source": [
    "# However better method is to use copy module of python\n",
    "# Its copy.deepcopy() command creates a shallow copy \n",
    "import copy\n",
    "li1 = [12, 24, [11,55], 33]\n",
    "li2 = copy.copy(li1)\n",
    "print (\"The original elements before shallow copying\")\n",
    "for i in range(0,len(li1)):\n",
    "    print (li1[i],end=\" \")\n",
    "print(\"\\r\")\n",
    "li2[2][0] = 100\n",
    "print (\"The original elements after shallow copying\")\n",
    "for i in range(0,len( li1)):\n",
    "    print (li1[i],end=\" \")\n",
    "# Thus we made changes to li2 but change reflects in li1. This\n",
    "# is because both li1 and li2 occupy same memory location"
   ]
  },
  {
   "cell_type": "code",
   "execution_count": 62,
   "id": "4379eb3d",
   "metadata": {
    "ExecuteTime": {
     "end_time": "2022-03-07T17:49:51.111152Z",
     "start_time": "2022-03-07T17:49:51.080168Z"
    }
   },
   "outputs": [
    {
     "name": "stdout",
     "output_type": "stream",
     "text": [
      "The original elements before shallow copying\n",
      "12 24 [11, 55] 33 \r\n",
      "The original elements after shallow copying\n",
      "12 24 [11, 55] 33 "
     ]
    }
   ],
   "source": [
    "# However better method is to use copy module of python\n",
    "# Its copy.deepcopy() command creates a deep copy \n",
    "import copy\n",
    "li1 = [12, 24, [11,55], 33]\n",
    "li2 = copy.deepcopy(li1)\n",
    "print (\"The original elements before shallow copying\")\n",
    "for i in range(0,len(li1)):\n",
    "    print (li1[i],end=\" \")\n",
    "print(\"\\r\")\n",
    "li2[2][0] = 100\n",
    "print (\"The original elements after shallow copying\")\n",
    "for i in range(0,len( li1)):\n",
    "    print (li1[i],end=\" \")\n",
    "# Thus we made changes to li2 which does not reflect in li1. This\n",
    "# is because both li1 and li2 occupy different memory locations"
   ]
  },
  {
   "cell_type": "markdown",
   "id": "d6f118a6",
   "metadata": {},
   "source": [
    "# 11.\n",
    "Write a Python program to Count occurrences of an element in a list?"
   ]
  },
  {
   "cell_type": "code",
   "execution_count": 63,
   "id": "0d0f2556",
   "metadata": {
    "ExecuteTime": {
     "end_time": "2022-03-07T17:50:40.690439Z",
     "start_time": "2022-03-07T17:50:13.003313Z"
    }
   },
   "outputs": [
    {
     "name": "stdout",
     "output_type": "stream",
     "text": [
      "Please enter a list of integers: 1,4,3,6,4,2,4,7,8,4\n",
      "Please enter the element to count in list: 4\n",
      "The element 4 occurs 4 times in 1,4,3,6,4,2,4,7,8,4\n"
     ]
    }
   ],
   "source": [
    "def count_occurances(mylist, element):\n",
    "    count = 0\n",
    "    for item in mylist:\n",
    "        \n",
    "        if item == element:\n",
    "            count+=1\n",
    "            continue\n",
    "    return count\n",
    "#\n",
    "mylist = input(\"Please enter a list of integers: \")\n",
    "element = input(\"Please enter the element to count in list: \")\n",
    "ans = count_occurances(mylist, element)\n",
    "print(f\"The element {element} occurs {ans} times in {mylist}\")"
   ]
  },
  {
   "cell_type": "code",
   "execution_count": null,
   "id": "ea9bd529",
   "metadata": {},
   "outputs": [],
   "source": []
  }
 ],
 "metadata": {
  "kernelspec": {
   "display_name": "Python 3 (ipykernel)",
   "language": "python",
   "name": "python3"
  },
  "language_info": {
   "codemirror_mode": {
    "name": "ipython",
    "version": 3
   },
   "file_extension": ".py",
   "mimetype": "text/x-python",
   "name": "python",
   "nbconvert_exporter": "python",
   "pygments_lexer": "ipython3",
   "version": "3.9.7"
  },
  "nbTranslate": {
   "displayLangs": [
    "*"
   ],
   "hotkey": "alt-t",
   "langInMainMenu": true,
   "sourceLang": "en",
   "targetLang": "fr",
   "useGoogleTranslate": true
  },
  "toc": {
   "base_numbering": 1,
   "nav_menu": {},
   "number_sections": true,
   "sideBar": true,
   "skip_h1_title": false,
   "title_cell": "Table of Contents",
   "title_sidebar": "Contents",
   "toc_cell": false,
   "toc_position": {},
   "toc_section_display": true,
   "toc_window_display": false
  }
 },
 "nbformat": 4,
 "nbformat_minor": 5
}
