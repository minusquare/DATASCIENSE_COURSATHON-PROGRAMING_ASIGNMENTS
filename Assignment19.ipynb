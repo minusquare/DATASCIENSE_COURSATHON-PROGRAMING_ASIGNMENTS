{
 "cells": [
  {
   "cell_type": "markdown",
   "id": "8583aeef",
   "metadata": {},
   "source": [
    "# 1. Make a class called Thing with no contents and print it. Then, create an object called example from this class and also print it. Are the printed values the same or different?"
   ]
  },
  {
   "cell_type": "code",
   "execution_count": 5,
   "id": "58af7e79",
   "metadata": {
    "ExecuteTime": {
     "end_time": "2022-02-28T14:00:02.420876Z",
     "start_time": "2022-02-28T14:00:02.405264Z"
    }
   },
   "outputs": [
    {
     "name": "stdout",
     "output_type": "stream",
     "text": [
      "<class '__main__.Thing'>\n",
      "<__main__.Thing object at 0x000001E3382619A0>\n"
     ]
    }
   ],
   "source": [
    "# ANS 1\n",
    "class Thing():\n",
    "    pass\n",
    "#\n",
    "example = Thing()\n",
    "#\n",
    "print(Thing)\n",
    "print(example)"
   ]
  },
  {
   "cell_type": "markdown",
   "id": "949c68bb",
   "metadata": {},
   "source": [
    "# 2. Create a new class called Thing2 and add the value 'abc' to the letters class attribute. Letters should be printed."
   ]
  },
  {
   "cell_type": "code",
   "execution_count": 8,
   "id": "6571f7b9",
   "metadata": {
    "ExecuteTime": {
     "end_time": "2022-02-28T14:05:45.345719Z",
     "start_time": "2022-02-28T14:05:45.330095Z"
    }
   },
   "outputs": [
    {
     "name": "stdout",
     "output_type": "stream",
     "text": [
      "abc\n"
     ]
    }
   ],
   "source": [
    "# ANS 2\n",
    "class Thing2():\n",
    "    letters = 'abc'\n",
    "print(Thing2.letters)\n",
    "# Class attributes are the variables defined directly in the class that are \n",
    "# shared by all objects of the class. \n",
    "# To access/print them we need not create object of class"
   ]
  },
  {
   "cell_type": "markdown",
   "id": "1cbd5474",
   "metadata": {},
   "source": [
    "# 3. Make yet another class called, of course, Thing3. This time, assign the value 'xyz' to an instance (object) attribute called letters. Print letters. Do you need to make an object from the class to do this?"
   ]
  },
  {
   "cell_type": "code",
   "execution_count": 10,
   "id": "71253d32",
   "metadata": {
    "ExecuteTime": {
     "end_time": "2022-02-28T14:22:27.057585Z",
     "start_time": "2022-02-28T14:22:27.004156Z"
    }
   },
   "outputs": [
    {
     "name": "stdout",
     "output_type": "stream",
     "text": [
      "xyz\n"
     ]
    }
   ],
   "source": [
    "# ANS 3\n",
    "class Thing3():\n",
    "    def __init__(self, string):\n",
    "        self.letters= string\n",
    "#\n",
    "myob = Thing3(\"xyz\")\n",
    "#\n",
    "print(myob.letters)\n",
    "# Instance attributes are attributes or properties attached to an instance of\n",
    "# a class. Instance attributes are defined in the constructor. \n",
    "# # To access/print them we must create object of class"
   ]
  },
  {
   "cell_type": "markdown",
   "id": "407b9160",
   "metadata": {},
   "source": [
    "# 4. Create an Element class with the instance attributes name, symbol, and number. Create a class object with the values 'Hydrogen,' 'H,' and 1."
   ]
  },
  {
   "cell_type": "code",
   "execution_count": 16,
   "id": "c0f4d041",
   "metadata": {
    "ExecuteTime": {
     "end_time": "2022-02-28T14:39:00.860193Z",
     "start_time": "2022-02-28T14:39:00.806834Z"
    }
   },
   "outputs": [
    {
     "name": "stdout",
     "output_type": "stream",
     "text": [
      "Hydrogen\n",
      "1\n",
      "H\n"
     ]
    }
   ],
   "source": [
    "# ANS 4\n",
    "class Element():\n",
    "    def __init__(self,name,symbol,number):\n",
    "        self.name = name\n",
    "        self.symbol = symbol\n",
    "        self.number = number\n",
    "#\n",
    "myobj = Element(\"Hydrogen\",\"H\",1)\n",
    "#\n",
    "print(myobj.name)\n",
    "print(myobj.number)\n",
    "print(myobj.symbol)"
   ]
  },
  {
   "cell_type": "markdown",
   "id": "0f35a154",
   "metadata": {},
   "source": [
    "# 5. Make a dictionary with these keys and values: 'name': 'Hydrogen', 'symbol': 'H', 'number': 1. Then, create an object called hydrogen from class Element using this dictionary."
   ]
  },
  {
   "cell_type": "code",
   "execution_count": 22,
   "id": "5be699ff",
   "metadata": {
    "ExecuteTime": {
     "end_time": "2022-02-28T14:46:37.631531Z",
     "start_time": "2022-02-28T14:46:37.593684Z"
    }
   },
   "outputs": [
    {
     "name": "stdout",
     "output_type": "stream",
     "text": [
      "Hydrogen\n",
      "1\n",
      "H\n"
     ]
    }
   ],
   "source": [
    "# ANS 5\n",
    "class Element():\n",
    "    def __init__(self,name,symbol,number):\n",
    "        self.name = name\n",
    "        self.symbol = symbol\n",
    "        self.number = number\n",
    "#\n",
    "d= { 'name':'Hydrogen',\n",
    "     'symbol':'H',\n",
    "     'number': '1'\n",
    "    }\n",
    "#\n",
    "hydrogen = Element(**d)\n",
    "print(hydrogen.name)\n",
    "print(hydrogen.number)\n",
    "print(hydrogen.symbol)"
   ]
  },
  {
   "cell_type": "markdown",
   "id": "68d76899",
   "metadata": {},
   "source": [
    "# 6. For the Element class, define a method called dump() that prints the values of the object’s attributes (name, symbol, and number). Create the hydrogen object from this new definition and use dump() to print its attributes."
   ]
  },
  {
   "cell_type": "code",
   "execution_count": 24,
   "id": "4a465584",
   "metadata": {
    "ExecuteTime": {
     "end_time": "2022-02-28T14:47:01.201846Z",
     "start_time": "2022-02-28T14:47:01.148417Z"
    }
   },
   "outputs": [
    {
     "name": "stdout",
     "output_type": "stream",
     "text": [
      "name=Hydrogen, symbol=H, number=1\n"
     ]
    }
   ],
   "source": [
    "# ANS 6\n",
    "class Element():\n",
    "    def __init__(self,name,symbol,number):\n",
    "        self.name = name\n",
    "        self.symbol = symbol\n",
    "        self.number = number\n",
    "    def dump(self):\n",
    "        print('name=%s, symbol=%s, number=%s'% (self.name, self.symbol, self.number) )\n",
    "#\n",
    "d= { 'name':'Hydrogen',\n",
    "     'symbol':'H',\n",
    "     'number':'1'\n",
    "    }\n",
    "#\n",
    "hydrogen = Element(**d)\n",
    "hydrogen.dump()"
   ]
  },
  {
   "cell_type": "markdown",
   "id": "705793eb",
   "metadata": {},
   "source": [
    "# 7. Call print(hydrogen). In the definition of Element, change the name of method dump to __str__, create a new hydrogen object, and call print(hydrogen) again."
   ]
  },
  {
   "cell_type": "code",
   "execution_count": 25,
   "id": "553bd123",
   "metadata": {
    "ExecuteTime": {
     "end_time": "2022-02-28T14:47:16.827511Z",
     "start_time": "2022-02-28T14:47:16.780660Z"
    }
   },
   "outputs": [
    {
     "name": "stdout",
     "output_type": "stream",
     "text": [
      "<__main__.Element object at 0x000001E33807A2E0>\n"
     ]
    }
   ],
   "source": [
    "# ANS 7 A\n",
    "# FIRST KEEPING dump() AS IT IS\n",
    "class Element():\n",
    "    def __init__(self,name,symbol,number):\n",
    "        self.name = name\n",
    "        self.symbol = symbol\n",
    "        self.number = number\n",
    "    def dump(self):\n",
    "        print('name=%s, symbol=%s, number=%s'% (self.name, self.symbol, self.number) )\n",
    "#\n",
    "d= { 'name':'Hydrogen',\n",
    "     'symbol':'H',\n",
    "     'number': '1'\n",
    "    }\n",
    "#\n",
    "hydrogen = Element(**d)\n",
    "print(hydrogen)\n",
    "# <__main__.Element object at 0x000001E33807A2E0>"
   ]
  },
  {
   "cell_type": "code",
   "execution_count": 30,
   "id": "01c59248",
   "metadata": {
    "ExecuteTime": {
     "end_time": "2022-02-28T14:49:52.140816Z",
     "start_time": "2022-02-28T14:49:52.078283Z"
    }
   },
   "outputs": [
    {
     "name": "stdout",
     "output_type": "stream",
     "text": [
      "name=Hydrogen, symbol=H, number=1\n"
     ]
    },
    {
     "ename": "TypeError",
     "evalue": "__str__ returned non-string (type NoneType)",
     "output_type": "error",
     "traceback": [
      "\u001b[1;31m---------------------------------------------------------------------------\u001b[0m",
      "\u001b[1;31mTypeError\u001b[0m                                 Traceback (most recent call last)",
      "\u001b[1;32m~\\AppData\\Local\\Temp/ipykernel_3288/1955969096.py\u001b[0m in \u001b[0;36m<module>\u001b[1;34m\u001b[0m\n\u001b[0;32m     15\u001b[0m \u001b[1;31m#\u001b[0m\u001b[1;33m\u001b[0m\u001b[1;33m\u001b[0m\u001b[0m\n\u001b[0;32m     16\u001b[0m \u001b[0mhydrogen\u001b[0m \u001b[1;33m=\u001b[0m \u001b[0mElement\u001b[0m\u001b[1;33m(\u001b[0m\u001b[1;33m**\u001b[0m\u001b[0md\u001b[0m\u001b[1;33m)\u001b[0m\u001b[1;33m\u001b[0m\u001b[1;33m\u001b[0m\u001b[0m\n\u001b[1;32m---> 17\u001b[1;33m \u001b[0mprint\u001b[0m\u001b[1;33m(\u001b[0m\u001b[0mhydrogen\u001b[0m\u001b[1;33m)\u001b[0m\u001b[1;33m\u001b[0m\u001b[1;33m\u001b[0m\u001b[0m\n\u001b[0m\u001b[0;32m     18\u001b[0m \u001b[1;31m# Prints correctly but gives Type error due to print() statement\u001b[0m\u001b[1;33m\u001b[0m\u001b[1;33m\u001b[0m\u001b[0m\n\u001b[0;32m     19\u001b[0m \u001b[1;31m# TypeError: __str__ returned non-string (type NoneType)\u001b[0m\u001b[1;33m\u001b[0m\u001b[1;33m\u001b[0m\u001b[0m\n",
      "\u001b[1;31mTypeError\u001b[0m: __str__ returned non-string (type NoneType)"
     ]
    }
   ],
   "source": [
    "# NOW CHANGING THE METHOD dump() TO __str__\n",
    "# ANS 7 B\n",
    "class Element():\n",
    "    def __init__(self,name,symbol,number):\n",
    "        self.name = name\n",
    "        self.symbol = symbol\n",
    "        self.number = number\n",
    "    def __str__(self):\n",
    "        print('name=%s, symbol=%s, number=%s'% (self.name, self.symbol, self.number) )\n",
    "#\n",
    "d= { 'name':'Hydrogen',\n",
    "     'symbol':'H',\n",
    "     'number': '1'\n",
    "    }\n",
    "#\n",
    "hydrogen = Element(**d)\n",
    "print(hydrogen)\n",
    "# Prints correctly but gives Type error due to print() statement\n",
    "# TypeError: __str__ returned non-string (type NoneType)"
   ]
  },
  {
   "cell_type": "code",
   "execution_count": 31,
   "id": "f35ab6f3",
   "metadata": {
    "ExecuteTime": {
     "end_time": "2022-02-28T14:53:52.515874Z",
     "start_time": "2022-02-28T14:53:52.500253Z"
    }
   },
   "outputs": [
    {
     "name": "stdout",
     "output_type": "stream",
     "text": [
      "name=Hydrogen, symbol=H, number=1\n"
     ]
    }
   ],
   "source": [
    "# # ANS 7 C\n",
    "# Above type error can be eliminated by replacing print by return as below\n",
    "# NOW CHANGING  print by return in THE METHOD  __str__\n",
    "\n",
    "class Element():\n",
    "    def __init__(self,name,symbol,number):\n",
    "        self.name = name\n",
    "        self.symbol = symbol\n",
    "        self.number = number\n",
    "    def __str__(self):\n",
    "        return('name=%s, symbol=%s, number=%s'% (self.name, self.symbol, self.number) )\n",
    "#\n",
    "d= { 'name':'Hydrogen',\n",
    "     'symbol':'H',\n",
    "     'number': '1'\n",
    "    }\n",
    "#\n",
    "hydrogen = Element(**d)\n",
    "print(hydrogen)"
   ]
  },
  {
   "cell_type": "markdown",
   "id": "9d9449fc",
   "metadata": {},
   "source": [
    "# 8. Modify Element to make the attributes name, symbol, and number private. Define a getter property for each to return its value."
   ]
  },
  {
   "cell_type": "code",
   "execution_count": 40,
   "id": "7b7f5430",
   "metadata": {
    "ExecuteTime": {
     "end_time": "2022-02-28T15:23:34.659378Z",
     "start_time": "2022-02-28T15:23:34.628157Z"
    }
   },
   "outputs": [
    {
     "name": "stdout",
     "output_type": "stream",
     "text": [
      "Hydrogen\n",
      "1\n",
      "H\n"
     ]
    }
   ],
   "source": [
    "# ANS 8:\n",
    "#  Python doesn't have any mechanism that effectively restricts access to any\n",
    "#  instance variable or method. Python prescribes a convention of prefixing \n",
    "# the name of the variable/method with a single or double underscore to emulate\n",
    "# the behavior of protected and private access specifiers.\n",
    "#\n",
    "# The double underscore __ prefixed to a variable makes it private. \n",
    "# It gives a strong suggestion not to touch it from outside the class. \n",
    "# Any attempt to do so will result in an AttributeError: \n",
    "class Element(): \n",
    "    def __init__(self ,name,symbol,number):\n",
    "        self.__name = name\n",
    "        self.__symbol = symbol\n",
    "        self.__number = number\n",
    "    @property\n",
    "    def get_name(self):\n",
    "        return (self.__name)\n",
    "    @property\n",
    "    def get_symbol(self):\n",
    "        return (self.__symbol)\n",
    "    @property\n",
    "    def get_number(self):\n",
    "        return (self.__number)\n",
    "#\n",
    "d= { 'name':'Hydrogen',\n",
    "     'symbol':'H',\n",
    "     'number': '1'\n",
    "    }\n",
    "#\n",
    "hydrogen = Element(**d)\n",
    "# SHOWING THAT PRIVATE ATTRIBUTES CAN NOT BE ACCESSED BY OBJ.ATTRIBUTENAME\n",
    "# hydrogen.__name   #AttributeError: 'Element' object has no attribute '__name'\n",
    "# hydrogen.__symbol #AttributeError: 'Element' object has no attribute '__symbol'\n",
    "# hydrogen.__number #AttributeError: 'Element' object has no attribute '__number'\n",
    "#\n",
    "# However they can still be accessed by the 'getter' methods\n",
    "print(hydrogen.get_name)\n",
    "print(hydrogen.get_number)\n",
    "print(hydrogen.get_symbol)"
   ]
  },
  {
   "cell_type": "markdown",
   "id": "015fb1a4",
   "metadata": {},
   "source": [
    "# 9. Define three classes: Bear, Rabbit, and Octothorpe. For each, define only one method: eats(). This should return 'berries' (Bear), 'clover' (Rabbit), or 'campers' (Octothorpe). Create one object from each and print what it eats."
   ]
  },
  {
   "cell_type": "code",
   "execution_count": 49,
   "id": "8aa19c19",
   "metadata": {
    "ExecuteTime": {
     "end_time": "2022-02-28T15:40:13.968920Z",
     "start_time": "2022-02-28T15:40:13.931113Z"
    }
   },
   "outputs": [
    {
     "name": "stdout",
     "output_type": "stream",
     "text": [
      "berries\n",
      "clover\n",
      "campers\n"
     ]
    }
   ],
   "source": [
    "# ANS 9\n",
    "class Bear():\n",
    "    def eats():\n",
    "        print(\"berries\")\n",
    "class Rabbit():\n",
    "    def eats():\n",
    "        print(\"clover\")\n",
    "class Octothrope():\n",
    "    def eats():\n",
    "        print(\"campers\")\n",
    "\n",
    "#\n",
    "Bear.eats()\n",
    "Rabbit.eats()\n",
    "Octothrope.eats()\n"
   ]
  },
  {
   "cell_type": "markdown",
   "id": "9438c321",
   "metadata": {},
   "source": [
    "# 10. Define these classes: Laser, Claw, and SmartPhone. Each has only one method: does(). This returns 'disintegrate' (Laser), 'crush' (Claw), or 'ring' (SmartPhone). Then, define the class Robot that has one instance (object) of each of these. Define a does() method for the Robot that prints what its component objects do."
   ]
  },
  {
   "cell_type": "code",
   "execution_count": 52,
   "id": "726878ab",
   "metadata": {
    "ExecuteTime": {
     "end_time": "2022-02-28T15:47:33.621266Z",
     "start_time": "2022-02-28T15:47:33.574482Z"
    }
   },
   "outputs": [
    {
     "name": "stdout",
     "output_type": "stream",
     "text": [
      "Laser-disitegrate, Claw-crush, SmartPhone-ring\n"
     ]
    }
   ],
   "source": [
    "# ANS 10\n",
    "class Laser:\n",
    "    def does(self):\n",
    "        return('disitegrate')\n",
    "class Claw:\n",
    "    def does(self):\n",
    "        return('crush')\n",
    "class SmartPhone:\n",
    "    def does(self):\n",
    "        return('ring')\n",
    "        \n",
    "class Robot:\n",
    "    def __init__(self): # when Robot object is instantiated 3 component\n",
    "                        # objects are also instantiated\n",
    "        self.laser = Laser()\n",
    "        self.claw = Claw()\n",
    "        self.smartphone = SmartPhone()\n",
    "    def does(self):\n",
    "        return ('Laser-%s, Claw-%s, SmartPhone-%s' % (self.laser.does(),self.claw.does(),self.smartphone.does()))\n",
    "#\n",
    "myrobot = Robot()\n",
    "print(myrobot.does()) "
   ]
  }
 ],
 "metadata": {
  "kernelspec": {
   "display_name": "Python 3 (ipykernel)",
   "language": "python",
   "name": "python3"
  },
  "language_info": {
   "codemirror_mode": {
    "name": "ipython",
    "version": 3
   },
   "file_extension": ".py",
   "mimetype": "text/x-python",
   "name": "python",
   "nbconvert_exporter": "python",
   "pygments_lexer": "ipython3",
   "version": "3.9.7"
  },
  "nbTranslate": {
   "displayLangs": [
    "*"
   ],
   "hotkey": "alt-t",
   "langInMainMenu": true,
   "sourceLang": "en",
   "targetLang": "fr",
   "useGoogleTranslate": true
  },
  "toc": {
   "base_numbering": 1,
   "nav_menu": {},
   "number_sections": true,
   "sideBar": true,
   "skip_h1_title": false,
   "title_cell": "Table of Contents",
   "title_sidebar": "Contents",
   "toc_cell": false,
   "toc_position": {},
   "toc_section_display": true,
   "toc_window_display": false
  }
 },
 "nbformat": 4,
 "nbformat_minor": 5
}
