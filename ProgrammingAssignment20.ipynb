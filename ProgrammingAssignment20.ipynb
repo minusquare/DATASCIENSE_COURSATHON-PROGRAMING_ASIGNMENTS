{
 "cells": [
  {
   "cell_type": "markdown",
   "id": "d27543ab",
   "metadata": {},
   "source": [
    "Question1\n",
    "Create a function that takes a list of strings and integers, and filters out\n",
    "the list so that it returns a list of integers only.\n",
    "Examples\n",
    "filter_list([1, 2, 3, \"a\", \"b\", 4]) ➞ [1, 2, 3, 4]\n",
    "filter_list([\"A\", 0, \"Edabit\", 1729, \"Python\", \"1729\"]) ➞ [0, 1729]\n",
    "filter_list([\"Nothing\", \"here\"]) ➞ []"
   ]
  },
  {
   "cell_type": "code",
   "execution_count": 3,
   "id": "4fedb0ea",
   "metadata": {
    "ExecuteTime": {
     "end_time": "2022-03-12T08:32:45.964037Z",
     "start_time": "2022-03-12T08:32:45.928044Z"
    }
   },
   "outputs": [
    {
     "name": "stdout",
     "output_type": "stream",
     "text": [
      "[1, 2, 3, 4]\n",
      "[0, 1729]\n",
      "[]\n"
     ]
    }
   ],
   "source": [
    "def filter_list(lst):\n",
    "    output_lst = [i for i in lst if type(i)== int]\n",
    "    return output_lst\n",
    "# \n",
    "ans1=filter_list([1, 2, 3, \"a\", \"b\", 4])\n",
    "ans2=filter_list([\"A\", 0, \"Edabit\", 1729, \"Python\", \"1729\"])\n",
    "ans3=filter_list([\"Nothing\", \"here\"])\n",
    "#\n",
    "print(f\"{ans1}\\n{ans2}\\n{ans3}\")\n",
    "    "
   ]
  },
  {
   "cell_type": "markdown",
   "id": "7be2f31d",
   "metadata": {},
   "source": [
    "Question2\n",
    "Given a list of numbers, create a function which returns the list but with \n",
    "each element's index in the list added to itself. This means you add 0 to the\n",
    "number at index 0, add 1 to the number at index 1, etc...\n",
    "Examples\n",
    "add_indexes([0, 0, 0, 0, 0]) ➞ [0, 1, 2, 3, 4]\n",
    "add_indexes([1, 2, 3, 4, 5]) ➞ [1, 3, 5, 7, 9]\n",
    "add_indexes([5, 4, 3, 2, 1]) ➞ [5, 5, 5, 5, 5]\n",
    "#\n",
    "print(f\"{ans1}\\n{ans2}\\n{ans3}\")"
   ]
  },
  {
   "cell_type": "code",
   "execution_count": 4,
   "id": "38b896c0",
   "metadata": {
    "ExecuteTime": {
     "end_time": "2022-03-12T08:37:18.441355Z",
     "start_time": "2022-03-12T08:37:18.406399Z"
    }
   },
   "outputs": [
    {
     "name": "stdout",
     "output_type": "stream",
     "text": [
      "[0, 1, 2, 3, 4]\n",
      "[1, 3, 5, 7, 9]\n",
      "[5, 5, 5, 5, 5]\n"
     ]
    }
   ],
   "source": [
    "def add_indexes(lst):\n",
    "    output_list=[i+lst[i] for i in range(len(lst))]\n",
    "    return output_list\n",
    "ans1=add_indexes([0, 0, 0, 0, 0])\n",
    "ans2=add_indexes([1, 2, 3, 4, 5])\n",
    "ans3=add_indexes([5, 4, 3, 2, 1])\n",
    "print(f\"{ans1}\\n{ans2}\\n{ans3}\")"
   ]
  },
  {
   "cell_type": "markdown",
   "id": "b4c832ba",
   "metadata": {},
   "source": [
    "Question3\n",
    "Create a function that takes the height and radius of a cone as arguments and\n",
    "returns the volume of the cone rounded to the nearest hundredth. See the \n",
    "resources tab for the formula.\n",
    "Examples\n",
    "cone_volume(3, 2) ➞ 12.57\n",
    "cone_volume(15, 6) ➞ 565.49\n",
    "cone_volume(18, 0) ➞ 0"
   ]
  },
  {
   "cell_type": "code",
   "execution_count": 9,
   "id": "bcf9f42e",
   "metadata": {
    "ExecuteTime": {
     "end_time": "2022-03-12T08:43:39.566652Z",
     "start_time": "2022-03-12T08:43:39.543647Z"
    }
   },
   "outputs": [
    {
     "name": "stdout",
     "output_type": "stream",
     "text": [
      "12.57\n",
      "565.47\n",
      "0.0\n"
     ]
    }
   ],
   "source": [
    "def cone_volume(h,r):\n",
    "    vol = 3.1415*(r*r)*h/3\n",
    "    return (round(vol,2))\n",
    "#\n",
    "ans1=cone_volume(3, 2)\n",
    "ans2=cone_volume(15,6)\n",
    "ans3=cone_volume(18,0)\n",
    "print(f\"{ans1}\\n{ans2}\\n{ans3}\")"
   ]
  },
  {
   "cell_type": "markdown",
   "id": "5a0eaada",
   "metadata": {
    "ExecuteTime": {
     "end_time": "2022-03-12T08:50:55.189019Z",
     "start_time": "2022-03-12T08:50:55.158058Z"
    }
   },
   "source": [
    "Question4\n",
    "This Triangular Number Sequence is generated from a pattern of dots that form\n",
    "a triangle. The first 5 numbers of the sequence, or dots, are: \n",
    "1, 3, 6, 10, 15\n",
    "This means that the first triangle has just one dot, the second one has three\n",
    "dots, the third one has 6 dots and so on.\n",
    "Write a function that gives the number of dots with its corresponding triangle\n",
    "number of the sequence.\n",
    "Examples\n",
    "triangle(1)->1\n",
    "triangle(6)->21\n",
    "triangle(215)->23220"
   ]
  },
  {
   "cell_type": "code",
   "execution_count": 4,
   "id": "670be6c4",
   "metadata": {
    "ExecuteTime": {
     "end_time": "2022-03-12T09:07:50.116090Z",
     "start_time": "2022-03-12T09:07:50.101119Z"
    }
   },
   "outputs": [
    {
     "name": "stdout",
     "output_type": "stream",
     "text": [
      "1\n",
      "21\n",
      "23220\n"
     ]
    }
   ],
   "source": [
    "def triangle(n):\n",
    "    return int((n*(n+1)/2))\n",
    "    \n",
    "#\n",
    "ans1=triangle(1)\n",
    "ans2=triangle(6)\n",
    "ans3=triangle(215)\n",
    "print(f\"{ans1}\\n{ans2}\\n{ans3}\")"
   ]
  },
  {
   "cell_type": "code",
   "execution_count": null,
   "id": "bfd4b211",
   "metadata": {},
   "outputs": [],
   "source": [
    "Question5\n",
    "Create a function that takes a list of numbers between 1 and 10(excluding one\n",
    "number) and returns the missing number.\n",
    "Examples\n",
    "missing_num([1, 2, 3, 4, 6, 7, 8, 9, 10]) ➞ 5\n",
    "missing_num([7, 2, 3, 6, 5, 9, 1, 4, 8]) ➞ 10\n",
    "missing_num([10, 5, 1, 2, 4, 6, 8, 3, 9]) ➞ 7"
   ]
  },
  {
   "cell_type": "code",
   "execution_count": 6,
   "id": "75bcb432",
   "metadata": {
    "ExecuteTime": {
     "end_time": "2022-03-12T09:10:23.783810Z",
     "start_time": "2022-03-12T09:10:23.752887Z"
    }
   },
   "outputs": [
    {
     "name": "stdout",
     "output_type": "stream",
     "text": [
      "5\n",
      "10\n",
      "7\n"
     ]
    }
   ],
   "source": [
    "def missing_num(lst):\n",
    "    for num in range(1,11):\n",
    "        if num not in lst:\n",
    "            return num\n",
    "#\n",
    "ans1=missing_num([1, 2, 3, 4, 6, 7, 8, 9, 10])\n",
    "ans2=missing_num([7, 2, 3, 6, 5, 9, 1, 4, 8])\n",
    "ans3=missing_num([10, 5, 1, 2, 4, 6, 8, 3, 9])\n",
    "print(f\"{ans1}\\n{ans2}\\n{ans3}\")"
   ]
  }
 ],
 "metadata": {
  "kernelspec": {
   "display_name": "Python 3 (ipykernel)",
   "language": "python",
   "name": "python3"
  },
  "language_info": {
   "codemirror_mode": {
    "name": "ipython",
    "version": 3
   },
   "file_extension": ".py",
   "mimetype": "text/x-python",
   "name": "python",
   "nbconvert_exporter": "python",
   "pygments_lexer": "ipython3",
   "version": "3.9.7"
  },
  "nbTranslate": {
   "displayLangs": [
    "*"
   ],
   "hotkey": "alt-t",
   "langInMainMenu": true,
   "sourceLang": "en",
   "targetLang": "fr",
   "useGoogleTranslate": true
  },
  "toc": {
   "base_numbering": 1,
   "nav_menu": {},
   "number_sections": true,
   "sideBar": true,
   "skip_h1_title": false,
   "title_cell": "Table of Contents",
   "title_sidebar": "Contents",
   "toc_cell": false,
   "toc_position": {},
   "toc_section_display": true,
   "toc_window_display": false
  }
 },
 "nbformat": 4,
 "nbformat_minor": 5
}
