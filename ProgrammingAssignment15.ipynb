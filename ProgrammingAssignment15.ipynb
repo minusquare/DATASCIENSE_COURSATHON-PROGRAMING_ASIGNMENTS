{
 "cells": [
  {
   "cell_type": "markdown",
   "id": "d7cf0ae4",
   "metadata": {},
   "source": [
    "# Question 1:\n",
    "Please write a program using generator to print the numbers which can be divisible by 5 and 7 between 0 and n in comma separated form while n is input by console.\n",
    "Example:\n",
    "If the following n is given as input to the program:\n",
    "100\n",
    "Then, the output of the program should be:\n",
    "0,35,70"
   ]
  },
  {
   "cell_type": "code",
   "execution_count": 1,
   "id": "6611e3a5",
   "metadata": {
    "ExecuteTime": {
     "end_time": "2022-03-09T08:30:26.927881Z",
     "start_time": "2022-03-09T08:30:19.247170Z"
    }
   },
   "outputs": [
    {
     "name": "stdout",
     "output_type": "stream",
     "text": [
      "Insert upper bound of numbers for which you want to check divisibility by 7 and 5100\n",
      "[0, 35, 70]\n"
     ]
    }
   ],
   "source": [
    "class Divisible_by_5_7:\n",
    "    def __init__(self,n):  # Generator\n",
    "        pass\n",
    "    \n",
    "    def by_seven(self, n): # Method to check divisibility\n",
    "        for number in range(0,n + 1):\n",
    "            if number %5 == 0 and number % 7 == 0:\n",
    "                yield number\n",
    "                \n",
    "n = (int(input(\"Insert upper bound of numbers for which you want to check divisibility by 7 and 5\")))\n",
    "obj= Divisible_by_5_7(n)\n",
    "answer = obj.by_seven(n)\n",
    "print(list(answer))"
   ]
  },
  {
   "cell_type": "markdown",
   "id": "06cfcff9",
   "metadata": {},
   "source": [
    "# Question 2:\n",
    "Please write a program using generator to print the even numbers between 0 and n\n",
    "in comma separated form while n is input by console.\n",
    "Example:\n",
    "If the following n is given as input to the program:\n",
    "10\n",
    "Then, the output of the program should be:\n",
    "0,2,4,6,8,10"
   ]
  },
  {
   "cell_type": "code",
   "execution_count": 2,
   "id": "a16d4b9a",
   "metadata": {
    "ExecuteTime": {
     "end_time": "2022-03-09T08:30:46.678816Z",
     "start_time": "2022-03-09T08:30:42.438619Z"
    }
   },
   "outputs": [
    {
     "name": "stdout",
     "output_type": "stream",
     "text": [
      "Insert upper bound of numbers for which you want to check divisibility by 710\n",
      "[0, 2, 4, 6, 8, 10]\n"
     ]
    }
   ],
   "source": [
    "class Find_even:\n",
    "    def __init__(self,n):  # Generator\n",
    "        pass\n",
    "    \n",
    "    def search_even(self, n): # Method to check divisibility\n",
    "        for number in range(0,n + 1):\n",
    "            if number %2 == 0:\n",
    "                yield number\n",
    "                \n",
    "n = (int(input(\"Insert upper bound of numbers for which you want to check divisibility by 7\")))\n",
    "obj= Find_even(n)\n",
    "answer = obj.search_even(n)\n",
    "print(list(answer))"
   ]
  },
  {
   "cell_type": "markdown",
   "id": "2778a8c3",
   "metadata": {},
   "source": [
    "# Question 3:\n",
    "The Fibonacci Sequence is computed based on the following formula:\n",
    "f(n)=0 if n=0\n",
    "f(n)=1 if n=1\n",
    "f(n)=f(n-1)+f(n-2) if n>1\n",
    "Please write a program using list comprehension to print the Fibonacci Sequence in comma separated form with a given n input by console.\n",
    "Example:\n",
    "If the following n is given as input to the program:\n",
    "7\n",
    "Then, the output of the program should be:\n",
    "0,1,1,2,3,5,8,13"
   ]
  },
  {
   "cell_type": "code",
   "execution_count": 6,
   "id": "cda7fbe3",
   "metadata": {
    "ExecuteTime": {
     "end_time": "2022-03-09T08:43:51.591057Z",
     "start_time": "2022-03-09T08:43:49.634314Z"
    }
   },
   "outputs": [
    {
     "name": "stdout",
     "output_type": "stream",
     "text": [
      "Enter the count of fibonnaci numbers you want to generate7\n",
      "0,1,1,2,3,5,8,13\n"
     ]
    }
   ],
   "source": [
    "def fibonacci(n):\n",
    "    for i in (1, n+1):\n",
    "        if n==0 or n==1:\n",
    "            result = n\n",
    "        else:\n",
    "            result = fibonacci(n-1)+fibonacci(n-2)\n",
    "    return result\n",
    "#Check\n",
    "n=int(input(\"Enter the count of fibonnaci numbers you want to generate\"))\n",
    "fib_values = [str(fibonacci(i)) for i in range(0, n+1)]\n",
    "print(\",\".join(fib_values))   "
   ]
  },
  {
   "cell_type": "markdown",
   "id": "4e3babf3",
   "metadata": {},
   "source": [
    "# Question 4:\n",
    "Assuming that we have some email addresses in the \"username@companyname.com\" format,\n",
    "please write program to print the user name of a given email address. Both user names\n",
    "and company names are composed of letters only.\n",
    "Example:\n",
    "If the following email address is given as input to the program:\n",
    "john@google.com\n",
    "Then, the output of the program should be:\n",
    "john"
   ]
  },
  {
   "cell_type": "code",
   "execution_count": 8,
   "id": "3c3e2c95",
   "metadata": {
    "ExecuteTime": {
     "end_time": "2022-03-09T08:50:36.565470Z",
     "start_time": "2022-03-09T08:50:30.808322Z"
    },
    "run_control": {
     "marked": true
    }
   },
   "outputs": [
    {
     "name": "stdout",
     "output_type": "stream",
     "text": [
      "Enter email ID: john@google.com\n",
      "john\n"
     ]
    }
   ],
   "source": [
    "import string\n",
    "def get_uname(email_string):\n",
    "    uname = email_string.split(\"@\",1)[0]\n",
    "    return uname\n",
    "# Check\n",
    "email = input(\"Enter email ID: \")\n",
    "name = get_uname(email)\n",
    "print(name)"
   ]
  },
  {
   "cell_type": "markdown",
   "id": "cde7efbf",
   "metadata": {},
   "source": [
    "# Question 5:\n",
    "Define a class named Shape and its subclass Square. The Square class has an init\n",
    "function which takes a length as argument. Both classes have a area function which\n",
    "can print the area of the shape where Shape's area is 0 by default."
   ]
  },
  {
   "cell_type": "code",
   "execution_count": 12,
   "id": "7027a7dd",
   "metadata": {
    "ExecuteTime": {
     "end_time": "2022-03-09T08:59:13.260979Z",
     "start_time": "2022-03-09T08:59:13.235980Z"
    }
   },
   "outputs": [
    {
     "name": "stdout",
     "output_type": "stream",
     "text": [
      "Area of shape = 0\n",
      "Area of square is 100\n"
     ]
    }
   ],
   "source": [
    "class Shape():\n",
    "    def __init__(self):\n",
    "        pass\n",
    "    def print_area(self):\n",
    "        print(\"Area of shape = 0\")\n",
    "class Square(Shape):\n",
    "    def __init__(self,length):\n",
    "        self.length = length\n",
    "    def print_area(self):\n",
    "        area = self.length ** 2\n",
    "        print(f\"Area of square is {area}\")\n",
    "# CHECKING\n",
    "# Instantiate Shape\n",
    "myshape = Shape()\n",
    "myshape.print_area()\n",
    "# Instantiate Square\n",
    "mysquare = Square(10)\n",
    "mysquare.print_area()    "
   ]
  }
 ],
 "metadata": {
  "kernelspec": {
   "display_name": "Python 3 (ipykernel)",
   "language": "python",
   "name": "python3"
  },
  "language_info": {
   "codemirror_mode": {
    "name": "ipython",
    "version": 3
   },
   "file_extension": ".py",
   "mimetype": "text/x-python",
   "name": "python",
   "nbconvert_exporter": "python",
   "pygments_lexer": "ipython3",
   "version": "3.9.7"
  },
  "nbTranslate": {
   "displayLangs": [
    "*"
   ],
   "hotkey": "alt-t",
   "langInMainMenu": true,
   "sourceLang": "en",
   "targetLang": "fr",
   "useGoogleTranslate": true
  },
  "toc": {
   "base_numbering": 1,
   "nav_menu": {},
   "number_sections": true,
   "sideBar": true,
   "skip_h1_title": false,
   "title_cell": "Table of Contents",
   "title_sidebar": "Contents",
   "toc_cell": false,
   "toc_position": {},
   "toc_section_display": true,
   "toc_window_display": false
  }
 },
 "nbformat": 4,
 "nbformat_minor": 5
}
