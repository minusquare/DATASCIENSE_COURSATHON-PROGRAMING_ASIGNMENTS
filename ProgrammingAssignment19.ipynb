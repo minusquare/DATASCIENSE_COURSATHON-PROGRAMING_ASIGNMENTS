{
 "cells": [
  {
   "cell_type": "markdown",
   "id": "c01e57eb",
   "metadata": {},
   "source": [
    "Question1\n",
    "Create a function that takes a string and returns a string in which each character\n",
    "is repeated once.\n",
    "Examples\n",
    "double_char(\"String\") ➞ \"SSttrriinngg\"\n",
    "double_char(\"Hello World!\") ➞ \"HHeelllloo  WWoorrlldd!!\"\n",
    "double_char(\"1234!_ \") ➞ \"11223344!!__  \""
   ]
  },
  {
   "cell_type": "code",
   "execution_count": 7,
   "id": "7af08971",
   "metadata": {
    "ExecuteTime": {
     "end_time": "2022-03-12T09:50:30.284727Z",
     "start_time": "2022-03-12T09:50:30.265728Z"
    }
   },
   "outputs": [
    {
     "name": "stdout",
     "output_type": "stream",
     "text": [
      "SSttrriinngg\n",
      "HHeelllloo  WWoorrlldd!!\n",
      "11223344!!__  \n"
     ]
    }
   ],
   "source": [
    "def double_char(string):\n",
    "    lst = list(string)\n",
    "    output_list=[]\n",
    "    for element in lst:\n",
    "        output_list.append(element)\n",
    "        output_list.append(element)\n",
    "    output_string = \"\".join(output_list)\n",
    "    return(output_string)\n",
    "ans1=double_char(\"String\")\n",
    "ans2=double_char(\"Hello World!\")\n",
    "ans3= double_char(\"1234!_ \")\n",
    "print(f\"{ans1}\\n{ans2}\\n{ans3}\")"
   ]
  },
  {
   "cell_type": "markdown",
   "id": "9033d847",
   "metadata": {},
   "source": [
    "Question2\n",
    "Create a function that reverses a boolean value and returns the string \n",
    "\"boolean expected\" if another variable type is given.\n",
    "Examples\n",
    "reverse(True) ➞ False\n",
    "reverse(False) ➞ True\n",
    "reverse(0) ➞ \"boolean expected\"\n",
    "reverse(None) ➞ \"boolean expected\""
   ]
  },
  {
   "cell_type": "code",
   "execution_count": 11,
   "id": "d052e3ef",
   "metadata": {
    "ExecuteTime": {
     "end_time": "2022-03-12T09:55:02.746054Z",
     "start_time": "2022-03-12T09:55:02.726062Z"
    }
   },
   "outputs": [
    {
     "name": "stdout",
     "output_type": "stream",
     "text": [
      "False\n",
      "True\n",
      "boolean expected\n",
      "boolean expected\n"
     ]
    }
   ],
   "source": [
    "def reverse(boolean):\n",
    "    if not type(boolean)==bool:\n",
    "        return (\"boolean expected\")\n",
    "    else:\n",
    "        return(not boolean)\n",
    "#\n",
    "ans1=reverse(True) \n",
    "ans2=reverse(False)\n",
    "ans3=reverse(0) \n",
    "ans4=reverse(None) \n",
    "print(f\"{ans1}\\n{ans2}\\n{ans3}\\n{ans4}\")"
   ]
  },
  {
   "cell_type": "markdown",
   "id": "9231e7b7",
   "metadata": {},
   "source": [
    "Question3\n",
    "Create a function that returns the thickness (in meters) of a piece of paper after folding it n number of times. The paper starts off with a thickness of 0.5mm.\n",
    "Examples\n",
    "num_layers(1) ➞ \"0.001m\"\n",
    "Paper folded once is 1mm (equal to 0.001m)\n",
    "num_layers(4) ➞ \"0.008m\"\n",
    "Paper folded 4 times is 8mm (equal to 0.008m)\n",
    "num_layers(21) ➞ \"1048.576m\"\n",
    "Paper folded 21 times is 1048576mm (equal to 1048.576m)"
   ]
  },
  {
   "cell_type": "code",
   "execution_count": 22,
   "id": "9f5c1307",
   "metadata": {
    "ExecuteTime": {
     "end_time": "2022-03-12T10:04:48.352628Z",
     "start_time": "2022-03-12T10:04:48.338626Z"
    }
   },
   "outputs": [
    {
     "name": "stdout",
     "output_type": "stream",
     "text": [
      "0.001\n",
      "0.008\n",
      "1048.576\n"
     ]
    }
   ],
   "source": [
    "def num_layers(n):\n",
    "    t=0.5/1000    # converting to meter\n",
    "    new_t = t * (2**n)\n",
    "    return(new_t)\n",
    "#\n",
    "ans1=num_layers(1)\n",
    "ans2=num_layers(4)\n",
    "ans3=num_layers(21) \n",
    "print(f\"{ans1}\\n{ans2}\\n{ans3}\")"
   ]
  },
  {
   "cell_type": "markdown",
   "id": "f04f2674",
   "metadata": {},
   "source": [
    "Question4\n",
    "Create a function that takes a single string as argument and returns an ordered\n",
    "list containing the indices of all capital letters in the string.\n",
    "Examples\n",
    "index_of_caps(\"eDaBiT\") ➞ [1, 3, 5]\n",
    "index_of_caps(\"eQuINoX\") ➞ [1, 3, 4, 6]\n",
    "index_of_caps(\"determine\") ➞ []\n",
    "index_of_caps(\"STRIKE\") ➞ [0, 1, 2, 3, 4, 5]\n",
    "index_of_caps(\"sUn\") ➞ [1]"
   ]
  },
  {
   "cell_type": "code",
   "execution_count": 27,
   "id": "2023ea9c",
   "metadata": {
    "ExecuteTime": {
     "end_time": "2022-03-12T10:12:41.705758Z",
     "start_time": "2022-03-12T10:12:41.687752Z"
    }
   },
   "outputs": [
    {
     "name": "stdout",
     "output_type": "stream",
     "text": [
      "[1, 3, 5]\n",
      "[1, 3, 4, 6]\n",
      "[]\n",
      "[0, 1, 2, 3, 4, 5]\n",
      "[1]\n"
     ]
    }
   ],
   "source": [
    "# import string\n",
    "def index_of_caps(string):\n",
    "    index_list = []\n",
    "    for i in range (len(string)):\n",
    "        if (string[i].isupper()):\n",
    "            index_list.append(i)\n",
    "    return(index_list)\n",
    "#\n",
    "ans1=index_of_caps(\"eDaBiT\")\n",
    "ans2=index_of_caps(\"eQuINoX\")\n",
    "ans3=index_of_caps(\"determine\")\n",
    "ans4=index_of_caps(\"STRIKE\")\n",
    "ans5=index_of_caps(\"sUn\")\n",
    "print(f\"{ans1}\\n{ans2}\\n{ans3}\\n{ans4}\\n{ans5}\")"
   ]
  },
  {
   "cell_type": "code",
   "execution_count": null,
   "id": "523acd9e",
   "metadata": {},
   "outputs": [],
   "source": [
    "Question5\n",
    "Using list comprehensions, create a function that finds all even numbers from\n",
    "1 to the given number.\n",
    "Examples\n",
    "find_even_nums(8) ➞ [2, 4, 6, 8]\n",
    "find_even_nums(4) ➞ [2, 4]\n",
    "find_even_nums(2) ➞ [2]"
   ]
  },
  {
   "cell_type": "code",
   "execution_count": 31,
   "id": "07cc63e5",
   "metadata": {
    "ExecuteTime": {
     "end_time": "2022-03-12T10:16:27.460512Z",
     "start_time": "2022-03-12T10:16:27.446513Z"
    }
   },
   "outputs": [
    {
     "name": "stdout",
     "output_type": "stream",
     "text": [
      "[2, 4, 6, 8]\n",
      "[2, 4]\n",
      "[2]\n"
     ]
    }
   ],
   "source": [
    "def find_even_nums(n):\n",
    "    even_list =[element for element in range(1,n+1) if element%2==0]\n",
    "    return even_list\n",
    "#\n",
    "ans1=find_even_nums(8)\n",
    "ans2=find_even_nums(4)\n",
    "ans3=find_even_nums(2)\n",
    "print(f\"{ans1}\\n{ans2}\\n{ans3}\")"
   ]
  }
 ],
 "metadata": {
  "kernelspec": {
   "display_name": "Python 3 (ipykernel)",
   "language": "python",
   "name": "python3"
  },
  "language_info": {
   "codemirror_mode": {
    "name": "ipython",
    "version": 3
   },
   "file_extension": ".py",
   "mimetype": "text/x-python",
   "name": "python",
   "nbconvert_exporter": "python",
   "pygments_lexer": "ipython3",
   "version": "3.9.7"
  },
  "nbTranslate": {
   "displayLangs": [
    "*"
   ],
   "hotkey": "alt-t",
   "langInMainMenu": true,
   "sourceLang": "en",
   "targetLang": "fr",
   "useGoogleTranslate": true
  },
  "toc": {
   "base_numbering": 1,
   "nav_menu": {},
   "number_sections": true,
   "sideBar": true,
   "skip_h1_title": false,
   "title_cell": "Table of Contents",
   "title_sidebar": "Contents",
   "toc_cell": false,
   "toc_position": {},
   "toc_section_display": true,
   "toc_window_display": false
  }
 },
 "nbformat": 4,
 "nbformat_minor": 5
}
