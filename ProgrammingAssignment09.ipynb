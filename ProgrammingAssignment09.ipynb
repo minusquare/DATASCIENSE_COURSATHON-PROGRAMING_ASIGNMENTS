{
 "cells": [
  {
   "cell_type": "markdown",
   "id": "09ae3804",
   "metadata": {},
   "source": [
    "# 1\n",
    "Write a Python program to check if the given number is a Disarium Number?"
   ]
  },
  {
   "cell_type": "code",
   "execution_count": 7,
   "id": "883ccc49",
   "metadata": {
    "ExecuteTime": {
     "end_time": "2022-03-07T11:32:32.226778Z",
     "start_time": "2022-03-07T11:32:32.201783Z"
    }
   },
   "outputs": [
    {
     "name": "stdout",
     "output_type": "stream",
     "text": [
      "Disarium Number\n",
      "Not a Disarium Number\n",
      "Not a Disarium Number\n",
      "Disarium Number\n",
      "Not a Disarium Number\n",
      "Not a Disarium Number\n"
     ]
    }
   ],
   "source": [
    "import math\n",
    "# A number is called Disarium if sum of its digits powered with their \n",
    "# respective positions is equal to the number itself.\n",
    "# 1^1 + 3^2 + 5^3 = 135. Therefore, 135 is a Disarium number\n",
    "# 8^1+9^2 = 89. Therefore, 89 is a Disarium number\n",
    "def is_disarium(num):\n",
    "    # Count digits in num.\n",
    "    length_num = len(str(num)) \n",
    "    #Initialize sum of terms\n",
    "    sum = 0  \n",
    "    while (num) :\n",
    "        # Get rightmost digit\n",
    "        r = num % 10\n",
    "        # Sum digits by powering according to positions\n",
    "        sum = (int) (sum + math.pow(r, length_num))\n",
    "        length_num  = length_num  - 1\n",
    "        num = num//10\n",
    "    # If sum is same as number, then number is\n",
    "    if sum == n :\n",
    "        return 1\n",
    "    else :\n",
    "        return 0\n",
    "# Checking function is_disarium()\n",
    "numbers = [135,41,56,89,80,103]\n",
    "for n in numbers:\n",
    "    if (is_disarium(n) == 1) :\n",
    "        print (\"Disarium Number\")\n",
    "    else :\n",
    "        print (\"Not a Disarium Number\")"
   ]
  },
  {
   "cell_type": "markdown",
   "id": "4cd82528",
   "metadata": {},
   "source": [
    "# 2\n",
    "Write a Python program to print all disarium numbers between 1 to 100?"
   ]
  },
  {
   "cell_type": "code",
   "execution_count": 9,
   "id": "ad2bc1cf",
   "metadata": {
    "ExecuteTime": {
     "end_time": "2022-03-07T11:34:40.362615Z",
     "start_time": "2022-03-07T11:34:40.328629Z"
    }
   },
   "outputs": [
    {
     "name": "stdout",
     "output_type": "stream",
     "text": [
      "1 is a Disarium Number\n",
      "2 is a Disarium Number\n",
      "3 is a Disarium Number\n",
      "4 is a Disarium Number\n",
      "5 is a Disarium Number\n",
      "6 is a Disarium Number\n",
      "7 is a Disarium Number\n",
      "8 is a Disarium Number\n",
      "9 is a Disarium Number\n",
      "10 is not a Disarium Number\n",
      "11 is not a Disarium Number\n",
      "12 is not a Disarium Number\n",
      "13 is not a Disarium Number\n",
      "14 is not a Disarium Number\n",
      "15 is not a Disarium Number\n",
      "16 is not a Disarium Number\n",
      "17 is not a Disarium Number\n",
      "18 is not a Disarium Number\n",
      "19 is not a Disarium Number\n",
      "20 is not a Disarium Number\n",
      "21 is not a Disarium Number\n",
      "22 is not a Disarium Number\n",
      "23 is not a Disarium Number\n",
      "24 is not a Disarium Number\n",
      "25 is not a Disarium Number\n",
      "26 is not a Disarium Number\n",
      "27 is not a Disarium Number\n",
      "28 is not a Disarium Number\n",
      "29 is not a Disarium Number\n",
      "30 is not a Disarium Number\n",
      "31 is not a Disarium Number\n",
      "32 is not a Disarium Number\n",
      "33 is not a Disarium Number\n",
      "34 is not a Disarium Number\n",
      "35 is not a Disarium Number\n",
      "36 is not a Disarium Number\n",
      "37 is not a Disarium Number\n",
      "38 is not a Disarium Number\n",
      "39 is not a Disarium Number\n",
      "40 is not a Disarium Number\n",
      "41 is not a Disarium Number\n",
      "42 is not a Disarium Number\n",
      "43 is not a Disarium Number\n",
      "44 is not a Disarium Number\n",
      "45 is not a Disarium Number\n",
      "46 is not a Disarium Number\n",
      "47 is not a Disarium Number\n",
      "48 is not a Disarium Number\n",
      "49 is not a Disarium Number\n",
      "50 is not a Disarium Number\n",
      "51 is not a Disarium Number\n",
      "52 is not a Disarium Number\n",
      "53 is not a Disarium Number\n",
      "54 is not a Disarium Number\n",
      "55 is not a Disarium Number\n",
      "56 is not a Disarium Number\n",
      "57 is not a Disarium Number\n",
      "58 is not a Disarium Number\n",
      "59 is not a Disarium Number\n",
      "60 is not a Disarium Number\n",
      "61 is not a Disarium Number\n",
      "62 is not a Disarium Number\n",
      "63 is not a Disarium Number\n",
      "64 is not a Disarium Number\n",
      "65 is not a Disarium Number\n",
      "66 is not a Disarium Number\n",
      "67 is not a Disarium Number\n",
      "68 is not a Disarium Number\n",
      "69 is not a Disarium Number\n",
      "70 is not a Disarium Number\n",
      "71 is not a Disarium Number\n",
      "72 is not a Disarium Number\n",
      "73 is not a Disarium Number\n",
      "74 is not a Disarium Number\n",
      "75 is not a Disarium Number\n",
      "76 is not a Disarium Number\n",
      "77 is not a Disarium Number\n",
      "78 is not a Disarium Number\n",
      "79 is not a Disarium Number\n",
      "80 is not a Disarium Number\n",
      "81 is not a Disarium Number\n",
      "82 is not a Disarium Number\n",
      "83 is not a Disarium Number\n",
      "84 is not a Disarium Number\n",
      "85 is not a Disarium Number\n",
      "86 is not a Disarium Number\n",
      "87 is not a Disarium Number\n",
      "88 is not a Disarium Number\n",
      "89 is a Disarium Number\n",
      "90 is not a Disarium Number\n",
      "91 is not a Disarium Number\n",
      "92 is not a Disarium Number\n",
      "93 is not a Disarium Number\n",
      "94 is not a Disarium Number\n",
      "95 is not a Disarium Number\n",
      "96 is not a Disarium Number\n",
      "97 is not a Disarium Number\n",
      "98 is not a Disarium Number\n",
      "99 is not a Disarium Number\n",
      "100 is not a Disarium Number\n"
     ]
    }
   ],
   "source": [
    "import math\n",
    "# A number is called Disarium if sum of its digits powered with their \n",
    "# respective positions is equal to the number itself.\n",
    "# 1^1 + 3^2 + 5^3 = 135. Therefore, 135 is a Disarium number\n",
    "# 8^1+9^2 = 89. Therefore, 89 is a Disarium number\n",
    "def is_disarium(num):\n",
    "    # Count digits in num.\n",
    "    length_num = len(str(num)) \n",
    "    #Initialize sum of terms\n",
    "    sum = 0  \n",
    "    while (num) :\n",
    "        # Get rightmost digit\n",
    "        r = num % 10\n",
    "        # Sum digits by powering according to positions\n",
    "        sum = (int) (sum + math.pow(r, length_num))\n",
    "        length_num  = length_num  - 1\n",
    "        num = num//10\n",
    "    # If sum is same as number, then number is\n",
    "    if sum == n :\n",
    "        return 1\n",
    "    else :\n",
    "        return 0\n",
    "for n in range(1,101):\n",
    "    if (is_disarium(n) == 1) :\n",
    "        print (f\"{n} is a Disarium Number\")\n",
    "    else :\n",
    "        print (f\"{n} is not a Disarium Number\")"
   ]
  },
  {
   "cell_type": "markdown",
   "id": "2c10eae9",
   "metadata": {},
   "source": [
    "# 3\n",
    "Write a Python program to check if the given number is Happy Number?"
   ]
  },
  {
   "cell_type": "code",
   "execution_count": 23,
   "id": "36080b25",
   "metadata": {
    "ExecuteTime": {
     "end_time": "2022-03-07T12:08:56.461166Z",
     "start_time": "2022-03-07T12:08:56.408947Z"
    },
    "run_control": {
     "marked": true
    }
   },
   "outputs": [
    {
     "name": "stdout",
     "output_type": "stream",
     "text": [
      "7 is a happy number\n",
      "11 is not a happy number\n",
      "22 is not a happy number\n",
      "28 is a happy number\n",
      "32 is a happy number\n",
      "45 is not a happy number\n",
      "100 is a happy number\n",
      "160 is not a happy number\n",
      "320 is a happy number\n"
     ]
    }
   ],
   "source": [
    "# A number is said to be happy if it yields 1 when replaced by the sum of \n",
    "# squares of its digits repeatedly. If this process results in an endless \n",
    "# cycle of numbers containing 4, then the number will be an unhappy number. \n",
    "# Number = 32\n",
    "# split 32 to get the sum of squares of its digits which forms number 13\n",
    "# 3^2+2^2=13\n",
    "# split 13 to get the sum of squares of its digits which forms number 10\n",
    "# 1^2+3^2 =10\n",
    "# split 10 to get the sum of squares of its digits which forms number 1\n",
    "# 1^2+0^2 =1\n",
    "# So we end up in 1 means that 32 is happy number\n",
    "# Some other Happy numbers are 7, 28, 100, 320, etc.\n",
    "def isHappy(num):  \n",
    "    # Initialize remainder and sum both to zero\n",
    "    rem = sum = 0  \n",
    "    #Calculates the sum of squares of digits    \n",
    "    while(num > 0):    \n",
    "        rem = num%10    \n",
    "        sum = sum + (rem*rem)   \n",
    "        num = num//10   \n",
    "    return sum;    \n",
    "#\n",
    "numbers = [7,11,22,28,32,45,100,160,320]\n",
    "for num in numbers:\n",
    "    result = num\n",
    "    while(result !=1 and result !=4):    \n",
    "        result = isHappy(result)\n",
    "        #Happy number always ends with 1    \n",
    "        if(result == 1):    \n",
    "            print(str(num) + \" is a happy number\")    \n",
    "        #Unhappy number ends in a cycle of repeating numbers which contain 4    \n",
    "        elif(result == 4):    \n",
    "            print(str(num) + \" is not a happy number\")  "
   ]
  },
  {
   "cell_type": "markdown",
   "id": "71889611",
   "metadata": {},
   "source": [
    "# 4\n",
    "Write a Python program to print all happy numbers between 1 and 100?"
   ]
  },
  {
   "cell_type": "code",
   "execution_count": 24,
   "id": "0b03e432",
   "metadata": {
    "ExecuteTime": {
     "end_time": "2022-03-07T12:10:47.311324Z",
     "start_time": "2022-03-07T12:10:47.227813Z"
    }
   },
   "outputs": [
    {
     "name": "stdout",
     "output_type": "stream",
     "text": [
      "2 is not a happy number\n",
      "3 is not a happy number\n",
      "5 is not a happy number\n",
      "6 is not a happy number\n",
      "7 is a happy number\n",
      "8 is not a happy number\n",
      "9 is not a happy number\n",
      "10 is a happy number\n",
      "11 is not a happy number\n",
      "12 is not a happy number\n",
      "13 is a happy number\n",
      "14 is not a happy number\n",
      "15 is not a happy number\n",
      "16 is not a happy number\n",
      "17 is not a happy number\n",
      "18 is not a happy number\n",
      "19 is a happy number\n",
      "20 is not a happy number\n",
      "21 is not a happy number\n",
      "22 is not a happy number\n",
      "23 is a happy number\n",
      "24 is not a happy number\n",
      "25 is not a happy number\n",
      "26 is not a happy number\n",
      "27 is not a happy number\n",
      "28 is a happy number\n",
      "29 is not a happy number\n",
      "30 is not a happy number\n",
      "31 is a happy number\n",
      "32 is a happy number\n",
      "33 is not a happy number\n",
      "34 is not a happy number\n",
      "35 is not a happy number\n",
      "36 is not a happy number\n",
      "37 is not a happy number\n",
      "38 is not a happy number\n",
      "39 is not a happy number\n",
      "40 is not a happy number\n",
      "41 is not a happy number\n",
      "42 is not a happy number\n",
      "43 is not a happy number\n",
      "44 is a happy number\n",
      "45 is not a happy number\n",
      "46 is not a happy number\n",
      "47 is not a happy number\n",
      "48 is not a happy number\n",
      "49 is a happy number\n",
      "50 is not a happy number\n",
      "51 is not a happy number\n",
      "52 is not a happy number\n",
      "53 is not a happy number\n",
      "54 is not a happy number\n",
      "55 is not a happy number\n",
      "56 is not a happy number\n",
      "57 is not a happy number\n",
      "58 is not a happy number\n",
      "59 is not a happy number\n",
      "60 is not a happy number\n",
      "61 is not a happy number\n",
      "62 is not a happy number\n",
      "63 is not a happy number\n",
      "64 is not a happy number\n",
      "65 is not a happy number\n",
      "66 is not a happy number\n",
      "67 is not a happy number\n",
      "68 is a happy number\n",
      "69 is not a happy number\n",
      "70 is a happy number\n",
      "71 is not a happy number\n",
      "72 is not a happy number\n",
      "73 is not a happy number\n",
      "74 is not a happy number\n",
      "75 is not a happy number\n",
      "76 is not a happy number\n",
      "77 is not a happy number\n",
      "78 is not a happy number\n",
      "79 is a happy number\n",
      "80 is not a happy number\n",
      "81 is not a happy number\n",
      "82 is a happy number\n",
      "83 is not a happy number\n",
      "84 is not a happy number\n",
      "85 is not a happy number\n",
      "86 is a happy number\n",
      "87 is not a happy number\n",
      "88 is not a happy number\n",
      "89 is not a happy number\n",
      "90 is not a happy number\n",
      "91 is a happy number\n",
      "92 is not a happy number\n",
      "93 is not a happy number\n",
      "94 is a happy number\n",
      "95 is not a happy number\n",
      "96 is not a happy number\n",
      "97 is a happy number\n",
      "98 is not a happy number\n",
      "99 is not a happy number\n",
      "100 is a happy number\n"
     ]
    }
   ],
   "source": [
    "def isHappy(num):  \n",
    "    # Initialize remainder and sum both to zero\n",
    "    rem = sum = 0  \n",
    "    #Calculates the sum of squares of digits    \n",
    "    while(num > 0):    \n",
    "        rem = num%10    \n",
    "        sum = sum + (rem*rem)   \n",
    "        num = num//10   \n",
    "    return sum;    \n",
    "#\n",
    "for num in range(1,101):\n",
    "    result = num\n",
    "    while(result !=1 and result !=4):    \n",
    "        result = isHappy(result)\n",
    "        #Happy number always ends with 1    \n",
    "        if(result == 1):    \n",
    "            print(str(num) + \" is a happy number\")    \n",
    "        #Unhappy number ends in a cycle of repeating numbers which contain 4    \n",
    "        elif(result == 4):    \n",
    "            print(str(num) + \" is not a happy number\")  "
   ]
  },
  {
   "cell_type": "markdown",
   "id": "e63718a3",
   "metadata": {},
   "source": [
    "# 5\n",
    "Write a Python program to determine whether the given number is a Harshad Number?"
   ]
  },
  {
   "cell_type": "code",
   "execution_count": 26,
   "id": "e8439079",
   "metadata": {
    "ExecuteTime": {
     "end_time": "2022-03-07T12:20:16.694733Z",
     "start_time": "2022-03-07T12:20:16.660510Z"
    }
   },
   "outputs": [
    {
     "name": "stdout",
     "output_type": "stream",
     "text": [
      "10 is a Harshad Number\n",
      "12 is a Harshad Number\n",
      "14 is not a Harshad Number\n",
      "16 is not a Harshad Number\n",
      "18 is a Harshad Number\n",
      "20 is a Harshad Number\n",
      "22 is not a Harshad Number\n",
      "23 is not a Harshad Number\n",
      "24 is a Harshad Number\n",
      "25 is not a Harshad Number\n",
      "26 is not a Harshad Number\n",
      "28 is not a Harshad Number\n",
      "30 is a Harshad Number\n"
     ]
    }
   ],
   "source": [
    "# An integer number in base 10 which is divisible by the sum of its digits is \n",
    "# said to be a Harshad Number. An n-harshad number is an integer number \n",
    "# divisible by the sum of its digit in base n.\n",
    "# Below are the first few Harshad Numbers represented in base 10:\n",
    "# 1, 2, 3, 4, 5, 6, 7, 8, 9, 10, 12, 18, 20………\n",
    "def isHarshad(num) :\n",
    "    sum = 0\n",
    "    rem = num\n",
    "    while rem > 0 :\n",
    "        sum = sum + rem % 10\n",
    "        rem = rem // 10\n",
    "    # Return true if sum of\n",
    "    # digits is multiple of n\n",
    "    return num % sum == 0\n",
    "#\n",
    "numbers = [10,12,14,16,18,20,22,23,24,25,26,28,30]\n",
    "for i in numbers:\n",
    "    if isHarshad(i):\n",
    "        print(f\"{i} is a Harshad Number\")\n",
    "    else:\n",
    "        print(f\"{i} is not a Harshad Number\")\n",
    "\n",
    "        "
   ]
  },
  {
   "cell_type": "markdown",
   "id": "5dc77be2",
   "metadata": {},
   "source": [
    "# 6\n",
    "Write a Python program to print all pronic numbers between 1 and 100?"
   ]
  },
  {
   "cell_type": "code",
   "execution_count": 28,
   "id": "b5287cf2",
   "metadata": {
    "ExecuteTime": {
     "end_time": "2022-03-07T12:33:16.116148Z",
     "start_time": "2022-03-07T12:33:16.089153Z"
    }
   },
   "outputs": [
    {
     "name": "stdout",
     "output_type": "stream",
     "text": [
      "Pronic numbers between 1 and 100: \n",
      "2\n",
      " \n",
      "6\n",
      " \n",
      "12\n",
      " \n",
      "20\n",
      " \n",
      "30\n",
      " \n",
      "42\n",
      " \n",
      "56\n",
      " \n",
      "72\n",
      " \n",
      "90\n",
      " \n"
     ]
    }
   ],
   "source": [
    "# pronic number is a product of two consecutive integers of form: n(n+1)\n",
    "# For example:\n",
    "# 6 = 2*3\n",
    "# 72 =8*9\n",
    "# Some pronic numbers are: 0, 2, 6, 12, 20, 30, 42, 56 etc.\n",
    "def isPronic(n):    \n",
    "    flag = False    \n",
    "    for i in range(1, n+1):    \n",
    "        #Checks for pronic number by multiplying consecutive numbers    \n",
    "        if((i*(i+1)) == n):    \n",
    "            flag = True    \n",
    "            break   \n",
    "    return flag    \n",
    "#Displays pronic numbers between 1 and 100    \n",
    "print(\"Pronic numbers between 1 and 100: \")    \n",
    "for i in range(1, 101):    \n",
    "    if(isPronic(i)):    \n",
    "        print(i)    \n",
    "        print(\" \")"
   ]
  }
 ],
 "metadata": {
  "kernelspec": {
   "display_name": "Python 3 (ipykernel)",
   "language": "python",
   "name": "python3"
  },
  "language_info": {
   "codemirror_mode": {
    "name": "ipython",
    "version": 3
   },
   "file_extension": ".py",
   "mimetype": "text/x-python",
   "name": "python",
   "nbconvert_exporter": "python",
   "pygments_lexer": "ipython3",
   "version": "3.9.7"
  },
  "nbTranslate": {
   "displayLangs": [
    "*"
   ],
   "hotkey": "alt-t",
   "langInMainMenu": true,
   "sourceLang": "en",
   "targetLang": "fr",
   "useGoogleTranslate": true
  },
  "toc": {
   "base_numbering": 1,
   "nav_menu": {},
   "number_sections": true,
   "sideBar": true,
   "skip_h1_title": false,
   "title_cell": "Table of Contents",
   "title_sidebar": "Contents",
   "toc_cell": false,
   "toc_position": {},
   "toc_section_display": true,
   "toc_window_display": false
  }
 },
 "nbformat": 4,
 "nbformat_minor": 5
}
