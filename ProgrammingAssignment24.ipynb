{
 "cells": [
  {
   "cell_type": "markdown",
   "id": "66e88f58",
   "metadata": {},
   "source": [
    "Question1\n",
    "Create a function that takes an integer and returns a list from 1 to the \n",
    "given number, where:\n",
    "1.\tIf the number can be divided evenly by 4, amplify it by 10 (i.e. return 10 times the number).\n",
    "2.\tIf the number cannot be divided evenly by 4, simply return the number.\n",
    "Examples\n",
    "amplify(4) ➞ [1, 2, 3, 40]\n",
    "amplify(3) ➞ [1, 2, 3]\n",
    "amplify(25) ➞ [1, 2, 3, 40, 5, 6, 7, 80, 9, 10, 11, 120, 13, 14, 15, 160, 17, 18,\n",
    "19, 200, 21, 22, 23, 240, 25]\n",
    "Notes\n",
    "•The given integer will always be equal to or greater than 1.\n",
    "•Include the number (see example above).\n",
    "•To perform this problem with its intended purpose, try doing it with list\n",
    "comprehensions. If that's too difficult, just solve challenge any way you can."
   ]
  },
  {
   "cell_type": "code",
   "execution_count": 6,
   "id": "42d869e4",
   "metadata": {
    "ExecuteTime": {
     "end_time": "2022-03-10T11:10:53.739735Z",
     "start_time": "2022-03-10T11:10:53.721733Z"
    }
   },
   "outputs": [
    {
     "name": "stdout",
     "output_type": "stream",
     "text": [
      "[1, 2, 3, 40]\n",
      "[1, 2, 3]\n",
      "[1, 2, 3, 40, 5, 6, 7, 80, 9, 10, 11, 120, 13, 14, 15, 160, 17, 18, 19, 200, 21, 22, 23, 240, 25]\n"
     ]
    }
   ],
   "source": [
    "def amplify(num):\n",
    "    output_list = [i*10 if i%4 == 0 else i for i in range(1,num+1) ]\n",
    "    return(output_list)  \n",
    "#\n",
    "ans1=amplify(4) \n",
    "ans2=amplify(3)\n",
    "ans3 =amplify(25)  \n",
    "print(f\"{ans1}\\n{ans2}\\n{ans3}\")"
   ]
  },
  {
   "cell_type": "markdown",
   "id": "b2c0c92a",
   "metadata": {},
   "source": [
    "Question2\n",
    "Create a function that takes a list of numbers and return the number that's unique.\n",
    "Examples\n",
    "unique([3, 3, 3, 7, 3, 3]) ➞ 7\n",
    "unique([0, 0, 0.77, 0, 0]) ➞ 0.77\n",
    "unique([0, 1, 1, 1, 1, 1, 1, 1]) ➞ 0\n",
    "Notes\n",
    "Test cases will always have exactly one unique number while all others are same."
   ]
  },
  {
   "cell_type": "code",
   "execution_count": 25,
   "id": "bcac4d15",
   "metadata": {
    "ExecuteTime": {
     "end_time": "2022-03-10T11:55:52.211779Z",
     "start_time": "2022-03-10T11:55:52.193833Z"
    }
   },
   "outputs": [
    {
     "name": "stdout",
     "output_type": "stream",
     "text": [
      "7\n",
      "0.77\n",
      "0\n"
     ]
    }
   ],
   "source": [
    "from collections import Counter\n",
    "def unique(lst):\n",
    "    for element in lst:\n",
    "        counts=Counter(lst)\n",
    "        if counts[element]==1:\n",
    "            return element\n",
    "\n",
    "# CHECKING\n",
    "ans1=unique([3, 3, 3, 7, 3, 3])\n",
    "ans2=unique([0, 0, 0.77, 0, 0])\n",
    "ans3=unique([0, 1, 1, 1, 1, 1, 1, 1])\n",
    "print(f\"{ans1}\\n{ans2}\\n{ans3}\") "
   ]
  },
  {
   "cell_type": "markdown",
   "id": "adb3ad7d",
   "metadata": {},
   "source": [
    "Question3\n",
    "Your task is to create a Circle constructor that creates a circle with a radius\n",
    "provided by an argument. The circles constructed must have two getters getArea()\n",
    "(PIr^2) and getPerimeter() (2PI*r) which give both respective areas and perimeter\n",
    "(circumference).For help with this class, I have provided you with a Rectangle\n",
    "constructor which you can use as a base example.\n",
    "Examples\n",
    "circy = Circle(11)\n",
    "circy.getArea()\n",
    "#Should return 380.132711084365\n",
    "circy = Circle(4.44)\n",
    "circy.getPerimeter()\n",
    "#Should return 27.897342763877365\n",
    "Notes\n",
    "Round results up to the nearest integer."
   ]
  },
  {
   "cell_type": "code",
   "execution_count": 37,
   "id": "9db224ab",
   "metadata": {
    "ExecuteTime": {
     "end_time": "2022-03-10T12:14:36.823889Z",
     "start_time": "2022-03-10T12:14:36.807895Z"
    }
   },
   "outputs": [
    {
     "name": "stdout",
     "output_type": "stream",
     "text": [
      "380.0\n",
      "28.0\n"
     ]
    }
   ],
   "source": [
    "class Circle():\n",
    "    def __init__(self,radius):\n",
    "        self.radius=radius\n",
    "    def getArea(self):\n",
    "        return round(3.14*self.radius*self.radius,0)\n",
    "    def getPerimeter(self):\n",
    "        return round(2*3.14*self.radius,0)\n",
    "#\n",
    "circy1 = Circle(radius=11)\n",
    "print(circy1.getArea())  # rounding to nearest integer AS ASKED\n",
    "#\n",
    "circy2 = Circle(radius=4.4)\n",
    "print(circy2.getPerimeter())  # rounding to nearest integer AS ASKED"
   ]
  },
  {
   "cell_type": "markdown",
   "id": "1884b613",
   "metadata": {},
   "source": [
    "Question4\n",
    "Create a function that takes a list of strings and return a list, sorted from\n",
    "shortest to longest.\n",
    "Examples\n",
    "sort_by_length([\"Google\", \"Apple\", \"Microsoft\"])\n",
    "[\"Apple\", \"Google\", \"Microsoft\"]\n",
    "sort_by_length([\"Leonardo\", \"Michelangelo\", \"Raphael\", \"Donatello\"])\n",
    "[\"Raphael\", \"Leonardo\", \"Donatello\", \"Michelangelo\"]\n",
    "sort_by_length([\"Turing\", \"Einstein\", \"Jung\"])\n",
    "[\"Jung\", \"Turing\", \"Einstein\"]\n",
    "Notes\n",
    "All test cases contain lists with strings of different lengths, so you won't \n",
    "have to deal with multiple strings of the same length."
   ]
  },
  {
   "cell_type": "code",
   "execution_count": 50,
   "id": "900e5383",
   "metadata": {
    "ExecuteTime": {
     "end_time": "2022-03-10T13:23:18.267831Z",
     "start_time": "2022-03-10T13:23:18.247839Z"
    }
   },
   "outputs": [
    {
     "name": "stdout",
     "output_type": "stream",
     "text": [
      "['Apple', 'Google', 'Microsoft']\n",
      "['Raphael', 'Leonardo', 'Donatello', 'Michelangelo']\n",
      "['Jung', 'Turing', 'Einstein']\n"
     ]
    }
   ],
   "source": [
    "def sort_by_length(lst):\n",
    "    lst2 = sorted(lst, key=len)\n",
    "    return lst2\n",
    "ans1=sort_by_length([\"Google\", \"Apple\", \"Microsoft\"])  \n",
    "ans2=sort_by_length([\"Leonardo\", \"Michelangelo\", \"Raphael\", \"Donatello\"])\n",
    "ans3=sort_by_length([\"Turing\", \"Einstein\", \"Jung\"])\n",
    "print(f\"{ans1}\\n{ans2}\\n{ans3}\") "
   ]
  },
  {
   "cell_type": "markdown",
   "id": "3b329550",
   "metadata": {},
   "source": [
    "Question5\n",
    "Create a function that validates whether three given integers form a Pythagorean\n",
    "triplet. The sum of the squares of the two smallest integers must equal the square\n",
    "of the largest number to be validated.\n",
    "Examples\n",
    "is_triplet(3, 4, 5) ➞ True\n",
    "#3² + 4² = 25\n",
    "#5² = 25\n",
    "\n",
    "is_triplet(13, 5, 12) ➞ True\n",
    "#5² + 12² = 169\n",
    "#13² = 169\n",
    "\n",
    "is_triplet(1, 2, 3) ➞ False\n",
    "#1² + 2² = 5\n",
    "#3² = 9\n",
    "Notes\n",
    "Numbers may not be given in a sorted order."
   ]
  },
  {
   "cell_type": "code",
   "execution_count": 55,
   "id": "eb4f8ccc",
   "metadata": {
    "ExecuteTime": {
     "end_time": "2022-03-10T13:30:09.367359Z",
     "start_time": "2022-03-10T13:30:09.339366Z"
    }
   },
   "outputs": [
    {
     "name": "stdout",
     "output_type": "stream",
     "text": [
      "True\n",
      "True\n",
      "False\n"
     ]
    }
   ],
   "source": [
    "def is_triplet(a,b,c):\n",
    "    side_list = sorted([a,b,c])\n",
    "    a,b,c=side_list[0],side_list[1],side_list[2]\n",
    "    return(a**2+b**2==c**2)\n",
    "# CHECKING\n",
    "ans1=is_triplet(3, 4, 5)\n",
    "ans2=is_triplet(13, 5, 12)\n",
    "ans3=is_triplet(1, 2, 3)\n",
    "print(f\"{ans1}\\n{ans2}\\n{ans3}\") "
   ]
  }
 ],
 "metadata": {
  "kernelspec": {
   "display_name": "Python 3 (ipykernel)",
   "language": "python",
   "name": "python3"
  },
  "language_info": {
   "codemirror_mode": {
    "name": "ipython",
    "version": 3
   },
   "file_extension": ".py",
   "mimetype": "text/x-python",
   "name": "python",
   "nbconvert_exporter": "python",
   "pygments_lexer": "ipython3",
   "version": "3.9.7"
  },
  "nbTranslate": {
   "displayLangs": [
    "*"
   ],
   "hotkey": "alt-t",
   "langInMainMenu": true,
   "sourceLang": "en",
   "targetLang": "fr",
   "useGoogleTranslate": true
  },
  "toc": {
   "base_numbering": 1,
   "nav_menu": {},
   "number_sections": true,
   "sideBar": true,
   "skip_h1_title": false,
   "title_cell": "Table of Contents",
   "title_sidebar": "Contents",
   "toc_cell": false,
   "toc_position": {},
   "toc_section_display": true,
   "toc_window_display": false
  }
 },
 "nbformat": 4,
 "nbformat_minor": 5
}
