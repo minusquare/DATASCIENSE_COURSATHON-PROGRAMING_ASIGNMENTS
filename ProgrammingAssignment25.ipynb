{
 "cells": [
  {
   "cell_type": "markdown",
   "id": "4fd6afb1",
   "metadata": {},
   "source": [
    "Question1\n",
    "Create a function that takes three integer arguments (a, b, c) and returns the \n",
    "amount of integers which are of equal value.\n",
    "Examples\n",
    "equal(3, 4, 3) ➞ 2\n",
    "equal(1, 1, 1) ➞ 3\n",
    "equal(3, 4, 1) ➞ 0 \n",
    "Notes\n",
    "Your function must return 0, 2 or 3."
   ]
  },
  {
   "cell_type": "code",
   "execution_count": 50,
   "id": "83e386ac",
   "metadata": {
    "ExecuteTime": {
     "end_time": "2022-03-10T14:09:15.588943Z",
     "start_time": "2022-03-10T14:09:15.558927Z"
    }
   },
   "outputs": [
    {
     "name": "stdout",
     "output_type": "stream",
     "text": [
      "Counter({3: 2, 4: 1})\n",
      "Counter({1: 3})\n",
      "Counter({3: 1, 4: 1, 1: 1})\n",
      "2\n",
      "3\n",
      "0\n"
     ]
    }
   ],
   "source": [
    "from collections import Counter\n",
    "def equal(a,b,c):\n",
    "    counts=Counter([a,b,c])\n",
    "    for item in counts:\n",
    "        if counts.get(item)>1:\n",
    "            return(counts.get(item))\n",
    "        else:\n",
    "            return 0\n",
    "ans1=equal(3, 4, 3)\n",
    "ans2=equal(1, 1, 1)\n",
    "ans3=equal(3, 4, 1)\n",
    "print(f\"{ans1}\\n{ans2}\\n{ans3}\")"
   ]
  },
  {
   "cell_type": "markdown",
   "id": "8a684a40",
   "metadata": {},
   "source": [
    "Question2\n",
    "Write a function that converts a dictionary into a list of keys-values tuples.\n",
    "Examples\n",
    "dict_to_list({\n",
    "  \"D\": 1,\n",
    "  \"B\": 2,\n",
    "  \"C\": 3\n",
    "}) ➞ [(\"B\", 2), (\"C\", 3), (\"D\", 1)]\n",
    "\n",
    "dict_to_list({\n",
    "  \"likes\": 2,\n",
    "  \"dislikes\": 3,\n",
    "  \"followers\": 10\n",
    "}) ➞ [(\"dislikes\", 3), (\"followers\", 10), (\"likes\", 2)]\n",
    "Notes\n",
    "Return the elements in the list in alphabetical order."
   ]
  },
  {
   "cell_type": "code",
   "execution_count": 54,
   "id": "fad0c0b6",
   "metadata": {
    "ExecuteTime": {
     "end_time": "2022-03-10T14:14:20.140074Z",
     "start_time": "2022-03-10T14:14:20.125090Z"
    }
   },
   "outputs": [
    {
     "name": "stdout",
     "output_type": "stream",
     "text": [
      "[('B', 2), ('C', 3), ('D', 1)]\n",
      "[('dislikes', 3), ('followers', 10), ('likes', 2)]\n"
     ]
    }
   ],
   "source": [
    "def dict_to_list(dict):\n",
    "    output = sorted(list(dict.items()))\n",
    "    return output\n",
    "# CHECKING\n",
    "ans1=dict_to_list({\n",
    "  \"D\": 1,\n",
    "  \"B\": 2,\n",
    "  \"C\": 3\n",
    "})\n",
    "ans2=dict_to_list({\n",
    "  \"likes\": 2,\n",
    "  \"dislikes\": 3,\n",
    "  \"followers\": 10\n",
    "})\n",
    "print(f\"{ans1}\\n{ans2}\")"
   ]
  },
  {
   "cell_type": "code",
   "execution_count": null,
   "id": "f8b200cc",
   "metadata": {},
   "outputs": [],
   "source": [
    "Question3\n",
    "Write a function that creates a dictionary with each (key, value) pair being \n",
    "the (lower case, upper case) versions of a letter, respectively.\n",
    "Examples\n",
    "mapping([\"p\", \"s\"]) ➞ { \"p\": \"P\", \"s\": \"S\" }\n",
    "mapping([\"a\", \"b\", \"c\"]) ➞ { \"a\": \"A\", \"b\": \"B\", \"c\": \"C\" }\n",
    "mapping([\"a\", \"v\", \"y\", \"z\"]) ➞ { \"a\": \"A\", \"v\": \"V\", \"y\": \"Y\", \"z\": \"Z\" }\n",
    "Notes\n",
    "All of the letters in the input list will always be lowercase."
   ]
  },
  {
   "cell_type": "code",
   "execution_count": 64,
   "id": "966bbce3",
   "metadata": {
    "ExecuteTime": {
     "end_time": "2022-03-10T15:08:23.891492Z",
     "start_time": "2022-03-10T15:08:23.867493Z"
    },
    "run_control": {
     "marked": true
    }
   },
   "outputs": [
    {
     "name": "stdout",
     "output_type": "stream",
     "text": [
      "{'p': 'P', 's': 'S'}\n",
      "{'a': 'A', 'b': 'B', 'c': 'C'}\n",
      "{'a': 'A', 'v': 'V', 'y': 'Y', 'z': 'Z'}\n"
     ]
    }
   ],
   "source": [
    "def mapping(mylist):\n",
    "    return {i.lower():i.upper() for i in mylist}\n",
    "#\n",
    "ans1=mapping([\"p\", \"s\"])\n",
    "ans2=mapping([\"a\", \"b\", \"c\"])\n",
    "ans3=mapping([\"a\", \"v\", \"y\", \"z\"])\n",
    "print(f\"{ans1}\\n{ans2}\\n{ans3}\")"
   ]
  },
  {
   "cell_type": "markdown",
   "id": "5a653a81",
   "metadata": {},
   "source": [
    "Question4\n",
    "Write a function, that replaces all vowels in a string with a specified vowel.\n",
    "Examples\n",
    "vow_replace(\"apples and bananas\", \"u\") ➞ \"upplus und bununus\"\n",
    "\n",
    "vow_replace(\"cheese casserole\", \"o\") ➞ \"chooso cossorolo\"\n",
    "\n",
    "vow_replace(\"stuffed jalapeno poppers\", \"e\") ➞ \"steffed jelepene peppers\"\n",
    "Notes\n",
    "All words will be lowercase. Y is not considered a vowel."
   ]
  },
  {
   "cell_type": "code",
   "execution_count": 69,
   "id": "9e96c7bb",
   "metadata": {
    "ExecuteTime": {
     "end_time": "2022-03-10T15:20:46.106218Z",
     "start_time": "2022-03-10T15:20:46.079218Z"
    }
   },
   "outputs": [
    {
     "name": "stdout",
     "output_type": "stream",
     "text": [
      "upplus und bununus\n",
      "chooso cossorolo\n",
      "steffed jelepene peppers\n"
     ]
    }
   ],
   "source": [
    "def vow_replace(string,vowel):\n",
    "    vowels = \"aeiou\"\n",
    "    for char in string:\n",
    "        if char in vowels:\n",
    "            string=string.replace(char,vowel)\n",
    "    return string\n",
    "\n",
    "ans1=vow_replace(\"apples and bananas\", \"u\")\n",
    "ans2=vow_replace(\"cheese casserole\", \"o\")\n",
    "ans3=vow_replace(\"stuffed jalapeno poppers\", \"e\")\n",
    "print(f\"{ans1}\\n{ans2}\\n{ans3}\")"
   ]
  },
  {
   "cell_type": "markdown",
   "id": "daa59b58",
   "metadata": {},
   "source": [
    "Question5\n",
    "Create a function that takes a string as input and capitalizes a letter if its \n",
    "ASCII code is even and returns its lower case version if its ASCII code is odd.\n",
    "Examples\n",
    "ascii_capitalize(\"to be or not to be!\") ➞ \"To Be oR NoT To Be!\"\n",
    "ascii_capitalize(\"THE LITTLE MERMAID\") ➞ \"THe LiTTLe meRmaiD\"\n",
    "ascii_capitalize(\"Oh what a beautiful morning.\") ➞ \"oH wHaT a BeauTiFuL moRNiNg.\""
   ]
  },
  {
   "cell_type": "code",
   "execution_count": 86,
   "id": "c0b51330",
   "metadata": {
    "ExecuteTime": {
     "end_time": "2022-03-10T15:53:30.385149Z",
     "start_time": "2022-03-10T15:53:30.361107Z"
    }
   },
   "outputs": [
    {
     "name": "stdout",
     "output_type": "stream",
     "text": [
      "To Be oR NoT To Be!\n",
      "THe LiTTLe meRmaiD\n",
      "oH wHaT a BeauTiFuL moRNiNg.\n"
     ]
    }
   ],
   "source": [
    "def ascii_capitalize(string):\n",
    "    char_list=[]\n",
    "    for char in string:\n",
    "        if ord(char) % 2 == 0:\n",
    "            char_list.append(char.upper())\n",
    "        else:\n",
    "             char_list.append(char.lower())\n",
    "    result_str=\"\".join(char_list)\n",
    "    return result_str\n",
    "# Testing\n",
    "ans1=ascii_capitalize(\"to be or not to be!\")\n",
    "ans2=ascii_capitalize(\"THE LITTLE MERMAID\")\n",
    "ans3=ascii_capitalize(\"Oh what a beautiful morning.\")\n",
    "print(f\"{ans1}\\n{ans2}\\n{ans3}\")"
   ]
  }
 ],
 "metadata": {
  "kernelspec": {
   "display_name": "Python 3 (ipykernel)",
   "language": "python",
   "name": "python3"
  },
  "language_info": {
   "codemirror_mode": {
    "name": "ipython",
    "version": 3
   },
   "file_extension": ".py",
   "mimetype": "text/x-python",
   "name": "python",
   "nbconvert_exporter": "python",
   "pygments_lexer": "ipython3",
   "version": "3.9.7"
  },
  "nbTranslate": {
   "displayLangs": [
    "*"
   ],
   "hotkey": "alt-t",
   "langInMainMenu": true,
   "sourceLang": "en",
   "targetLang": "fr",
   "useGoogleTranslate": true
  },
  "toc": {
   "base_numbering": 1,
   "nav_menu": {},
   "number_sections": true,
   "sideBar": true,
   "skip_h1_title": false,
   "title_cell": "Table of Contents",
   "title_sidebar": "Contents",
   "toc_cell": false,
   "toc_position": {},
   "toc_section_display": true,
   "toc_window_display": false
  }
 },
 "nbformat": 4,
 "nbformat_minor": 5
}
