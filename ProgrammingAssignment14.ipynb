{
 "cells": [
  {
   "cell_type": "markdown",
   "id": "c2120f62",
   "metadata": {},
   "source": [
    "Question 1:\n",
    "\n",
    "Define a class with a generator which can iterate the numbers, which are divisible\n",
    "by 7, between a given range 0 and n.\n"
   ]
  },
  {
   "cell_type": "code",
   "execution_count": 11,
   "id": "289618a3",
   "metadata": {
    "ExecuteTime": {
     "end_time": "2022-03-09T08:17:32.501104Z",
     "start_time": "2022-03-09T08:17:28.711387Z"
    }
   },
   "outputs": [
    {
     "name": "stdout",
     "output_type": "stream",
     "text": [
      "Insert upper bound of numbers for which you want to check divisibility by 7300\n",
      "[7, 14, 21, 28, 35, 42, 49, 56, 63, 70, 77, 84, 91, 98, 105, 112, 119, 126, 133, 140, 147, 154, 161, 168, 175, 182, 189, 196, 203, 210, 217, 224, 231, 238, 245, 252, 259, 266, 273, 280, 287, 294]\n"
     ]
    }
   ],
   "source": [
    "class Divisible_by_7:\n",
    "    def __init__(self,n):  # Generator\n",
    "        pass\n",
    "    \n",
    "    def by_seven(self, n): # Method to check divisibility\n",
    "        for number in range(1,n + 1):\n",
    "            if number % 7 == 0:\n",
    "                yield number\n",
    "                \n",
    "n = (int(input(\"Insert upper bound of numbers for which you want to check divisibility by 7\")))\n",
    "obj= Divisible_by_7(n)\n",
    "answer = obj.by_seven(n)\n",
    "print(list(answer))"
   ]
  },
  {
   "cell_type": "markdown",
   "id": "00e0b761",
   "metadata": {},
   "source": [
    "Question 2:\n",
    "Write a program to compute the frequency of the words from the input. The output\n",
    "should output after sorting the key alphanumerically. \n",
    "\n",
    "Suppose the following input is supplied to the program:\n",
    "\n",
    "New to Python or choosing between Python 2 and Python 3? Read Python 2 or Python 3.\n",
    "\n",
    "Then, the output should be:\n",
    "\n",
    "2:2\n",
    "\n",
    "3.:1\n",
    "\n",
    "3?:1\n",
    "\n",
    "New:1\n",
    "\n",
    "Python:5\n",
    "\n",
    "Read:1\n",
    "\n",
    "and:1\n",
    "\n",
    "between:1\n",
    "\n",
    "choosing:1\n",
    "\n",
    "or:2\n",
    "\n",
    "to:1\n"
   ]
  },
  {
   "cell_type": "code",
   "execution_count": 2,
   "id": "fcdba43c",
   "metadata": {
    "ExecuteTime": {
     "end_time": "2022-03-09T07:51:06.781991Z",
     "start_time": "2022-03-09T07:51:06.761010Z"
    }
   },
   "outputs": [
    {
     "name": "stdout",
     "output_type": "stream",
     "text": [
      "OrderedDict([('2', 2), ('3.', 1), ('3?', 1), ('New', 1), ('Python', 5), ('Read', 1), ('and', 1), ('between', 1), ('choosing', 1), ('or', 2), ('to', 1)])\n"
     ]
    }
   ],
   "source": [
    "import string\n",
    "import collections\n",
    "from collections import Counter\n",
    "import operator\n",
    "\n",
    "\n",
    "def count_freq_words(mystring):\n",
    "    mylist = mystring.split(\" \") \n",
    "    mylist.sort()\n",
    "    frequency_dict = Counter(mylist)\n",
    "    od = collections.OrderedDict(sorted(frequency_dict.items()))\n",
    "    return od\n",
    "\n",
    "# Check\n",
    "result = count_freq_words(\"New to Python or choosing between Python 2 and Python 3? Read Python 2 or Python 3.\")\n",
    "print(result)"
   ]
  },
  {
   "cell_type": "markdown",
   "id": "f777587a",
   "metadata": {},
   "source": [
    "Question 3:\n",
    "Define a class Person and its two child classes: Male and Female. All classes have\n",
    "a method \"getGender\" which can print \"Male\" for Male class and \"Female\" for Female\n",
    "class."
   ]
  },
  {
   "cell_type": "code",
   "execution_count": 3,
   "id": "f8be658b",
   "metadata": {
    "ExecuteTime": {
     "end_time": "2022-03-09T07:51:14.484329Z",
     "start_time": "2022-03-09T07:51:14.467376Z"
    }
   },
   "outputs": [
    {
     "name": "stdout",
     "output_type": "stream",
     "text": [
      "Male\n",
      "Female\n"
     ]
    }
   ],
   "source": [
    "class Person():\n",
    "    def __init__(self):\n",
    "          pass\n",
    "\n",
    "class Male(Person):\n",
    "    def getGender(self):\n",
    "        print(\"Male\")\n",
    "\n",
    "class Female(Person):\n",
    "    def getGender(self):\n",
    "        print(\"Female\")\n",
    "        \n",
    "# Instantiate objeccts of 'Male' and 'Female' class\n",
    "male = Male()\n",
    "female = Female()\n",
    "#\n",
    "male.getGender()\n",
    "female.getGender()"
   ]
  },
  {
   "cell_type": "markdown",
   "id": "e24a7d96",
   "metadata": {},
   "source": [
    "Question 4:\n",
    "Please write a program to generate all sentences where subject is in [\"I\", \"You\"] \n",
    "and verb is in [\"Play\", \"Love\"] and the object is in [\"Hockey\",\"Football\"]."
   ]
  },
  {
   "cell_type": "code",
   "execution_count": 4,
   "id": "5ff3e2c7",
   "metadata": {
    "ExecuteTime": {
     "end_time": "2022-03-09T07:51:18.892298Z",
     "start_time": "2022-03-09T07:51:18.859308Z"
    },
    "run_control": {
     "marked": true
    }
   },
   "outputs": [
    {
     "name": "stdout",
     "output_type": "stream",
     "text": [
      "[['I', 'Play', 'Hocky'], ['I', 'Play', 'Football'], ['I', 'love', 'Hocky'], ['I', 'love', 'Football'], ['You', 'Play', 'Hocky'], ['You', 'Play', 'Football'], ['You', 'love', 'Hocky'], ['You', 'love', 'Football']]\n",
      "I Play Hocky\n",
      "I Play Football\n",
      "I love Hocky\n",
      "I love Football\n",
      "You Play Hocky\n",
      "You Play Football\n",
      "You love Hocky\n",
      "You love Football\n"
     ]
    }
   ],
   "source": [
    "subject_list = [\"I\",\"You\"]\n",
    "verb_list = [\"Play\",\"love\"]\n",
    "object_list = [\"Hocky\",\"Football\"]\n",
    "sentence_list =  [ [i, j, k] for i in subject_list for j in verb_list for k in object_list ] \n",
    "print(sentence_list) \n",
    "# A list of lists. Each sublists/item contains words of sentence we want to form \n",
    "# separated by comma. So we use \" \".join(item) which joins 3 words in each \n",
    "# item/sublist separated by comma\n",
    "for item in sentence_list:\n",
    "    print(\" \".join(item))"
   ]
  },
  {
   "cell_type": "markdown",
   "id": "6888aa48",
   "metadata": {},
   "source": [
    "Question 5:\n",
    "Please write a program to compress and decompress the string \"hello world!hello \n",
    "world!hello world!hello world!\"."
   ]
  },
  {
   "cell_type": "code",
   "execution_count": 5,
   "id": "76969227",
   "metadata": {
    "ExecuteTime": {
     "end_time": "2022-03-09T07:51:24.715979Z",
     "start_time": "2022-03-09T07:51:24.693983Z"
    }
   },
   "outputs": [
    {
     "name": "stdout",
     "output_type": "stream",
     "text": [
      "Compressed string is: b'x\\x9c\\xcbH\\xcd\\xc9\\xc9W(\\xcf/\\xcaIQ\\xcc \\x82\\r\\x00\\xbd[\\x11\\xf5'\n",
      "Decompressed string is: b'hello world!hello world!hello world!hello world!'\n"
     ]
    }
   ],
   "source": [
    "import zlib\n",
    "s = 'hello world!hello world!hello world!hello world!'\n",
    "# zlib.compress() accepts only DataType <bytes>\n",
    "s_byte_form = bytes(s, 'utf-8')\n",
    "s_compressed = zlib.compress(s_byte_form)\n",
    "print(f\"Compressed string is: {s_compressed}\")\n",
    "s_decompressed= zlib.decompress(s_compressed)\n",
    "print(f\"Decompressed string is: {s_decompressed}\")"
   ]
  },
  {
   "cell_type": "markdown",
   "id": "981d2c87",
   "metadata": {},
   "source": [
    "Question 6:\n",
    "Please write a binary search function which searches an item in a sorted list. \n",
    "The function should return the index of element to be searched in the list."
   ]
  },
  {
   "cell_type": "code",
   "execution_count": 9,
   "id": "57d9762e",
   "metadata": {
    "ExecuteTime": {
     "end_time": "2022-03-09T07:53:12.997185Z",
     "start_time": "2022-03-09T07:53:12.970186Z"
    }
   },
   "outputs": [
    {
     "name": "stdout",
     "output_type": "stream",
     "text": [
      "4\n"
     ]
    }
   ],
   "source": [
    "def bin_search_list(mylist, search_this):\n",
    "    low = 0\n",
    "    high = len(mylist) - 1\n",
    "    \n",
    "    while low <= high:\n",
    "        mid = round((low + high) / 2)\n",
    "        \n",
    "        if mylist[mid] == search_this:\n",
    "            return mid\n",
    "        elif mylist[mid] > search_this:\n",
    "            high = mid - 1\n",
    "        else:\n",
    "            low = mid + 1\n",
    "    return None\n",
    "    \n",
    "lst = [1,3,5,7,9,11]\n",
    "item =9\n",
    "print(bin_search_list(lst, item))   "
   ]
  }
 ],
 "metadata": {
  "kernelspec": {
   "display_name": "Python 3 (ipykernel)",
   "language": "python",
   "name": "python3"
  },
  "language_info": {
   "codemirror_mode": {
    "name": "ipython",
    "version": 3
   },
   "file_extension": ".py",
   "mimetype": "text/x-python",
   "name": "python",
   "nbconvert_exporter": "python",
   "pygments_lexer": "ipython3",
   "version": "3.9.7"
  },
  "nbTranslate": {
   "displayLangs": [
    "*"
   ],
   "hotkey": "alt-t",
   "langInMainMenu": true,
   "sourceLang": "en",
   "targetLang": "fr",
   "useGoogleTranslate": true
  },
  "toc": {
   "base_numbering": 1,
   "nav_menu": {},
   "number_sections": true,
   "sideBar": true,
   "skip_h1_title": false,
   "title_cell": "Table of Contents",
   "title_sidebar": "Contents",
   "toc_cell": false,
   "toc_position": {},
   "toc_section_display": true,
   "toc_window_display": false
  }
 },
 "nbformat": 4,
 "nbformat_minor": 5
}
