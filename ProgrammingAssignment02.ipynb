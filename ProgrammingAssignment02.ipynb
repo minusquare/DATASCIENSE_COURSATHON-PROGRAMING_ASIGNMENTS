{
 "cells": [
  {
   "cell_type": "markdown",
   "id": "d2bc04a1",
   "metadata": {},
   "source": [
    "# 1.\n",
    "Write a Python program to convert kilometers to miles?"
   ]
  },
  {
   "cell_type": "code",
   "execution_count": 3,
   "id": "00521f45",
   "metadata": {
    "ExecuteTime": {
     "end_time": "2022-03-04T11:11:18.077043Z",
     "start_time": "2022-03-04T11:11:18.045871Z"
    }
   },
   "outputs": [
    {
     "data": {
      "text/plain": [
       "6.2137"
      ]
     },
     "execution_count": 3,
     "metadata": {},
     "output_type": "execute_result"
    }
   ],
   "source": [
    "# 1 mile= 1.609344 km\n",
    "def km_to_mile(km):\n",
    "    return round(km/1.609344,4)\n",
    "#\n",
    "km_to_mile(1)\n",
    "km_to_mile(1.609344)\n",
    "km_to_mile(10)"
   ]
  },
  {
   "cell_type": "markdown",
   "id": "4fde715d",
   "metadata": {},
   "source": [
    "# 2.\n",
    "Write a Python program to convert Celsius to Fahrenheit?"
   ]
  },
  {
   "cell_type": "code",
   "execution_count": 9,
   "id": "d099956a",
   "metadata": {
    "ExecuteTime": {
     "end_time": "2022-03-04T11:16:27.581824Z",
     "start_time": "2022-03-04T11:16:27.550584Z"
    }
   },
   "outputs": [
    {
     "name": "stdout",
     "output_type": "stream",
     "text": [
      "32.0\n",
      "212.0\n"
     ]
    }
   ],
   "source": [
    "# F = 32 + 9/5 (C)\n",
    "def celcius_to_Fahrenheit(c):\n",
    "    f = 32 + 9/5 * c\n",
    "    return(f)\n",
    "#\n",
    "print(celcius_to_Fahrenheit(c=0))\n",
    "print(celcius_to_Fahrenheit(c=100))"
   ]
  },
  {
   "cell_type": "markdown",
   "id": "5507f1c4",
   "metadata": {},
   "source": [
    "# 3.\n",
    "Write a Python program to display calendar?"
   ]
  },
  {
   "cell_type": "code",
   "execution_count": 14,
   "id": "244e1679",
   "metadata": {
    "ExecuteTime": {
     "end_time": "2022-03-04T11:20:27.975740Z",
     "start_time": "2022-03-04T11:20:18.642739Z"
    }
   },
   "outputs": [
    {
     "name": "stdout",
     "output_type": "stream",
     "text": [
      "Your Calender\n",
      " \n",
      " \n",
      "Enter the Year as integer : 2022\n",
      "Enter the month as integer : 3\n",
      "\n",
      "      March 2022\n",
      "Mo Tu We Th Fr Sa Su\n",
      "    1  2  3  4  5  6\n",
      " 7  8  9 10 11 12 13\n",
      "14 15 16 17 18 19 20\n",
      "21 22 23 24 25 26 27\n",
      "28 29 30 31\n",
      "\n"
     ]
    }
   ],
   "source": [
    "import calendar \n",
    "\n",
    "print(\"Your Calender\\n \\n \")\n",
    "\n",
    "y = int(input(\"Enter the Year as integer : \"))\n",
    "m = int(input(\"Enter the month as integer : \"))\n",
    "try:\n",
    "    mycalender = calendar.month(y,m)\n",
    "    print(\"\\n\", mycalender)\n",
    "except IndexError:\n",
    "    print(\"Its out of range\")    "
   ]
  },
  {
   "cell_type": "markdown",
   "id": "bd22f9de",
   "metadata": {},
   "source": [
    "# 4\n",
    "Write a Python program to solve quadratic equation?"
   ]
  },
  {
   "cell_type": "code",
   "execution_count": 21,
   "id": "c8489860",
   "metadata": {
    "ExecuteTime": {
     "end_time": "2022-03-04T11:37:10.186186Z",
     "start_time": "2022-03-04T11:37:10.170637Z"
    }
   },
   "outputs": [
    {
     "name": "stdout",
     "output_type": "stream",
     "text": [
      "(-0.5, -6.0)\n",
      "(0.6666666666666666, -1.25)\n"
     ]
    }
   ],
   "source": [
    "# x1 = (-b + sqrt(delta))/2a and x2 = (-b -sqrt(delta))/2a  are two \n",
    "# solutions of quadratic a*x**2 + b*x +c = 0\n",
    "# where delta = b*b -4 * a * c\n",
    "import math\n",
    "def solve_quadratic(a,b,c):\n",
    "    delta = b*b -4 * a * c\n",
    "    x_1 = (-b + math.sqrt(delta))/(2*a)\n",
    "    x_2 =  (-b - math.sqrt(delta))/(2*a)\n",
    "    return (x_1,x_2)\n",
    "#\n",
    "# 4* x**2 + 26*x + 12 =0\n",
    "print(solve_quadratic(4,26,12))\n",
    "# 12* x**2 + 7*x -10 =0\n",
    "print(solve_quadratic(12,7,-10))"
   ]
  },
  {
   "cell_type": "markdown",
   "id": "e90f029d",
   "metadata": {},
   "source": [
    "# 5.\n",
    "Write a Python program to swap two variables without temp variable?"
   ]
  },
  {
   "cell_type": "code",
   "execution_count": 31,
   "id": "bc966ce3",
   "metadata": {
    "ExecuteTime": {
     "end_time": "2022-03-04T12:03:35.661515Z",
     "start_time": "2022-03-04T12:03:35.630342Z"
    }
   },
   "outputs": [
    {
     "name": "stdout",
     "output_type": "stream",
     "text": [
      "10 6\n",
      "6 10\n"
     ]
    }
   ],
   "source": [
    "# Swapping without using temp\n",
    "#\n",
    "def swap_vxrs(x,y):\n",
    "    x = x + y\n",
    "    y = x - y\n",
    "    x = x - y\n",
    "    return(x,y)\n",
    "a = 10\n",
    "b = 6\n",
    "print(a,b)\n",
    "a,b = swap_vxrs(a,b) \n",
    "print(a,b)"
   ]
  }
 ],
 "metadata": {
  "kernelspec": {
   "display_name": "Python 3 (ipykernel)",
   "language": "python",
   "name": "python3"
  },
  "language_info": {
   "codemirror_mode": {
    "name": "ipython",
    "version": 3
   },
   "file_extension": ".py",
   "mimetype": "text/x-python",
   "name": "python",
   "nbconvert_exporter": "python",
   "pygments_lexer": "ipython3",
   "version": "3.9.7"
  },
  "nbTranslate": {
   "displayLangs": [
    "*"
   ],
   "hotkey": "alt-t",
   "langInMainMenu": true,
   "sourceLang": "en",
   "targetLang": "fr",
   "useGoogleTranslate": true
  },
  "toc": {
   "base_numbering": 1,
   "nav_menu": {},
   "number_sections": true,
   "sideBar": true,
   "skip_h1_title": false,
   "title_cell": "Table of Contents",
   "title_sidebar": "Contents",
   "toc_cell": false,
   "toc_position": {},
   "toc_section_display": true,
   "toc_window_display": false
  }
 },
 "nbformat": 4,
 "nbformat_minor": 5
}
