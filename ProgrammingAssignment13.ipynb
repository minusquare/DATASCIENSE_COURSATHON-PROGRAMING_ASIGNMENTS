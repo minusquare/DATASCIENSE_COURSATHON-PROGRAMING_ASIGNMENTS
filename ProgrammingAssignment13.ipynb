{
 "cells": [
  {
   "cell_type": "markdown",
   "id": "a59a2649",
   "metadata": {},
   "source": [
    "# Question 1:\n",
    "Write a program that calculates and prints the value according to the given formula:\n",
    "Q = Square root of [(2 * C * D)/H]\n",
    "Following are the fixed values of C and H: -->\n",
    "\n",
    "C is 50. H is 30.\n",
    "\n",
    "D is the variable whose values should be input to your program in a comma-separated sequence.\n",
    "\n",
    "Example\n",
    "\n",
    "Let us assume the following comma separated input sequence is given to the program:\n",
    "\n",
    "100,150,180\n",
    "\n",
    "The output of the program should be:\n",
    "\n",
    "18,22,24 "
   ]
  },
  {
   "cell_type": "code",
   "execution_count": 20,
   "id": "21e01f81",
   "metadata": {
    "ExecuteTime": {
     "end_time": "2022-03-08T13:53:21.338101Z",
     "start_time": "2022-03-08T13:53:21.319104Z"
    }
   },
   "outputs": [
    {
     "data": {
      "text/plain": [
       "[18, 22, 24]"
      ]
     },
     "execution_count": 20,
     "metadata": {},
     "output_type": "execute_result"
    }
   ],
   "source": [
    "C = 50\n",
    "H = 30\n",
    "def calculate_value(d):\n",
    "    result_list=[]\n",
    "    for i in range(len(d)):\n",
    "        value = int(((2 * C * d[i])/H )** 0.5)\n",
    "        result_list.append(value)\n",
    "    return result_list\n",
    "# Checking\n",
    "calculate_value([100,150,180])"
   ]
  },
  {
   "cell_type": "markdown",
   "id": "2c333eb0",
   "metadata": {},
   "source": [
    "# Question 2:\n",
    "Write a program which takes 2 digits, X,Y as input and generates a 2-dimensional array. The element value in the i-th row and j-th column of the array should be i*j.\n",
    "\n",
    "Note: i=0,1.., X-1; j=0,1,¡¬Y-1.\n",
    "\n",
    "Example\n",
    "\n",
    "Suppose the following inputs are given to the program:\n",
    "\n",
    "3,5\n",
    "\n",
    "Then, the output of the program should be:\n",
    "\n",
    "[[0, 0, 0, 0, 0], [0, 1, 2, 3, 4], [0, 2, 4, 6, 8]] \n"
   ]
  },
  {
   "cell_type": "code",
   "execution_count": 22,
   "id": "1e6e82f5",
   "metadata": {
    "ExecuteTime": {
     "end_time": "2022-03-08T13:57:59.238780Z",
     "start_time": "2022-03-08T13:57:55.786295Z"
    }
   },
   "outputs": [
    {
     "name": "stdout",
     "output_type": "stream",
     "text": [
      "Enter number of columns in 2D array:5\n",
      "Enter number of rows in 2D array:3\n",
      "[[0, 0, 0, 0, 0], [0, 1, 2, 3, 4], [0, 2, 4, 6, 8]]\n"
     ]
    }
   ],
   "source": [
    "# First initialize an empty 2D array\n",
    "def twoD_array_generator(cols,rows):\n",
    "    # Intialize all array elements to 0\n",
    "    # Intialize 2D array with all zeros first\n",
    "    my_array =[[0 for col in range(cols)] for row in range(rows)]\n",
    "    for i in range(rows):\n",
    "        for j in range(cols):\n",
    "            my_array[i][j]=i*j\n",
    "    return(my_array)\n",
    "# Check\n",
    "cols=int(input(\"Enter number of columns in 2D array:\"))\n",
    "rows=int(input(\"Enter number of rows in 2D array:\"))\n",
    "result = twoD_array_generator(cols,rows)\n",
    "print(result)"
   ]
  },
  {
   "cell_type": "markdown",
   "id": "bbf36544",
   "metadata": {},
   "source": [
    "\n",
    "# Question 3:\n",
    "Write a program that accepts a comma separated sequence of words as input and prints the words in a comma-separated sequence after sorting them alphabetically.\n",
    "\n",
    "Suppose the following input is supplied to the program:\n",
    "\n",
    "without,hello,bag,world\n",
    "\n",
    "Then, the output should be:\n",
    "\n",
    "bag,hello,without,world\n",
    "\n"
   ]
  },
  {
   "cell_type": "code",
   "execution_count": 28,
   "id": "bf284b89",
   "metadata": {
    "ExecuteTime": {
     "end_time": "2022-03-08T14:14:11.155984Z",
     "start_time": "2022-03-08T14:14:04.796867Z"
    }
   },
   "outputs": [
    {
     "name": "stdout",
     "output_type": "stream",
     "text": [
      "Enter many words in non-alphabetical order separating by ',':without,hello,bag,world\n",
      "bag,hello,without,world\n"
     ]
    }
   ],
   "source": [
    "def sort_alphabetically(text):\n",
    "    myinput = text.split(\",\")\n",
    "    myinput.sort()\n",
    "    result = (',').join(myinput)\n",
    "    return result\n",
    "# Check\n",
    "text = input(\"Enter many words in non-alphabetical order separating by ',':\")\n",
    "print(sort_alphabetically(text))"
   ]
  },
  {
   "cell_type": "markdown",
   "id": "e8d11d7a",
   "metadata": {},
   "source": [
    "# Question 4:\n",
    "Write a program that accepts a sequence of whitespace separated words as input and prints the words after removing all duplicate words and sorting them alphanumerically.\n",
    "\n",
    "Suppose the following input is supplied to the program:\n",
    "\n",
    "hello world and practice makes perfect and hello world again\n",
    "\n",
    "Then, the output should be:\n",
    "\n",
    "again and hello makes perfect practice world\n"
   ]
  },
  {
   "cell_type": "code",
   "execution_count": 4,
   "id": "089e4ae3",
   "metadata": {
    "ExecuteTime": {
     "end_time": "2022-03-08T14:28:34.338069Z",
     "start_time": "2022-03-08T14:28:28.624245Z"
    }
   },
   "outputs": [
    {
     "name": "stdout",
     "output_type": "stream",
     "text": [
      "Enter many words in non-alphabetical order separating by ' ':hello world and practice makes perfect and hello world again\n",
      "['again', 'and', 'hello', 'makes', 'perfect', 'practice', 'world']\n"
     ]
    }
   ],
   "source": [
    "def sort_alphabetically(text):\n",
    "    myinput = text.split(\" \")\n",
    "    myinput.sort()\n",
    "    res = []\n",
    "    for i in myinput:\n",
    "        if i not in res:\n",
    "            res.append(i)\n",
    "    return res\n",
    "# Check\n",
    "text = input(\"Enter many words in non-alphabetical order separating by ' ':\")\n",
    "print(sort_alphabetically(text))"
   ]
  },
  {
   "cell_type": "markdown",
   "id": "c31dcbbc",
   "metadata": {},
   "source": [
    "# Question 5:\n",
    "Write a program that accepts a sentence and calculate the number of letters and digits.\n",
    "\n",
    "Suppose the following input is supplied to the program:\n",
    "\n",
    "hello world! 123\n",
    "\n",
    "Then, the output should be:\n",
    "\n",
    "LETTERS 10\n",
    "\n",
    "DIGITS 3\n"
   ]
  },
  {
   "cell_type": "code",
   "execution_count": 6,
   "id": "ffd83dba",
   "metadata": {
    "ExecuteTime": {
     "end_time": "2022-03-08T14:38:23.285443Z",
     "start_time": "2022-03-08T14:38:18.089142Z"
    }
   },
   "outputs": [
    {
     "name": "stdout",
     "output_type": "stream",
     "text": [
      "Type in some alphanumeric text: hello world! 123\n",
      "Number of letters is 10\n",
      "Number of digits is 3\n"
     ]
    }
   ],
   "source": [
    "# \n",
    "def find_num_char_digits(text):\n",
    "    num_char = 0\n",
    "    num_digit = 0\n",
    "    for i in text:\n",
    "        if i.isalpha():\n",
    "            num_char = num_char + 1\n",
    "        if i.isdigit():\n",
    "            num_digit = num_digit + 1\n",
    "        else:\n",
    "            pass\n",
    "    return num_char,num_digit\n",
    "#\n",
    "text = input(\"Type in some alphanumeric text: \")\n",
    "text = list(text)\n",
    "l,d = find_num_char_digits(text)\n",
    "print(f\"Number of letters is {l}\")\n",
    "print(f\"Number of digits is {d}\")"
   ]
  },
  {
   "cell_type": "markdown",
   "id": "debb5633",
   "metadata": {},
   "source": [
    "# Question 6:\n",
    "A website requires the users to input username and password to register. Write a program to check the validity of password input by users.\n",
    "\n",
    "Following are the criteria for checking the password:\n",
    "\n",
    "1. At least 1 letter between [a-z]\n",
    "\n",
    "2. At least 1 number between [0-9]\n",
    "\n",
    "1. At least 1 letter between [A-Z]\n",
    "\n",
    "3. At least 1 character from [$#@]\n",
    "\n",
    "4. Minimum length of transaction password: 6\n",
    "\n",
    "5. Maximum length of transaction password: 12\n",
    "\n",
    "Your program should accept a sequence of comma separated passwords and will check them according to the above criteria. Passwords that match the criteria are to be printed, each separated by a comma.\n",
    "\n",
    "Example\n",
    "\n",
    "If the following passwords are given as input to the program:\n",
    "\n",
    "ABd1234@1,a F1#,2w3E*,2We3345\n",
    "\n",
    "Then, the output of the program should be:\n",
    "\n",
    "ABd1234@1\n"
   ]
  },
  {
   "cell_type": "code",
   "execution_count": 3,
   "id": "64309496",
   "metadata": {
    "ExecuteTime": {
     "end_time": "2022-03-08T15:50:20.136981Z",
     "start_time": "2022-03-08T15:50:20.088987Z"
    }
   },
   "outputs": [
    {
     "name": "stdout",
     "output_type": "stream",
     "text": [
      "['ABd1234@1']\n"
     ]
    }
   ],
   "source": [
    "import re\n",
    "def check_pass(pass_list):\n",
    "    valid_pass_list = []\n",
    "    for i in pass_list:\n",
    "        if len(i) < 6 or len(i) > 12:      # Too small or too big. Skip \n",
    "            continue\n",
    "        elif not re.search(\"([a-z])+\", i): # letter [a-z] not present. Skip\n",
    "            continue\n",
    "        elif not re.search(\"([A-Z])+\", i): # letter [A-Z] not present. Skip\n",
    "            continue\n",
    "        elif not re.search(\"([0-9])+\", i): # number [0-9] not present. Skip\n",
    "            continue\n",
    "        elif not re.search(\"([!@$])+\", i): # No character from [$#@]. Skip\n",
    "            continue\n",
    "        else:                              # Else add to valid password list\n",
    "            valid_pass_list.append(i)\n",
    "    return(valid_pass_list)\n",
    "# Checking\n",
    "str_list = ['ABd1234@1','a F1#,2w3E*','2We3345']\n",
    "print(check_pass(str_list))"
   ]
  }
 ],
 "metadata": {
  "kernelspec": {
   "display_name": "Python 3 (ipykernel)",
   "language": "python",
   "name": "python3"
  },
  "language_info": {
   "codemirror_mode": {
    "name": "ipython",
    "version": 3
   },
   "file_extension": ".py",
   "mimetype": "text/x-python",
   "name": "python",
   "nbconvert_exporter": "python",
   "pygments_lexer": "ipython3",
   "version": "3.9.7"
  },
  "nbTranslate": {
   "displayLangs": [
    "*"
   ],
   "hotkey": "alt-t",
   "langInMainMenu": true,
   "sourceLang": "en",
   "targetLang": "fr",
   "useGoogleTranslate": true
  },
  "toc": {
   "base_numbering": 1,
   "nav_menu": {},
   "number_sections": true,
   "sideBar": true,
   "skip_h1_title": false,
   "title_cell": "Table of Contents",
   "title_sidebar": "Contents",
   "toc_cell": false,
   "toc_position": {},
   "toc_section_display": true,
   "toc_window_display": false
  }
 },
 "nbformat": 4,
 "nbformat_minor": 5
}
