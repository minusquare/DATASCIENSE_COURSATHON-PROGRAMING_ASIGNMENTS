{
 "cells": [
  {
   "cell_type": "code",
   "execution_count": null,
   "id": "280bf571",
   "metadata": {},
   "outputs": [],
   "source": [
    "# 1.\n",
    "Write a Python program to find words which are greater than given length k?"
   ]
  },
  {
   "cell_type": "code",
   "execution_count": 6,
   "id": "adc0eb47",
   "metadata": {
    "ExecuteTime": {
     "end_time": "2022-03-08T05:01:10.509994Z",
     "start_time": "2022-03-08T05:01:02.474283Z"
    }
   },
   "outputs": [
    {
     "name": "stdout",
     "output_type": "stream",
     "text": [
      "Please enter a sentence: Hello do visit ineuron and one neuron platforms for amazing courses\n",
      "Enter the length longer than which words from sentence are needed: 5\n",
      "The words longer than length 5 in: Hello do visit ineuron and one neuron platforms for amazing courses \n",
      " are ['ineuron', 'neuron', 'platforms', 'amazing', 'courses']\n"
     ]
    }
   ],
   "source": [
    "import string\n",
    "def find_longer_words(sentence,k):\n",
    "    word_list = sentence.split(' ')\n",
    "    long_word_list=[]\n",
    "    for item in word_list:\n",
    "        if len(item)> k:\n",
    "            long_word_list.append(item)\n",
    "    return(long_word_list)\n",
    "#\n",
    "sentence = input(\"Please enter a sentence: \")\n",
    "k = int(input(\"Enter the length longer than which words from sentence are needed: \"))\n",
    "output_list = find_longer_words(sentence,k)\n",
    "print(f\"The words longer than length {k} in: {sentence} \\n are {output_list}\")"
   ]
  },
  {
   "cell_type": "code",
   "execution_count": null,
   "id": "e6c921f8",
   "metadata": {},
   "outputs": [],
   "source": [
    "# 2.\n",
    "Write a Python program for removing i-th character from a string?"
   ]
  },
  {
   "cell_type": "code",
   "execution_count": 11,
   "id": "757b3539",
   "metadata": {
    "ExecuteTime": {
     "end_time": "2022-03-08T05:22:01.050108Z",
     "start_time": "2022-03-08T05:21:45.509282Z"
    }
   },
   "outputs": [
    {
     "name": "stdout",
     "output_type": "stream",
     "text": [
      "Enter your input string:Tejas_Desai\n",
      "Enter order of character you want to remove. (First char is oth)5\n",
      "TejasDesai\n"
     ]
    }
   ],
   "source": [
    "# Removes character at index i\n",
    "def remove_ith_char(input_string, i): \n",
    "    for index in range(len(string)):\n",
    "        if index == i:\n",
    "            input_string = input_string.replace(input_string[i], \"\", 1)\n",
    "    return input_string\n",
    "#\n",
    "mystring = input(\"Enter your input string:\")\n",
    "i = int(input(\"Enter order of character you want to remove. (First char is oth):\"))\n",
    "# Print the new string\n",
    "print(remove_ith_char(mystring, i))"
   ]
  },
  {
   "cell_type": "code",
   "execution_count": null,
   "id": "9fd8801e",
   "metadata": {},
   "outputs": [],
   "source": [
    "# 3.\n",
    "Write a Python program to split and join a string?"
   ]
  },
  {
   "cell_type": "code",
   "execution_count": 14,
   "id": "23dc89ab",
   "metadata": {
    "ExecuteTime": {
     "end_time": "2022-03-08T05:30:10.071541Z",
     "start_time": "2022-03-08T05:30:10.051588Z"
    }
   },
   "outputs": [
    {
     "name": "stdout",
     "output_type": "stream",
     "text": [
      "String after splitting: ['This', 'is', 'my', 'input', 'string']\n",
      "String after joining back: This is my input string\n"
     ]
    }
   ],
   "source": [
    "import string\n",
    "input_str = \"This is my input string\"\n",
    "str_list = input_str.split(\" \")\n",
    "print(f\"String after splitting: {str_list}\")\n",
    "output_str = \" \".join(str_list)\n",
    "print(f\"String after joining back: {output_str}\")"
   ]
  },
  {
   "cell_type": "markdown",
   "id": "4a25c52f",
   "metadata": {
    "ExecuteTime": {
     "end_time": "2022-03-08T05:39:28.751899Z",
     "start_time": "2022-03-08T05:39:28.731902Z"
    }
   },
   "source": [
    "# 4\n",
    "#Write a Python to check if a given string is binary string or not?"
   ]
  },
  {
   "cell_type": "code",
   "execution_count": 22,
   "id": "119745bf",
   "metadata": {
    "ExecuteTime": {
     "end_time": "2022-03-08T05:41:37.747698Z",
     "start_time": "2022-03-08T05:41:37.723707Z"
    }
   },
   "outputs": [
    {
     "name": "stdout",
     "output_type": "stream",
     "text": [
      "True\n",
      "False\n",
      "True\n",
      "False\n"
     ]
    }
   ],
   "source": [
    "def isbinary(string):\n",
    "    flag = False\n",
    "    for char in string:\n",
    "        if char =='0' or char=='1':\n",
    "            flag = True\n",
    "        else:\n",
    "            flag = False\n",
    "    return flag\n",
    "#\n",
    "print(isbinary(\"101011100\"))\n",
    "print(isbinary(\"1011011abc\"))\n",
    "print(isbinary(\"11111111111111\"))\n",
    "print(isbinary(\"#$^101010000111abc\"))"
   ]
  },
  {
   "cell_type": "code",
   "execution_count": 23,
   "id": "700fdf68",
   "metadata": {
    "ExecuteTime": {
     "end_time": "2022-03-08T06:05:45.473442Z",
     "start_time": "2022-03-08T06:05:45.455500Z"
    }
   },
   "outputs": [
    {
     "name": "stdout",
     "output_type": "stream",
     "text": [
      "True\n",
      "False\n",
      "True\n",
      "False\n"
     ]
    }
   ],
   "source": [
    "# Same can be done by regex. here we use regex to find strings which have \n",
    "# characters other than 0 and 1\n",
    "import re\n",
    "def isbinary2(input_string):\n",
    "    flag = False\n",
    "    # regular expression to find the strings WITHOUT 0 AND 1\n",
    "    regex = re.compile('[^01]')\n",
    "# use findall() to get list of strings that have characters other than 0 and 1.\n",
    "    if(len(regex.findall(input_string)) == 0):\n",
    "        flag = True  # if length of list is 0, there are no characters other than 0/1\n",
    "    return flag\n",
    "#\n",
    "print(isbinary2(\"101011100\"))\n",
    "print(isbinary2(\"1011011abc\"))\n",
    "print(isbinary2(\"11111111111111\"))\n",
    "print(isbinary2(\"#$^101010000111abc\"))"
   ]
  },
  {
   "cell_type": "code",
   "execution_count": null,
   "id": "7aebec16",
   "metadata": {},
   "outputs": [],
   "source": [
    "# 5\n",
    "Write a Python program to find uncommon words from two Strings?"
   ]
  },
  {
   "cell_type": "code",
   "execution_count": 42,
   "id": "66c0cc0e",
   "metadata": {
    "ExecuteTime": {
     "end_time": "2022-03-08T06:37:51.062381Z",
     "start_time": "2022-03-08T06:37:51.047382Z"
    }
   },
   "outputs": [
    {
     "name": "stdout",
     "output_type": "stream",
     "text": [
      " Hello first testing And second checking\n"
     ]
    }
   ],
   "source": [
    "import string\n",
    "def find_mismatch(str1,str2):\n",
    "    list1 = str1.split() # Create list1 by str1.split()\n",
    "    list2 = str2.split() # Create list2 by str2.split()\n",
    "    uncommon_words = ''\n",
    "    for i in list1:\n",
    "        if i not in list2:\n",
    "            uncommon_words = uncommon_words + \" \"+i\n",
    "    for j in list2:\n",
    "        if j not in list1:\n",
    "            uncommon_words = uncommon_words + \" \"+j\n",
    "    return uncommon_words\n",
    "#\n",
    "str1 = \"Hello this is first string for testing\"\n",
    "str2 = \"And this is second string for checking\"\n",
    "print(find_mismatch(str1,str2))"
   ]
  },
  {
   "cell_type": "code",
   "execution_count": null,
   "id": "8c6b6ec0",
   "metadata": {},
   "outputs": [],
   "source": [
    "# 6\n",
    "Write a Python to find all duplicate characters in string?"
   ]
  },
  {
   "cell_type": "code",
   "execution_count": 56,
   "id": "d3f66594",
   "metadata": {
    "ExecuteTime": {
     "end_time": "2022-03-08T08:29:46.980866Z",
     "start_time": "2022-03-08T08:29:46.955885Z"
    }
   },
   "outputs": [
    {
     "name": "stdout",
     "output_type": "stream",
     "text": [
      "['m', 'a', 'l']\n"
     ]
    }
   ],
   "source": [
    "import string\n",
    "def find_dup_chars(string):\n",
    "    string = string.lower()\n",
    "    dup_char_list =[]\n",
    "    for char in string:\n",
    "        if string.count(char)>1 and char not in dup_char_list:\n",
    "            dup_char_list.append(char)\n",
    "    return(dup_char_list)\n",
    "print(find_dup_chars(\"Malayalam\"))"
   ]
  },
  {
   "cell_type": "code",
   "execution_count": null,
   "id": "80e97005",
   "metadata": {},
   "outputs": [],
   "source": [
    "# 7\n",
    "Write a Python Program to check if a string contains any special character?"
   ]
  },
  {
   "cell_type": "code",
   "execution_count": 58,
   "id": "bb705f85",
   "metadata": {
    "ExecuteTime": {
     "end_time": "2022-03-08T08:40:46.416614Z",
     "start_time": "2022-03-08T08:40:46.393616Z"
    }
   },
   "outputs": [
    {
     "name": "stdout",
     "output_type": "stream",
     "text": [
      "The string Tejas@abc.com contains special characters\n",
      "The string Tejas Desai does not contain special characters\n"
     ]
    }
   ],
   "source": [
    "import re\n",
    "def find_special_char(string):\n",
    "    regex = re.compile('[@_!#$%^&*()<>?/\\|}{~:]')\n",
    "    if(regex.search(string) == None):\n",
    "        return False\n",
    "    else:\n",
    "        return True\n",
    "string1 = \"Tejas@abc.com\"\n",
    "ans = find_special_char(string1)\n",
    "if ans:\n",
    "    print(f\"The string {string1} contains special characters\")\n",
    "else:\n",
    "    print(f\"The string {string} does not contain special characters\")\n",
    "string2 = \"Tejas Desai\"\n",
    "ans2 = find_special_char(string2)\n",
    "if ans2:\n",
    "    print(f\"The string {string2} contains special characters\")\n",
    "else:\n",
    "    print(f\"The string {string2} does not contain special characters\")"
   ]
  }
 ],
 "metadata": {
  "kernelspec": {
   "display_name": "Python 3 (ipykernel)",
   "language": "python",
   "name": "python3"
  },
  "language_info": {
   "codemirror_mode": {
    "name": "ipython",
    "version": 3
   },
   "file_extension": ".py",
   "mimetype": "text/x-python",
   "name": "python",
   "nbconvert_exporter": "python",
   "pygments_lexer": "ipython3",
   "version": "3.9.7"
  },
  "nbTranslate": {
   "displayLangs": [
    "*"
   ],
   "hotkey": "alt-t",
   "langInMainMenu": true,
   "sourceLang": "en",
   "targetLang": "fr",
   "useGoogleTranslate": true
  },
  "toc": {
   "base_numbering": 1,
   "nav_menu": {},
   "number_sections": true,
   "sideBar": true,
   "skip_h1_title": false,
   "title_cell": "Table of Contents",
   "title_sidebar": "Contents",
   "toc_cell": false,
   "toc_position": {},
   "toc_section_display": true,
   "toc_window_display": false
  }
 },
 "nbformat": 4,
 "nbformat_minor": 5
}
