{
 "cells": [
  {
   "cell_type": "markdown",
   "id": "62998ca8",
   "metadata": {},
   "source": [
    "# 1 \n",
    "Write a Python Program to Find LCM?"
   ]
  },
  {
   "cell_type": "code",
   "execution_count": 4,
   "id": "8a899ff0",
   "metadata": {
    "ExecuteTime": {
     "end_time": "2022-03-05T11:42:36.430388Z",
     "start_time": "2022-03-05T11:42:32.845906Z"
    }
   },
   "outputs": [
    {
     "name": "stdout",
     "output_type": "stream",
     "text": [
      "Enter a positive number: 22\n",
      "Enter another positive number: 56\n",
      "The lcm of 22 and 56 is 616\n"
     ]
    }
   ],
   "source": [
    "# The least common multiple of two numbers is the smallest positive integer \n",
    "# that is divisible by both given numbers. \n",
    "def find_lcm(a,b):\n",
    "    # first find bigger num\n",
    "    if a>b:\n",
    "        bigger = a\n",
    "    else:\n",
    "        bigger = b\n",
    "    # Now use a while loop to find lcm\n",
    "    while(True):\n",
    "    # If the bigger is wholly divisible by both input numbers, it is lcm\n",
    "        if ((bigger %a == 0) and (bigger %b ==0)):\n",
    "            lcm = bigger\n",
    "            break\n",
    "        bigger+=1   # else continue finding lcm\n",
    "    return lcm\n",
    "#\n",
    "a = int(input(\"Enter a positive number: \"))\n",
    "b = int(input(\"Enter another positive number: \"))\n",
    "lcm = find_lcm(a,b)\n",
    "print(f\"The lcm of {a} and {b} is {lcm}\")"
   ]
  },
  {
   "cell_type": "markdown",
   "id": "5dfb1c21",
   "metadata": {},
   "source": [
    "# 2\n",
    "Write a Python Program to Find HCF?"
   ]
  },
  {
   "cell_type": "code",
   "execution_count": 1,
   "id": "f96d30b3",
   "metadata": {
    "ExecuteTime": {
     "end_time": "2022-03-09T11:13:21.435997Z",
     "start_time": "2022-03-09T11:13:17.831167Z"
    }
   },
   "outputs": [
    {
     "name": "stdout",
     "output_type": "stream",
     "text": [
      "Enter a positive number: 12\n",
      "Enter another positive number: 14\n",
      "The HCF of 12 and 14 is 2\n"
     ]
    }
   ],
   "source": [
    "## The highest common factor (H.C.F) or greatest common divisor (G.C.D) of two\n",
    "# numbers is the largest positive integer that perfectly divides the two given \n",
    "# numbers\n",
    "def find_HCF(a,b):\n",
    "    # first find smaller num\n",
    "    if a>b:\n",
    "        smaller = b\n",
    "    else:\n",
    "        smaller = a\n",
    "    # Now use a for loop to find lcm\n",
    "    for i in range(1,smaller + 1):\n",
    "    # If the a and b is wholly divisible by both input numbers, it is lcm\n",
    "        if ((a%i == 0) and (b%i == 0)):\n",
    "            hcf = i\n",
    "    return hcf\n",
    "#\n",
    "#\n",
    "a = int(input(\"Enter a positive number: \"))\n",
    "b = int(input(\"Enter another positive number: \"))\n",
    "hcf = find_HCF(a,b)\n",
    "print(f\"The HCF of {a} and {b} is {hcf}\")"
   ]
  },
  {
   "cell_type": "markdown",
   "id": "aa333de1",
   "metadata": {},
   "source": [
    "# 3\n",
    "Write a Python Program to Convert Decimal to Binary, Octal and Hexadecimal?"
   ]
  },
  {
   "cell_type": "code",
   "execution_count": 7,
   "id": "8d117847",
   "metadata": {
    "ExecuteTime": {
     "end_time": "2022-03-09T11:43:43.892066Z",
     "start_time": "2022-03-09T11:43:43.856090Z"
    }
   },
   "outputs": [
    {
     "name": "stdout",
     "output_type": "stream",
     "text": [
      "[1, 1, 1, 1, 1, 0, 0, 1, 1, 1]\n",
      "1111100111\n",
      "[1, 7, 4, 7]\n",
      "1747\n",
      "[3, 14, 7]\n",
      "3147\n"
     ]
    }
   ],
   "source": [
    "# Decimal to binary,Octal,Hexadecimal using basics\n",
    "# we can define a general function which can convert to any  base b\n",
    "# THEN WE WILL PROVIDE b = 2,6,8\n",
    "# BUT SAME FUNCTION CAN BE USED TO CONVERT TO OCTAL b=8 OR \n",
    "# HEXADECIMAL b=6\n",
    "def numberToBase(n, b):\n",
    "    if n == 0:\n",
    "        return [0]\n",
    "    digits = []\n",
    "    while n:\n",
    "        digits.append(int(n % b))\n",
    "        n //= b\n",
    "    ans_list = digits[::-1]\n",
    "    print(ans_list)\n",
    "    ans = \"\".join(str(e)for e in ans_list)\n",
    "    return ans\n",
    "# CHECKING\n",
    "print(numberToBase(999,2))\n",
    "print(numberToBase(999,8))\n",
    "print(numberToBase(999,16)) # Gives 3147=3(14)7=3×16²+14×16¹+7×16⁰ =999\n",
    "                            # SO 3147 is same as 3e7\n"
   ]
  },
  {
   "cell_type": "code",
   "execution_count": 17,
   "id": "96b84c6e",
   "metadata": {
    "ExecuteTime": {
     "end_time": "2022-03-05T12:08:07.358100Z",
     "start_time": "2022-03-05T12:07:58.725874Z"
    }
   },
   "outputs": [
    {
     "name": "stdout",
     "output_type": "stream",
     "text": [
      "Enter a decimal number:999\n",
      "If decimal number is 999, binary is 0b1111100111, octal is 0o1747, hexadecimal is 0x3e7\n"
     ]
    }
   ],
   "source": [
    "# Decimal to binary,Octal,Hexadecimal using buit-in methods\n",
    "def change_base(dec_num):\n",
    "    bin_num = bin(dec_num)\n",
    "    oct_num = oct(dec_num)\n",
    "    hex_num = hex(dec_num)\n",
    "    return bin_num,oct_num,hex_num\n",
    "#\n",
    "dec_num = int(input(\"Enter a decimal number:\"))\n",
    "#\n",
    "a,b,c = change_base(dec_num)\n",
    "print(f\"If decimal number is {dec_num}, binary is {a}, octal is {b}, hexadecimal is {c}\")"
   ]
  },
  {
   "cell_type": "markdown",
   "id": "c6e99c90",
   "metadata": {},
   "source": [
    "# 4\n",
    "Write a Python Program To Find ASCII value of a character?"
   ]
  },
  {
   "cell_type": "code",
   "execution_count": 21,
   "id": "b599de1e",
   "metadata": {
    "ExecuteTime": {
     "end_time": "2022-03-05T12:18:04.913327Z",
     "start_time": "2022-03-05T12:18:02.041082Z"
    }
   },
   "outputs": [
    {
     "name": "stdout",
     "output_type": "stream",
     "text": [
      "Enter a character:A\n",
      "ASCII value of the character is: 65\n"
     ]
    }
   ],
   "source": [
    "# Built-in function ord() is used to find the ASCII value of a character\n",
    "input_char = input(\"Enter a character:\")\n",
    "ascii_char = ord(input_char)\n",
    "print(f\"ASCII value of the character is: {ascii_char}\")"
   ]
  },
  {
   "cell_type": "markdown",
   "id": "7373e168",
   "metadata": {},
   "source": [
    "# 5\n",
    "Write a Python Program to Make a Simple Calculator with 4 basic mathematical operations?"
   ]
  },
  {
   "cell_type": "code",
   "execution_count": 31,
   "id": "b2bcdd22",
   "metadata": {
    "ExecuteTime": {
     "end_time": "2022-03-05T12:36:52.240217Z",
     "start_time": "2022-03-05T12:36:43.694862Z"
    }
   },
   "outputs": [
    {
     "name": "stdout",
     "output_type": "stream",
     "text": [
      "Enter first number: 10\n",
      "Enter second number: 5\n",
      "Enter any one operation from: add,subtract,multiply,divide: divide\n",
      "2.0\n"
     ]
    }
   ],
   "source": [
    "def calculate(num1,num2,operation):\n",
    "    if operation == \"add\":\n",
    "        return num1 + num2\n",
    "    elif operation == \"subtract\":\n",
    "        return num1 - num2\n",
    "    elif operation == \"multiply\":\n",
    "        return num1 * num2\n",
    "    elif operation == \"divide\":\n",
    "        return num1/num2\n",
    "    else:\n",
    "        return(\"Invalid operation\")\n",
    "#\n",
    "num1 = float(input(\"Enter first number: \"))\n",
    "num2 = float(input(\"Enter second number: \"))\n",
    "operation = input(\"Enter any one operation from: add,subtract,multiply,divide: \")\n",
    "ans=calculate(10,5,operation)\n",
    "print(ans)"
   ]
  }
 ],
 "metadata": {
  "kernelspec": {
   "display_name": "Python 3 (ipykernel)",
   "language": "python",
   "name": "python3"
  },
  "language_info": {
   "codemirror_mode": {
    "name": "ipython",
    "version": 3
   },
   "file_extension": ".py",
   "mimetype": "text/x-python",
   "name": "python",
   "nbconvert_exporter": "python",
   "pygments_lexer": "ipython3",
   "version": "3.9.7"
  },
  "nbTranslate": {
   "displayLangs": [
    "*"
   ],
   "hotkey": "alt-t",
   "langInMainMenu": true,
   "sourceLang": "en",
   "targetLang": "fr",
   "useGoogleTranslate": true
  },
  "toc": {
   "base_numbering": 1,
   "nav_menu": {},
   "number_sections": true,
   "sideBar": true,
   "skip_h1_title": false,
   "title_cell": "Table of Contents",
   "title_sidebar": "Contents",
   "toc_cell": false,
   "toc_position": {},
   "toc_section_display": true,
   "toc_window_display": false
  }
 },
 "nbformat": 4,
 "nbformat_minor": 5
}
