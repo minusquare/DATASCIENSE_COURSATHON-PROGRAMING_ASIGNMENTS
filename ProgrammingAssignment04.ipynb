{
 "cells": [
  {
   "cell_type": "markdown",
   "id": "708dd9c0",
   "metadata": {},
   "source": [
    "# 1.\n",
    "Write a Python Program to Find the Factorial of a Number?"
   ]
  },
  {
   "cell_type": "code",
   "execution_count": 6,
   "id": "9e34c9da",
   "metadata": {
    "ExecuteTime": {
     "end_time": "2022-03-05T03:52:20.656170Z",
     "start_time": "2022-03-05T03:52:16.606790Z"
    }
   },
   "outputs": [
    {
     "name": "stdout",
     "output_type": "stream",
     "text": [
      "Enter a positive integer whose factorial is required:5\n"
     ]
    },
    {
     "data": {
      "text/plain": [
       "120"
      ]
     },
     "execution_count": 6,
     "metadata": {},
     "output_type": "execute_result"
    }
   ],
   "source": [
    "def give_factorial(n):\n",
    "    if n==1:\n",
    "        return n\n",
    "    else:\n",
    "        return n * give_factorial(n-1)\n",
    "#\n",
    "num = int(input(\"Enter a positive integer whose factorial is required:\"))\n",
    "give_factorial(num)"
   ]
  },
  {
   "cell_type": "markdown",
   "id": "abfa211a",
   "metadata": {},
   "source": [
    "# 2 \n",
    "Write a Python Program to Display the multiplication Table?"
   ]
  },
  {
   "cell_type": "code",
   "execution_count": 10,
   "id": "bc5167d8",
   "metadata": {
    "ExecuteTime": {
     "end_time": "2022-03-05T03:57:15.509763Z",
     "start_time": "2022-03-05T03:57:12.346441Z"
    }
   },
   "outputs": [
    {
     "name": "stdout",
     "output_type": "stream",
     "text": [
      "Enter a positive integer whose multiplication table is required:8\n",
      "8*1=8\n",
      "\n",
      "8*2=16\n",
      "\n",
      "8*3=24\n",
      "\n",
      "8*4=32\n",
      "\n",
      "8*5=40\n",
      "\n",
      "8*6=48\n",
      "\n",
      "8*7=56\n",
      "\n",
      "8*8=64\n",
      "\n",
      "8*9=72\n",
      "\n",
      "8*10=80\n",
      "\n"
     ]
    }
   ],
   "source": [
    "def give_mult_table(n):\n",
    "    for i in range (1,11):\n",
    "        print(f\"{n}*{i}={ n*i}\\n\")\n",
    "num = int(input(\"Enter a positive integer whose multiplication table is required:\"))\n",
    "give_mult_table(num)"
   ]
  },
  {
   "cell_type": "markdown",
   "id": "80b2a7e2",
   "metadata": {},
   "source": [
    "# 3 \n",
    "Write a Python Program to Print the Fibonacci sequence?\n"
   ]
  },
  {
   "cell_type": "code",
   "execution_count": 19,
   "id": "8997e677",
   "metadata": {
    "ExecuteTime": {
     "end_time": "2022-03-05T04:10:22.069464Z",
     "start_time": "2022-03-05T04:10:19.011683Z"
    }
   },
   "outputs": [
    {
     "name": "stdout",
     "output_type": "stream",
     "text": [
      "Enter the value of 'num' i.e. terms of fibonacci series you want: 20\n",
      "Fibonacci Series: 0,1,1,2,3,5,8,13,21,34,55,89,144,233,377,610,987,1597,2584,4181,"
     ]
    }
   ],
   "source": [
    "# The fibonacci series is \n",
    "# 0,1,1,2,3,5,8,13,21,34,55,89,144,233,377,610,987,1597,2584,4181.\n",
    "def Fibonacci_series(n):\n",
    "    if(n == 0):\n",
    "        return 0\n",
    "    elif(n == 1):\n",
    "        return 1\n",
    "    else:\n",
    "        return (Fibonacci_series(n-1) + Fibonacci_series(n-2))\n",
    "\n",
    "num = int(input(\"Enter the value of 'num' i.e. terms of fibonacci series you want: \"))\n",
    "print(\"Fibonacci Series:\", end = ' ')\n",
    "for num in range(0, num):\n",
    "    print(Fibonacci_series(num), end = ',')"
   ]
  },
  {
   "cell_type": "markdown",
   "id": "9890dffb",
   "metadata": {},
   "source": [
    "# 4 \n",
    "Write a Python Program to Check Armstrong Number?"
   ]
  },
  {
   "cell_type": "code",
   "execution_count": 14,
   "id": "5246a983",
   "metadata": {
    "ExecuteTime": {
     "end_time": "2022-03-05T11:13:36.674488Z",
     "start_time": "2022-03-05T11:13:16.266690Z"
    }
   },
   "outputs": [
    {
     "name": "stdout",
     "output_type": "stream",
     "text": [
      "Enter a number: 371\n",
      "371  is an Armstrong number\n"
     ]
    }
   ],
   "source": [
    "# if the sum of cubes of each digit of a number is equal to number itself we\n",
    "# conclude that it is Armstrong number.\n",
    "# E.g. 153 = 1*1*1 + 5*5*5 + 3*3*3, \n",
    "# E.g. 370 = 3*3*3 + 7*7*7 + 0*0*0\n",
    "# E.g. 371 = 3*3*3 + 7*7*7 + 1*1*1\n",
    "# E.g. 407 = 4* 4* 4 + 0 + 7*7*7\n",
    "\n",
    "# take input from the user\n",
    "num = int(input(\"Enter a number: \"))\n",
    "\n",
    "# initialize sum\n",
    "sum = 0\n",
    "\n",
    "# find the sum of the cube of each digit\n",
    "temp = num\n",
    "while temp > 0:\n",
    "   digit = temp % 10\n",
    "   sum += digit ** 3\n",
    "   temp //= 10\n",
    "# display the result\n",
    "if num == sum:\n",
    "   print(num,\" is an Armstrong number\")\n",
    "else:\n",
    "   print(num,\" is not an Armstrong number\")"
   ]
  },
  {
   "cell_type": "markdown",
   "id": "8c45fd38",
   "metadata": {},
   "source": [
    "# 5 \n",
    "Write a Python Program to Find Armstrong Number in an Interval?\n"
   ]
  },
  {
   "cell_type": "code",
   "execution_count": 15,
   "id": "db0eacfa",
   "metadata": {
    "ExecuteTime": {
     "end_time": "2022-03-05T11:16:05.624886Z",
     "start_time": "2022-03-05T11:15:57.879539Z"
    }
   },
   "outputs": [
    {
     "name": "stdout",
     "output_type": "stream",
     "text": [
      "Enter a 3 digit number as lower bound of range:100\n",
      "Enter a bigger 3  digit number as upper bound of range:500\n",
      "[153, 370, 371, 407]\n"
     ]
    }
   ],
   "source": [
    "def is_Armstrong(a,b):\n",
    "    sum = 0\n",
    "    # Program to check Armstrong numbers in a certain interval\n",
    "    armstrong_list = []\n",
    "    for num in range(a, b + 1):\n",
    "        # order of number\n",
    "        order = len(str(num))\n",
    "       # initialize sum\n",
    "        sum = 0\n",
    "        temp = num\n",
    "        while temp > 0:\n",
    "            digit = temp % 10\n",
    "            sum += digit ** order\n",
    "            temp //= 10\n",
    "        if num == sum:\n",
    "            armstrong_list.append(num)\n",
    "    return armstrong_list\n",
    "\n",
    "a = int(input(\"Enter a 3 digit number as lower bound of range:\"))\n",
    "b = int(input(\"Enter a bigger 3  digit number as upper bound of range:\"))\n",
    "print(is_Armstrong(a,b))"
   ]
  },
  {
   "cell_type": "markdown",
   "id": "2a4fb6d4",
   "metadata": {},
   "source": [
    "# 6\n",
    "Write a Python Program to Find the Sum of Natural Numbers?"
   ]
  },
  {
   "cell_type": "code",
   "execution_count": 18,
   "id": "6a0e393e",
   "metadata": {
    "ExecuteTime": {
     "end_time": "2022-03-05T11:16:55.533174Z",
     "start_time": "2022-03-05T11:16:53.666776Z"
    }
   },
   "outputs": [
    {
     "name": "stdout",
     "output_type": "stream",
     "text": [
      "please enter the number of natural numbers you want to find sum of: 5\n",
      "sum of first 5 natural numbers is:15\n"
     ]
    }
   ],
   "source": [
    "def sum_naturals(n):\n",
    "    sum =0\n",
    "    num=1\n",
    "    while (num <= n):\n",
    "        sum+=num\n",
    "        num+=1\n",
    "    return sum\n",
    "num = int(input('please enter the number of natural numbers you want to find sum of: '))\n",
    "total=sum_naturals(num)\n",
    "print('sum of first ' + str(num) + ' natural numbers is:'+ str(total))\n",
    "    "
   ]
  }
 ],
 "metadata": {
  "kernelspec": {
   "display_name": "Python 3 (ipykernel)",
   "language": "python",
   "name": "python3"
  },
  "language_info": {
   "codemirror_mode": {
    "name": "ipython",
    "version": 3
   },
   "file_extension": ".py",
   "mimetype": "text/x-python",
   "name": "python",
   "nbconvert_exporter": "python",
   "pygments_lexer": "ipython3",
   "version": "3.9.7"
  },
  "nbTranslate": {
   "displayLangs": [
    "*"
   ],
   "hotkey": "alt-t",
   "langInMainMenu": true,
   "sourceLang": "en",
   "targetLang": "fr",
   "useGoogleTranslate": true
  },
  "toc": {
   "base_numbering": 1,
   "nav_menu": {},
   "number_sections": true,
   "sideBar": true,
   "skip_h1_title": false,
   "title_cell": "Table of Contents",
   "title_sidebar": "Contents",
   "toc_cell": false,
   "toc_position": {},
   "toc_section_display": true,
   "toc_window_display": false
  }
 },
 "nbformat": 4,
 "nbformat_minor": 5
}
